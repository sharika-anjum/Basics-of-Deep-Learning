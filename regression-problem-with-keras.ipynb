{
 "cells": [
  {
   "cell_type": "code",
   "execution_count": 1,
   "metadata": {
    "_cell_guid": "b1076dfc-b9ad-4769-8c92-a6c4dae69d19",
    "_uuid": "8f2839f25d086af736a60e9eeb907d3b93b6e0e5",
    "execution": {
     "iopub.execute_input": "2020-09-11T15:42:31.306050Z",
     "iopub.status.busy": "2020-09-11T15:42:31.305134Z",
     "iopub.status.idle": "2020-09-11T15:42:31.323543Z",
     "shell.execute_reply": "2020-09-11T15:42:31.324190Z"
    },
    "papermill": {
     "duration": 0.047859,
     "end_time": "2020-09-11T15:42:31.324390",
     "exception": false,
     "start_time": "2020-09-11T15:42:31.276531",
     "status": "completed"
    },
    "tags": []
   },
   "outputs": [
    {
     "name": "stdout",
     "output_type": "stream",
     "text": [
      "/kaggle/input/graduate-admissions/Admission_Predict.csv\n",
      "/kaggle/input/graduate-admissions/Admission_Predict_Ver1.1.csv\n"
     ]
    }
   ],
   "source": [
    "# This Python 3 environment comes with many helpful analytics libraries installed\n",
    "# It is defined by the kaggle/python Docker image: https://github.com/kaggle/docker-python\n",
    "# For example, here's several helpful packages to load\n",
    "\n",
    "import numpy as np # linear algebra\n",
    "import pandas as pd # data processing, CSV file I/O (e.g. pd.read_csv)\n",
    "\n",
    "# Input data files are available in the read-only \"../input/\" directory\n",
    "# For example, running this (by clicking run or pressing Shift+Enter) will list all files under the input directory\n",
    "\n",
    "import os\n",
    "for dirname, _, filenames in os.walk('/kaggle/input'):\n",
    "    for filename in filenames:\n",
    "        print(os.path.join(dirname, filename))\n",
    "\n",
    "# You can write up to 5GB to the current directory (/kaggle/working/) that gets preserved as output when you create a version using \"Save & Run All\" \n",
    "# You can also write temporary files to /kaggle/temp/, but they won't be saved outside of the current session"
   ]
  },
  {
   "cell_type": "code",
   "execution_count": 2,
   "metadata": {
    "_cell_guid": "79c7e3d0-c299-4dcb-8224-4455121ee9b0",
    "_uuid": "d629ff2d2480ee46fbb7e2d37f6b5fab8052498a",
    "execution": {
     "iopub.execute_input": "2020-09-11T15:42:31.372669Z",
     "iopub.status.busy": "2020-09-11T15:42:31.371939Z",
     "iopub.status.idle": "2020-09-11T15:42:31.387426Z",
     "shell.execute_reply": "2020-09-11T15:42:31.386626Z"
    },
    "papermill": {
     "duration": 0.042897,
     "end_time": "2020-09-11T15:42:31.387554",
     "exception": false,
     "start_time": "2020-09-11T15:42:31.344657",
     "status": "completed"
    },
    "tags": []
   },
   "outputs": [],
   "source": [
    "df=pd.read_csv('/kaggle/input/graduate-admissions/Admission_Predict.csv')"
   ]
  },
  {
   "cell_type": "markdown",
   "metadata": {
    "papermill": {
     "duration": 0.019166,
     "end_time": "2020-09-11T15:42:31.426398",
     "exception": false,
     "start_time": "2020-09-11T15:42:31.407232",
     "status": "completed"
    },
    "tags": []
   },
   "source": [
    "**This notebook gives an idea about how Keras works with Regression Problems**"
   ]
  },
  {
   "cell_type": "code",
   "execution_count": 3,
   "metadata": {
    "execution": {
     "iopub.execute_input": "2020-09-11T15:42:31.472660Z",
     "iopub.status.busy": "2020-09-11T15:42:31.471806Z",
     "iopub.status.idle": "2020-09-11T15:42:31.476620Z",
     "shell.execute_reply": "2020-09-11T15:42:31.475919Z"
    },
    "papermill": {
     "duration": 0.030984,
     "end_time": "2020-09-11T15:42:31.476742",
     "exception": false,
     "start_time": "2020-09-11T15:42:31.445758",
     "status": "completed"
    },
    "tags": []
   },
   "outputs": [
    {
     "data": {
      "text/plain": [
       "(400, 9)"
      ]
     },
     "execution_count": 3,
     "metadata": {},
     "output_type": "execute_result"
    }
   ],
   "source": [
    "df.shape"
   ]
  },
  {
   "cell_type": "code",
   "execution_count": 4,
   "metadata": {
    "execution": {
     "iopub.execute_input": "2020-09-11T15:42:31.536664Z",
     "iopub.status.busy": "2020-09-11T15:42:31.535848Z",
     "iopub.status.idle": "2020-09-11T15:42:31.547294Z",
     "shell.execute_reply": "2020-09-11T15:42:31.546527Z"
    },
    "papermill": {
     "duration": 0.048876,
     "end_time": "2020-09-11T15:42:31.547421",
     "exception": false,
     "start_time": "2020-09-11T15:42:31.498545",
     "status": "completed"
    },
    "tags": []
   },
   "outputs": [
    {
     "data": {
      "text/html": [
       "<div>\n",
       "<style scoped>\n",
       "    .dataframe tbody tr th:only-of-type {\n",
       "        vertical-align: middle;\n",
       "    }\n",
       "\n",
       "    .dataframe tbody tr th {\n",
       "        vertical-align: top;\n",
       "    }\n",
       "\n",
       "    .dataframe thead th {\n",
       "        text-align: right;\n",
       "    }\n",
       "</style>\n",
       "<table border=\"1\" class=\"dataframe\">\n",
       "  <thead>\n",
       "    <tr style=\"text-align: right;\">\n",
       "      <th></th>\n",
       "      <th>Serial No.</th>\n",
       "      <th>GRE Score</th>\n",
       "      <th>TOEFL Score</th>\n",
       "      <th>University Rating</th>\n",
       "      <th>SOP</th>\n",
       "      <th>LOR</th>\n",
       "      <th>CGPA</th>\n",
       "      <th>Research</th>\n",
       "      <th>Chance of Admit</th>\n",
       "    </tr>\n",
       "  </thead>\n",
       "  <tbody>\n",
       "    <tr>\n",
       "      <th>331</th>\n",
       "      <td>332</td>\n",
       "      <td>311</td>\n",
       "      <td>105</td>\n",
       "      <td>2</td>\n",
       "      <td>3.0</td>\n",
       "      <td>2.0</td>\n",
       "      <td>8.12</td>\n",
       "      <td>1</td>\n",
       "      <td>0.73</td>\n",
       "    </tr>\n",
       "    <tr>\n",
       "      <th>183</th>\n",
       "      <td>184</td>\n",
       "      <td>314</td>\n",
       "      <td>110</td>\n",
       "      <td>3</td>\n",
       "      <td>4.0</td>\n",
       "      <td>4.0</td>\n",
       "      <td>8.80</td>\n",
       "      <td>0</td>\n",
       "      <td>0.75</td>\n",
       "    </tr>\n",
       "    <tr>\n",
       "      <th>89</th>\n",
       "      <td>90</td>\n",
       "      <td>316</td>\n",
       "      <td>109</td>\n",
       "      <td>4</td>\n",
       "      <td>4.5</td>\n",
       "      <td>3.5</td>\n",
       "      <td>8.76</td>\n",
       "      <td>1</td>\n",
       "      <td>0.74</td>\n",
       "    </tr>\n",
       "  </tbody>\n",
       "</table>\n",
       "</div>"
      ],
      "text/plain": [
       "     Serial No.  GRE Score  TOEFL Score  University Rating  SOP  LOR   CGPA  \\\n",
       "331         332        311          105                  2  3.0   2.0  8.12   \n",
       "183         184        314          110                  3  4.0   4.0  8.80   \n",
       "89           90        316          109                  4  4.5   3.5  8.76   \n",
       "\n",
       "     Research  Chance of Admit   \n",
       "331         1              0.73  \n",
       "183         0              0.75  \n",
       "89          1              0.74  "
      ]
     },
     "execution_count": 4,
     "metadata": {},
     "output_type": "execute_result"
    }
   ],
   "source": [
    "df.sample(3)"
   ]
  },
  {
   "cell_type": "code",
   "execution_count": 5,
   "metadata": {
    "execution": {
     "iopub.execute_input": "2020-09-11T15:42:31.599063Z",
     "iopub.status.busy": "2020-09-11T15:42:31.597801Z",
     "iopub.status.idle": "2020-09-11T15:42:31.602577Z",
     "shell.execute_reply": "2020-09-11T15:42:31.601797Z"
    },
    "papermill": {
     "duration": 0.033882,
     "end_time": "2020-09-11T15:42:31.602707",
     "exception": false,
     "start_time": "2020-09-11T15:42:31.568825",
     "status": "completed"
    },
    "tags": []
   },
   "outputs": [
    {
     "data": {
      "text/plain": [
       "Serial No.           0\n",
       "GRE Score            0\n",
       "TOEFL Score          0\n",
       "University Rating    0\n",
       "SOP                  0\n",
       "LOR                  0\n",
       "CGPA                 0\n",
       "Research             0\n",
       "Chance of Admit      0\n",
       "dtype: int64"
      ]
     },
     "execution_count": 5,
     "metadata": {},
     "output_type": "execute_result"
    }
   ],
   "source": [
    "df.isnull().sum()"
   ]
  },
  {
   "cell_type": "code",
   "execution_count": 6,
   "metadata": {
    "execution": {
     "iopub.execute_input": "2020-09-11T15:42:31.660133Z",
     "iopub.status.busy": "2020-09-11T15:42:31.659197Z",
     "iopub.status.idle": "2020-09-11T15:42:31.662985Z",
     "shell.execute_reply": "2020-09-11T15:42:31.662237Z"
    },
    "papermill": {
     "duration": 0.038476,
     "end_time": "2020-09-11T15:42:31.663110",
     "exception": false,
     "start_time": "2020-09-11T15:42:31.624634",
     "status": "completed"
    },
    "tags": []
   },
   "outputs": [],
   "source": [
    "df.drop(columns=['Serial No.'],inplace=True)"
   ]
  },
  {
   "cell_type": "code",
   "execution_count": 7,
   "metadata": {
    "execution": {
     "iopub.execute_input": "2020-09-11T15:42:31.723149Z",
     "iopub.status.busy": "2020-09-11T15:42:31.722105Z",
     "iopub.status.idle": "2020-09-11T15:42:31.726696Z",
     "shell.execute_reply": "2020-09-11T15:42:31.727244Z"
    },
    "papermill": {
     "duration": 0.042216,
     "end_time": "2020-09-11T15:42:31.727413",
     "exception": false,
     "start_time": "2020-09-11T15:42:31.685197",
     "status": "completed"
    },
    "tags": []
   },
   "outputs": [
    {
     "data": {
      "text/html": [
       "<div>\n",
       "<style scoped>\n",
       "    .dataframe tbody tr th:only-of-type {\n",
       "        vertical-align: middle;\n",
       "    }\n",
       "\n",
       "    .dataframe tbody tr th {\n",
       "        vertical-align: top;\n",
       "    }\n",
       "\n",
       "    .dataframe thead th {\n",
       "        text-align: right;\n",
       "    }\n",
       "</style>\n",
       "<table border=\"1\" class=\"dataframe\">\n",
       "  <thead>\n",
       "    <tr style=\"text-align: right;\">\n",
       "      <th></th>\n",
       "      <th>GRE Score</th>\n",
       "      <th>TOEFL Score</th>\n",
       "      <th>University Rating</th>\n",
       "      <th>SOP</th>\n",
       "      <th>LOR</th>\n",
       "      <th>CGPA</th>\n",
       "      <th>Research</th>\n",
       "      <th>Chance of Admit</th>\n",
       "    </tr>\n",
       "  </thead>\n",
       "  <tbody>\n",
       "    <tr>\n",
       "      <th>0</th>\n",
       "      <td>337</td>\n",
       "      <td>118</td>\n",
       "      <td>4</td>\n",
       "      <td>4.5</td>\n",
       "      <td>4.5</td>\n",
       "      <td>9.65</td>\n",
       "      <td>1</td>\n",
       "      <td>0.92</td>\n",
       "    </tr>\n",
       "    <tr>\n",
       "      <th>1</th>\n",
       "      <td>324</td>\n",
       "      <td>107</td>\n",
       "      <td>4</td>\n",
       "      <td>4.0</td>\n",
       "      <td>4.5</td>\n",
       "      <td>8.87</td>\n",
       "      <td>1</td>\n",
       "      <td>0.76</td>\n",
       "    </tr>\n",
       "    <tr>\n",
       "      <th>2</th>\n",
       "      <td>316</td>\n",
       "      <td>104</td>\n",
       "      <td>3</td>\n",
       "      <td>3.0</td>\n",
       "      <td>3.5</td>\n",
       "      <td>8.00</td>\n",
       "      <td>1</td>\n",
       "      <td>0.72</td>\n",
       "    </tr>\n",
       "    <tr>\n",
       "      <th>3</th>\n",
       "      <td>322</td>\n",
       "      <td>110</td>\n",
       "      <td>3</td>\n",
       "      <td>3.5</td>\n",
       "      <td>2.5</td>\n",
       "      <td>8.67</td>\n",
       "      <td>1</td>\n",
       "      <td>0.80</td>\n",
       "    </tr>\n",
       "    <tr>\n",
       "      <th>4</th>\n",
       "      <td>314</td>\n",
       "      <td>103</td>\n",
       "      <td>2</td>\n",
       "      <td>2.0</td>\n",
       "      <td>3.0</td>\n",
       "      <td>8.21</td>\n",
       "      <td>0</td>\n",
       "      <td>0.65</td>\n",
       "    </tr>\n",
       "  </tbody>\n",
       "</table>\n",
       "</div>"
      ],
      "text/plain": [
       "   GRE Score  TOEFL Score  University Rating  SOP  LOR   CGPA  Research  \\\n",
       "0        337          118                  4  4.5   4.5  9.65         1   \n",
       "1        324          107                  4  4.0   4.5  8.87         1   \n",
       "2        316          104                  3  3.0   3.5  8.00         1   \n",
       "3        322          110                  3  3.5   2.5  8.67         1   \n",
       "4        314          103                  2  2.0   3.0  8.21         0   \n",
       "\n",
       "   Chance of Admit   \n",
       "0              0.92  \n",
       "1              0.76  \n",
       "2              0.72  \n",
       "3              0.80  \n",
       "4              0.65  "
      ]
     },
     "execution_count": 7,
     "metadata": {},
     "output_type": "execute_result"
    }
   ],
   "source": [
    "df.head()"
   ]
  },
  {
   "cell_type": "code",
   "execution_count": 8,
   "metadata": {
    "execution": {
     "iopub.execute_input": "2020-09-11T15:42:31.780575Z",
     "iopub.status.busy": "2020-09-11T15:42:31.779753Z",
     "iopub.status.idle": "2020-09-11T15:42:31.783413Z",
     "shell.execute_reply": "2020-09-11T15:42:31.782707Z"
    },
    "papermill": {
     "duration": 0.033413,
     "end_time": "2020-09-11T15:42:31.783537",
     "exception": false,
     "start_time": "2020-09-11T15:42:31.750124",
     "status": "completed"
    },
    "tags": []
   },
   "outputs": [],
   "source": [
    "X=df.iloc[:,:-1].values\n",
    "y=df.iloc[:,-1].values"
   ]
  },
  {
   "cell_type": "code",
   "execution_count": 9,
   "metadata": {
    "execution": {
     "iopub.execute_input": "2020-09-11T15:42:31.835548Z",
     "iopub.status.busy": "2020-09-11T15:42:31.834658Z",
     "iopub.status.idle": "2020-09-11T15:42:32.944173Z",
     "shell.execute_reply": "2020-09-11T15:42:32.943320Z"
    },
    "papermill": {
     "duration": 1.137869,
     "end_time": "2020-09-11T15:42:32.944320",
     "exception": false,
     "start_time": "2020-09-11T15:42:31.806451",
     "status": "completed"
    },
    "tags": []
   },
   "outputs": [],
   "source": [
    "from sklearn.preprocessing import StandardScaler\n",
    "scaler = StandardScaler()"
   ]
  },
  {
   "cell_type": "code",
   "execution_count": 10,
   "metadata": {
    "execution": {
     "iopub.execute_input": "2020-09-11T15:42:32.998794Z",
     "iopub.status.busy": "2020-09-11T15:42:32.997817Z",
     "iopub.status.idle": "2020-09-11T15:42:33.002534Z",
     "shell.execute_reply": "2020-09-11T15:42:33.001913Z"
    },
    "papermill": {
     "duration": 0.034409,
     "end_time": "2020-09-11T15:42:33.002656",
     "exception": false,
     "start_time": "2020-09-11T15:42:32.968247",
     "status": "completed"
    },
    "tags": []
   },
   "outputs": [],
   "source": [
    "X = scaler.fit_transform(X)"
   ]
  },
  {
   "cell_type": "code",
   "execution_count": 11,
   "metadata": {
    "execution": {
     "iopub.execute_input": "2020-09-11T15:42:33.057784Z",
     "iopub.status.busy": "2020-09-11T15:42:33.056946Z",
     "iopub.status.idle": "2020-09-11T15:42:33.123959Z",
     "shell.execute_reply": "2020-09-11T15:42:33.123153Z"
    },
    "papermill": {
     "duration": 0.098363,
     "end_time": "2020-09-11T15:42:33.124091",
     "exception": false,
     "start_time": "2020-09-11T15:42:33.025728",
     "status": "completed"
    },
    "tags": []
   },
   "outputs": [],
   "source": [
    "from sklearn.model_selection import train_test_split\n",
    "X_train,X_test,y_train,y_test=train_test_split(X,y,test_size=0.1,random_state=0)"
   ]
  },
  {
   "cell_type": "code",
   "execution_count": 12,
   "metadata": {
    "execution": {
     "iopub.execute_input": "2020-09-11T15:42:33.177439Z",
     "iopub.status.busy": "2020-09-11T15:42:33.176629Z",
     "iopub.status.idle": "2020-09-11T15:42:39.698437Z",
     "shell.execute_reply": "2020-09-11T15:42:39.697741Z"
    },
    "papermill": {
     "duration": 6.550891,
     "end_time": "2020-09-11T15:42:39.698571",
     "exception": false,
     "start_time": "2020-09-11T15:42:33.147680",
     "status": "completed"
    },
    "tags": []
   },
   "outputs": [],
   "source": [
    "import tensorflow\n",
    "from tensorflow import keras\n",
    "from tensorflow.keras import Sequential\n",
    "from tensorflow.keras.layers import Dense"
   ]
  },
  {
   "cell_type": "code",
   "execution_count": 13,
   "metadata": {
    "execution": {
     "iopub.execute_input": "2020-09-11T15:42:39.752418Z",
     "iopub.status.busy": "2020-09-11T15:42:39.751367Z",
     "iopub.status.idle": "2020-09-11T15:42:39.828291Z",
     "shell.execute_reply": "2020-09-11T15:42:39.827464Z"
    },
    "papermill": {
     "duration": 0.105457,
     "end_time": "2020-09-11T15:42:39.828425",
     "exception": false,
     "start_time": "2020-09-11T15:42:39.722968",
     "status": "completed"
    },
    "tags": []
   },
   "outputs": [],
   "source": [
    "model = Sequential()"
   ]
  },
  {
   "cell_type": "code",
   "execution_count": 14,
   "metadata": {
    "execution": {
     "iopub.execute_input": "2020-09-11T15:42:39.887053Z",
     "iopub.status.busy": "2020-09-11T15:42:39.886222Z",
     "iopub.status.idle": "2020-09-11T15:42:39.946511Z",
     "shell.execute_reply": "2020-09-11T15:42:39.945786Z"
    },
    "papermill": {
     "duration": 0.09438,
     "end_time": "2020-09-11T15:42:39.946646",
     "exception": false,
     "start_time": "2020-09-11T15:42:39.852266",
     "status": "completed"
    },
    "tags": []
   },
   "outputs": [],
   "source": [
    "model.add(Dense(7,activation='relu',input_dim=X_train.shape[1]))\n",
    "model.add(Dense(7,activation='relu'))\n",
    "model.add(Dense(1,activation='linear'))"
   ]
  },
  {
   "cell_type": "code",
   "execution_count": 15,
   "metadata": {
    "execution": {
     "iopub.execute_input": "2020-09-11T15:42:40.003160Z",
     "iopub.status.busy": "2020-09-11T15:42:40.002200Z",
     "iopub.status.idle": "2020-09-11T15:42:40.006345Z",
     "shell.execute_reply": "2020-09-11T15:42:40.006914Z"
    },
    "papermill": {
     "duration": 0.036085,
     "end_time": "2020-09-11T15:42:40.007086",
     "exception": false,
     "start_time": "2020-09-11T15:42:39.971001",
     "status": "completed"
    },
    "tags": []
   },
   "outputs": [
    {
     "name": "stdout",
     "output_type": "stream",
     "text": [
      "Model: \"sequential\"\n",
      "_________________________________________________________________\n",
      "Layer (type)                 Output Shape              Param #   \n",
      "=================================================================\n",
      "dense (Dense)                (None, 7)                 56        \n",
      "_________________________________________________________________\n",
      "dense_1 (Dense)              (None, 7)                 56        \n",
      "_________________________________________________________________\n",
      "dense_2 (Dense)              (None, 1)                 8         \n",
      "=================================================================\n",
      "Total params: 120\n",
      "Trainable params: 120\n",
      "Non-trainable params: 0\n",
      "_________________________________________________________________\n"
     ]
    }
   ],
   "source": [
    "model.summary()"
   ]
  },
  {
   "cell_type": "code",
   "execution_count": 16,
   "metadata": {
    "execution": {
     "iopub.execute_input": "2020-09-11T15:42:40.070385Z",
     "iopub.status.busy": "2020-09-11T15:42:40.069570Z",
     "iopub.status.idle": "2020-09-11T15:42:40.076721Z",
     "shell.execute_reply": "2020-09-11T15:42:40.077370Z"
    },
    "papermill": {
     "duration": 0.046041,
     "end_time": "2020-09-11T15:42:40.077531",
     "exception": false,
     "start_time": "2020-09-11T15:42:40.031490",
     "status": "completed"
    },
    "tags": []
   },
   "outputs": [],
   "source": [
    "model.compile(optimizer='Adam',loss='mean_squared_error')"
   ]
  },
  {
   "cell_type": "code",
   "execution_count": 17,
   "metadata": {
    "execution": {
     "iopub.execute_input": "2020-09-11T15:42:40.134954Z",
     "iopub.status.busy": "2020-09-11T15:42:40.134172Z",
     "iopub.status.idle": "2020-09-11T15:42:47.028058Z",
     "shell.execute_reply": "2020-09-11T15:42:47.028924Z"
    },
    "papermill": {
     "duration": 6.927035,
     "end_time": "2020-09-11T15:42:47.029134",
     "exception": false,
     "start_time": "2020-09-11T15:42:40.102099",
     "status": "completed"
    },
    "tags": []
   },
   "outputs": [
    {
     "name": "stdout",
     "output_type": "stream",
     "text": [
      "Epoch 1/100\n",
      "29/29 [==============================] - 0s 6ms/step - loss: 0.2102 - val_loss: 0.1964\n",
      "Epoch 2/100\n",
      "29/29 [==============================] - 0s 2ms/step - loss: 0.1470 - val_loss: 0.1506\n",
      "Epoch 3/100\n",
      "29/29 [==============================] - 0s 2ms/step - loss: 0.1080 - val_loss: 0.1268\n",
      "Epoch 4/100\n",
      "29/29 [==============================] - 0s 2ms/step - loss: 0.0816 - val_loss: 0.1030\n",
      "Epoch 5/100\n",
      "29/29 [==============================] - 0s 2ms/step - loss: 0.0640 - val_loss: 0.0927\n",
      "Epoch 6/100\n",
      "29/29 [==============================] - 0s 2ms/step - loss: 0.0521 - val_loss: 0.0803\n",
      "Epoch 7/100\n",
      "29/29 [==============================] - 0s 2ms/step - loss: 0.0433 - val_loss: 0.0707\n",
      "Epoch 8/100\n",
      "29/29 [==============================] - 0s 2ms/step - loss: 0.0368 - val_loss: 0.0626\n",
      "Epoch 9/100\n",
      "29/29 [==============================] - 0s 2ms/step - loss: 0.0319 - val_loss: 0.0578\n",
      "Epoch 10/100\n",
      "29/29 [==============================] - 0s 2ms/step - loss: 0.0278 - val_loss: 0.0512\n",
      "Epoch 11/100\n",
      "29/29 [==============================] - 0s 2ms/step - loss: 0.0246 - val_loss: 0.0472\n",
      "Epoch 12/100\n",
      "29/29 [==============================] - 0s 2ms/step - loss: 0.0222 - val_loss: 0.0431\n",
      "Epoch 13/100\n",
      "29/29 [==============================] - 0s 2ms/step - loss: 0.0201 - val_loss: 0.0394\n",
      "Epoch 14/100\n",
      "29/29 [==============================] - 0s 2ms/step - loss: 0.0185 - val_loss: 0.0364\n",
      "Epoch 15/100\n",
      "29/29 [==============================] - 0s 2ms/step - loss: 0.0171 - val_loss: 0.0335\n",
      "Epoch 16/100\n",
      "29/29 [==============================] - 0s 2ms/step - loss: 0.0158 - val_loss: 0.0317\n",
      "Epoch 17/100\n",
      "29/29 [==============================] - 0s 2ms/step - loss: 0.0149 - val_loss: 0.0293\n",
      "Epoch 18/100\n",
      "29/29 [==============================] - 0s 2ms/step - loss: 0.0139 - val_loss: 0.0286\n",
      "Epoch 19/100\n",
      "29/29 [==============================] - 0s 2ms/step - loss: 0.0132 - val_loss: 0.0263\n",
      "Epoch 20/100\n",
      "29/29 [==============================] - 0s 2ms/step - loss: 0.0126 - val_loss: 0.0257\n",
      "Epoch 21/100\n",
      "29/29 [==============================] - 0s 2ms/step - loss: 0.0119 - val_loss: 0.0240\n",
      "Epoch 22/100\n",
      "29/29 [==============================] - 0s 2ms/step - loss: 0.0113 - val_loss: 0.0235\n",
      "Epoch 23/100\n",
      "29/29 [==============================] - 0s 2ms/step - loss: 0.0109 - val_loss: 0.0222\n",
      "Epoch 24/100\n",
      "29/29 [==============================] - 0s 2ms/step - loss: 0.0104 - val_loss: 0.0214\n",
      "Epoch 25/100\n",
      "29/29 [==============================] - 0s 2ms/step - loss: 0.0101 - val_loss: 0.0212\n",
      "Epoch 26/100\n",
      "29/29 [==============================] - 0s 2ms/step - loss: 0.0096 - val_loss: 0.0205\n",
      "Epoch 27/100\n",
      "29/29 [==============================] - 0s 2ms/step - loss: 0.0093 - val_loss: 0.0196\n",
      "Epoch 28/100\n",
      "29/29 [==============================] - 0s 2ms/step - loss: 0.0089 - val_loss: 0.0192\n",
      "Epoch 29/100\n",
      "29/29 [==============================] - 0s 2ms/step - loss: 0.0087 - val_loss: 0.0187\n",
      "Epoch 30/100\n",
      "29/29 [==============================] - 0s 2ms/step - loss: 0.0084 - val_loss: 0.0183\n",
      "Epoch 31/100\n",
      "29/29 [==============================] - 0s 2ms/step - loss: 0.0081 - val_loss: 0.0179\n",
      "Epoch 32/100\n",
      "29/29 [==============================] - 0s 2ms/step - loss: 0.0079 - val_loss: 0.0173\n",
      "Epoch 33/100\n",
      "29/29 [==============================] - 0s 2ms/step - loss: 0.0076 - val_loss: 0.0169\n",
      "Epoch 34/100\n",
      "29/29 [==============================] - 0s 2ms/step - loss: 0.0074 - val_loss: 0.0167\n",
      "Epoch 35/100\n",
      "29/29 [==============================] - 0s 2ms/step - loss: 0.0072 - val_loss: 0.0161\n",
      "Epoch 36/100\n",
      "29/29 [==============================] - 0s 2ms/step - loss: 0.0070 - val_loss: 0.0155\n",
      "Epoch 37/100\n",
      "29/29 [==============================] - 0s 2ms/step - loss: 0.0069 - val_loss: 0.0151\n",
      "Epoch 38/100\n",
      "29/29 [==============================] - 0s 2ms/step - loss: 0.0069 - val_loss: 0.0148\n",
      "Epoch 39/100\n",
      "29/29 [==============================] - 0s 2ms/step - loss: 0.0066 - val_loss: 0.0147\n",
      "Epoch 40/100\n",
      "29/29 [==============================] - 0s 2ms/step - loss: 0.0065 - val_loss: 0.0145\n",
      "Epoch 41/100\n",
      "29/29 [==============================] - 0s 2ms/step - loss: 0.0062 - val_loss: 0.0141\n",
      "Epoch 42/100\n",
      "29/29 [==============================] - 0s 2ms/step - loss: 0.0062 - val_loss: 0.0137\n",
      "Epoch 43/100\n",
      "29/29 [==============================] - 0s 2ms/step - loss: 0.0060 - val_loss: 0.0136\n",
      "Epoch 44/100\n",
      "29/29 [==============================] - 0s 2ms/step - loss: 0.0059 - val_loss: 0.0133\n",
      "Epoch 45/100\n",
      "29/29 [==============================] - 0s 2ms/step - loss: 0.0058 - val_loss: 0.0133\n",
      "Epoch 46/100\n",
      "29/29 [==============================] - 0s 2ms/step - loss: 0.0058 - val_loss: 0.0128\n",
      "Epoch 47/100\n",
      "29/29 [==============================] - 0s 2ms/step - loss: 0.0057 - val_loss: 0.0128\n",
      "Epoch 48/100\n",
      "29/29 [==============================] - 0s 2ms/step - loss: 0.0056 - val_loss: 0.0127\n",
      "Epoch 49/100\n",
      "29/29 [==============================] - 0s 2ms/step - loss: 0.0055 - val_loss: 0.0127\n",
      "Epoch 50/100\n",
      "29/29 [==============================] - 0s 2ms/step - loss: 0.0055 - val_loss: 0.0123\n",
      "Epoch 51/100\n",
      "29/29 [==============================] - 0s 2ms/step - loss: 0.0054 - val_loss: 0.0121\n",
      "Epoch 52/100\n",
      "29/29 [==============================] - 0s 2ms/step - loss: 0.0055 - val_loss: 0.0121\n",
      "Epoch 53/100\n",
      "29/29 [==============================] - 0s 2ms/step - loss: 0.0053 - val_loss: 0.0119\n",
      "Epoch 54/100\n",
      "29/29 [==============================] - 0s 2ms/step - loss: 0.0053 - val_loss: 0.0119\n",
      "Epoch 55/100\n",
      "29/29 [==============================] - 0s 2ms/step - loss: 0.0052 - val_loss: 0.0114\n",
      "Epoch 56/100\n",
      "29/29 [==============================] - 0s 2ms/step - loss: 0.0052 - val_loss: 0.0116\n",
      "Epoch 57/100\n",
      "29/29 [==============================] - 0s 2ms/step - loss: 0.0051 - val_loss: 0.0114\n",
      "Epoch 58/100\n",
      "29/29 [==============================] - 0s 2ms/step - loss: 0.0050 - val_loss: 0.0113\n",
      "Epoch 59/100\n",
      "29/29 [==============================] - 0s 2ms/step - loss: 0.0050 - val_loss: 0.0111\n",
      "Epoch 60/100\n",
      "29/29 [==============================] - 0s 2ms/step - loss: 0.0050 - val_loss: 0.0109\n",
      "Epoch 61/100\n",
      "29/29 [==============================] - 0s 2ms/step - loss: 0.0050 - val_loss: 0.0109\n",
      "Epoch 62/100\n",
      "29/29 [==============================] - 0s 2ms/step - loss: 0.0049 - val_loss: 0.0107\n",
      "Epoch 63/100\n",
      "29/29 [==============================] - 0s 2ms/step - loss: 0.0049 - val_loss: 0.0107\n",
      "Epoch 64/100\n",
      "29/29 [==============================] - 0s 2ms/step - loss: 0.0048 - val_loss: 0.0107\n",
      "Epoch 65/100\n",
      "29/29 [==============================] - 0s 2ms/step - loss: 0.0048 - val_loss: 0.0109\n",
      "Epoch 66/100\n",
      "29/29 [==============================] - 0s 2ms/step - loss: 0.0047 - val_loss: 0.0108\n",
      "Epoch 67/100\n",
      "29/29 [==============================] - 0s 2ms/step - loss: 0.0046 - val_loss: 0.0105\n",
      "Epoch 68/100\n",
      "29/29 [==============================] - 0s 2ms/step - loss: 0.0046 - val_loss: 0.0106\n",
      "Epoch 69/100\n",
      "29/29 [==============================] - 0s 2ms/step - loss: 0.0046 - val_loss: 0.0104\n",
      "Epoch 70/100\n",
      "29/29 [==============================] - 0s 2ms/step - loss: 0.0046 - val_loss: 0.0106\n",
      "Epoch 71/100\n",
      "29/29 [==============================] - 0s 3ms/step - loss: 0.0044 - val_loss: 0.0103\n",
      "Epoch 72/100\n",
      "29/29 [==============================] - 0s 2ms/step - loss: 0.0044 - val_loss: 0.0101\n",
      "Epoch 73/100\n",
      "29/29 [==============================] - 0s 2ms/step - loss: 0.0044 - val_loss: 0.0101\n",
      "Epoch 74/100\n",
      "29/29 [==============================] - 0s 2ms/step - loss: 0.0046 - val_loss: 0.0100\n",
      "Epoch 75/100\n",
      "29/29 [==============================] - 0s 2ms/step - loss: 0.0043 - val_loss: 0.0100\n",
      "Epoch 76/100\n",
      "29/29 [==============================] - 0s 2ms/step - loss: 0.0044 - val_loss: 0.0098\n",
      "Epoch 77/100\n",
      "29/29 [==============================] - 0s 2ms/step - loss: 0.0042 - val_loss: 0.0098\n",
      "Epoch 78/100\n",
      "29/29 [==============================] - 0s 2ms/step - loss: 0.0042 - val_loss: 0.0096\n",
      "Epoch 79/100\n",
      "29/29 [==============================] - 0s 2ms/step - loss: 0.0042 - val_loss: 0.0094\n",
      "Epoch 80/100\n",
      "29/29 [==============================] - 0s 2ms/step - loss: 0.0043 - val_loss: 0.0095\n",
      "Epoch 81/100\n",
      "29/29 [==============================] - 0s 2ms/step - loss: 0.0041 - val_loss: 0.0092\n",
      "Epoch 82/100\n",
      "29/29 [==============================] - 0s 2ms/step - loss: 0.0041 - val_loss: 0.0091\n",
      "Epoch 83/100\n",
      "29/29 [==============================] - 0s 2ms/step - loss: 0.0041 - val_loss: 0.0094\n",
      "Epoch 84/100\n",
      "29/29 [==============================] - 0s 2ms/step - loss: 0.0041 - val_loss: 0.0090\n",
      "Epoch 85/100\n",
      "29/29 [==============================] - 0s 2ms/step - loss: 0.0041 - val_loss: 0.0090\n",
      "Epoch 86/100\n",
      "29/29 [==============================] - 0s 2ms/step - loss: 0.0040 - val_loss: 0.0090\n",
      "Epoch 87/100\n",
      "29/29 [==============================] - 0s 2ms/step - loss: 0.0039 - val_loss: 0.0090\n",
      "Epoch 88/100\n",
      "29/29 [==============================] - 0s 2ms/step - loss: 0.0039 - val_loss: 0.0089\n",
      "Epoch 89/100\n",
      "29/29 [==============================] - 0s 2ms/step - loss: 0.0039 - val_loss: 0.0087\n",
      "Epoch 90/100\n",
      "29/29 [==============================] - 0s 2ms/step - loss: 0.0038 - val_loss: 0.0087\n",
      "Epoch 91/100\n",
      "29/29 [==============================] - 0s 2ms/step - loss: 0.0039 - val_loss: 0.0086\n",
      "Epoch 92/100\n",
      "29/29 [==============================] - 0s 2ms/step - loss: 0.0038 - val_loss: 0.0085\n",
      "Epoch 93/100\n",
      "29/29 [==============================] - 0s 2ms/step - loss: 0.0039 - val_loss: 0.0084\n",
      "Epoch 94/100\n",
      "29/29 [==============================] - 0s 2ms/step - loss: 0.0038 - val_loss: 0.0083\n",
      "Epoch 95/100\n",
      "29/29 [==============================] - 0s 2ms/step - loss: 0.0038 - val_loss: 0.0086\n",
      "Epoch 96/100\n",
      "29/29 [==============================] - 0s 2ms/step - loss: 0.0038 - val_loss: 0.0083\n",
      "Epoch 97/100\n",
      "29/29 [==============================] - 0s 2ms/step - loss: 0.0037 - val_loss: 0.0084\n",
      "Epoch 98/100\n",
      "29/29 [==============================] - 0s 2ms/step - loss: 0.0037 - val_loss: 0.0082\n",
      "Epoch 99/100\n",
      "29/29 [==============================] - 0s 2ms/step - loss: 0.0037 - val_loss: 0.0082\n",
      "Epoch 100/100\n",
      "29/29 [==============================] - 0s 2ms/step - loss: 0.0037 - val_loss: 0.0080\n"
     ]
    }
   ],
   "source": [
    "history = model.fit(X_train,y_train,epochs=100,batch_size=10,verbose=1,validation_split=0.2)"
   ]
  },
  {
   "cell_type": "code",
   "execution_count": 18,
   "metadata": {
    "execution": {
     "iopub.execute_input": "2020-09-11T15:42:47.273041Z",
     "iopub.status.busy": "2020-09-11T15:42:47.271921Z",
     "iopub.status.idle": "2020-09-11T15:42:47.408200Z",
     "shell.execute_reply": "2020-09-11T15:42:47.407434Z"
    },
    "papermill": {
     "duration": 0.255061,
     "end_time": "2020-09-11T15:42:47.408350",
     "exception": false,
     "start_time": "2020-09-11T15:42:47.153289",
     "status": "completed"
    },
    "tags": []
   },
   "outputs": [],
   "source": [
    "y_pred=model.predict(X_test)"
   ]
  },
  {
   "cell_type": "code",
   "execution_count": 19,
   "metadata": {
    "execution": {
     "iopub.execute_input": "2020-09-11T15:42:47.628299Z",
     "iopub.status.busy": "2020-09-11T15:42:47.627434Z",
     "iopub.status.idle": "2020-09-11T15:42:47.632346Z",
     "shell.execute_reply": "2020-09-11T15:42:47.631675Z"
    },
    "papermill": {
     "duration": 0.117607,
     "end_time": "2020-09-11T15:42:47.632473",
     "exception": false,
     "start_time": "2020-09-11T15:42:47.514866",
     "status": "completed"
    },
    "tags": []
   },
   "outputs": [
    {
     "data": {
      "text/plain": [
       "0.5605922102387706"
      ]
     },
     "execution_count": 19,
     "metadata": {},
     "output_type": "execute_result"
    }
   ],
   "source": [
    "from sklearn.metrics import r2_score\n",
    "r2_score(y_test,y_pred)"
   ]
  },
  {
   "cell_type": "markdown",
   "metadata": {
    "papermill": {
     "duration": 0.105881,
     "end_time": "2020-09-11T15:42:47.844988",
     "exception": false,
     "start_time": "2020-09-11T15:42:47.739107",
     "status": "completed"
    },
    "tags": []
   },
   "source": [
    "Model evaluation and improvements\n",
    "\n",
    "1. increase epochs\n",
    "2. Add more layers\n",
    "3. increase the no. of nodes in the hidden layer"
   ]
  },
  {
   "cell_type": "code",
   "execution_count": 20,
   "metadata": {
    "execution": {
     "iopub.execute_input": "2020-09-11T15:42:48.072240Z",
     "iopub.status.busy": "2020-09-11T15:42:48.070932Z",
     "iopub.status.idle": "2020-09-11T15:42:48.076462Z",
     "shell.execute_reply": "2020-09-11T15:42:48.077078Z"
    },
    "papermill": {
     "duration": 0.124898,
     "end_time": "2020-09-11T15:42:48.077242",
     "exception": false,
     "start_time": "2020-09-11T15:42:47.952344",
     "status": "completed"
    },
    "tags": []
   },
   "outputs": [
    {
     "data": {
      "text/plain": [
       "{'loss': [0.21016034483909607,\n",
       "  0.14695030450820923,\n",
       "  0.10795922577381134,\n",
       "  0.08157627284526825,\n",
       "  0.06404004991054535,\n",
       "  0.05207158625125885,\n",
       "  0.04330209642648697,\n",
       "  0.0367656871676445,\n",
       "  0.03185306116938591,\n",
       "  0.02777102217078209,\n",
       "  0.024594705551862717,\n",
       "  0.022235356271266937,\n",
       "  0.02011527679860592,\n",
       "  0.01848413050174713,\n",
       "  0.017101582139730453,\n",
       "  0.01582888513803482,\n",
       "  0.014870895072817802,\n",
       "  0.013944165781140327,\n",
       "  0.013177912682294846,\n",
       "  0.01257702149450779,\n",
       "  0.011904817074537277,\n",
       "  0.01132213044911623,\n",
       "  0.010868418961763382,\n",
       "  0.010389885865151882,\n",
       "  0.010061491280794144,\n",
       "  0.009591782465577126,\n",
       "  0.009278527460992336,\n",
       "  0.008931552991271019,\n",
       "  0.008744560182094574,\n",
       "  0.008365217596292496,\n",
       "  0.008144382387399673,\n",
       "  0.00792013481259346,\n",
       "  0.00762537308037281,\n",
       "  0.007422134280204773,\n",
       "  0.0071706026792526245,\n",
       "  0.006987639702856541,\n",
       "  0.006939557380974293,\n",
       "  0.006871519610285759,\n",
       "  0.006576139945536852,\n",
       "  0.00653334753587842,\n",
       "  0.006248367950320244,\n",
       "  0.006155245006084442,\n",
       "  0.006004454102367163,\n",
       "  0.0059334393590688705,\n",
       "  0.005839156918227673,\n",
       "  0.005770200863480568,\n",
       "  0.0056893532164394855,\n",
       "  0.005563292186707258,\n",
       "  0.0055473241955041885,\n",
       "  0.005506867077201605,\n",
       "  0.005421957932412624,\n",
       "  0.005456123501062393,\n",
       "  0.0053107296116650105,\n",
       "  0.005281917285174131,\n",
       "  0.005203554406762123,\n",
       "  0.005155686754733324,\n",
       "  0.005111983045935631,\n",
       "  0.005043022334575653,\n",
       "  0.005007566884160042,\n",
       "  0.005007593892514706,\n",
       "  0.004980755504220724,\n",
       "  0.004914026707410812,\n",
       "  0.004933929070830345,\n",
       "  0.0048406533896923065,\n",
       "  0.004831585101783276,\n",
       "  0.004726110491901636,\n",
       "  0.004624928813427687,\n",
       "  0.00459054671227932,\n",
       "  0.004615350626409054,\n",
       "  0.004550555720925331,\n",
       "  0.004446723498404026,\n",
       "  0.004414662253111601,\n",
       "  0.004430324770510197,\n",
       "  0.004553407430648804,\n",
       "  0.004268592689186335,\n",
       "  0.004423877689987421,\n",
       "  0.004212175030261278,\n",
       "  0.004206715617328882,\n",
       "  0.004227384924888611,\n",
       "  0.0042502665892243385,\n",
       "  0.004051920957863331,\n",
       "  0.004107325337827206,\n",
       "  0.004069788381457329,\n",
       "  0.0041239624843001366,\n",
       "  0.004070757422596216,\n",
       "  0.003989748656749725,\n",
       "  0.0039040218107402325,\n",
       "  0.0039466735906898975,\n",
       "  0.003888253588229418,\n",
       "  0.0038469743449240923,\n",
       "  0.0038805592339485884,\n",
       "  0.0037830781657248735,\n",
       "  0.0038691279478371143,\n",
       "  0.003794838674366474,\n",
       "  0.003783534048125148,\n",
       "  0.0037594756577163935,\n",
       "  0.003739598672837019,\n",
       "  0.0036958609707653522,\n",
       "  0.003695463528856635,\n",
       "  0.003679949324578047],\n",
       " 'val_loss': [0.19637246429920197,\n",
       "  0.15063567459583282,\n",
       "  0.12679773569107056,\n",
       "  0.10297563672065735,\n",
       "  0.09274166077375412,\n",
       "  0.08031025528907776,\n",
       "  0.0706641748547554,\n",
       "  0.06258729100227356,\n",
       "  0.05781906843185425,\n",
       "  0.05123795196413994,\n",
       "  0.04720240458846092,\n",
       "  0.043127913028001785,\n",
       "  0.03944190964102745,\n",
       "  0.03639993816614151,\n",
       "  0.03346342593431473,\n",
       "  0.0316602848470211,\n",
       "  0.029294200241565704,\n",
       "  0.02858927473425865,\n",
       "  0.026258673518896103,\n",
       "  0.025742558762431145,\n",
       "  0.02404462732374668,\n",
       "  0.023531503975391388,\n",
       "  0.022247079759836197,\n",
       "  0.0214410200715065,\n",
       "  0.021173987537622452,\n",
       "  0.02051309309899807,\n",
       "  0.01960316300392151,\n",
       "  0.019239334389567375,\n",
       "  0.018736908212304115,\n",
       "  0.01831955648958683,\n",
       "  0.017894379794597626,\n",
       "  0.017324695363640785,\n",
       "  0.016948338598012924,\n",
       "  0.01666586846113205,\n",
       "  0.016096491366624832,\n",
       "  0.015545280650258064,\n",
       "  0.015112891793251038,\n",
       "  0.014848372898995876,\n",
       "  0.014698877930641174,\n",
       "  0.014469108544290066,\n",
       "  0.014060407876968384,\n",
       "  0.013658378273248672,\n",
       "  0.013631531037390232,\n",
       "  0.013281423598527908,\n",
       "  0.013294006697833538,\n",
       "  0.012830596417188644,\n",
       "  0.012843278236687183,\n",
       "  0.012703273445367813,\n",
       "  0.012735307216644287,\n",
       "  0.012333553284406662,\n",
       "  0.01208782009780407,\n",
       "  0.012110192328691483,\n",
       "  0.011876624077558517,\n",
       "  0.011883514001965523,\n",
       "  0.01142085064202547,\n",
       "  0.011606989428400993,\n",
       "  0.011439958587288857,\n",
       "  0.011341436766088009,\n",
       "  0.011059570126235485,\n",
       "  0.010865468531847,\n",
       "  0.010855074971914291,\n",
       "  0.0107254134491086,\n",
       "  0.010693829506635666,\n",
       "  0.010720702819526196,\n",
       "  0.010936560109257698,\n",
       "  0.010754423215985298,\n",
       "  0.010536674410104752,\n",
       "  0.010609237477183342,\n",
       "  0.010366889648139477,\n",
       "  0.01060415804386139,\n",
       "  0.010345912538468838,\n",
       "  0.010101276449859142,\n",
       "  0.010120362974703312,\n",
       "  0.009978026151657104,\n",
       "  0.00997423566877842,\n",
       "  0.009769209660589695,\n",
       "  0.009760214947164059,\n",
       "  0.00960832741111517,\n",
       "  0.009353444911539555,\n",
       "  0.009499774314463139,\n",
       "  0.009184617549180984,\n",
       "  0.009132206439971924,\n",
       "  0.009436793625354767,\n",
       "  0.009043407626450062,\n",
       "  0.009024003520607948,\n",
       "  0.008985345251858234,\n",
       "  0.008995944634079933,\n",
       "  0.00886562094092369,\n",
       "  0.008743993937969208,\n",
       "  0.008697433397173882,\n",
       "  0.00859379954636097,\n",
       "  0.00847688503563404,\n",
       "  0.008418280631303787,\n",
       "  0.00830913707613945,\n",
       "  0.008565402589738369,\n",
       "  0.008313105441629887,\n",
       "  0.008415689691901207,\n",
       "  0.008174490183591843,\n",
       "  0.00820184126496315,\n",
       "  0.007987461984157562]}"
      ]
     },
     "execution_count": 20,
     "metadata": {},
     "output_type": "execute_result"
    }
   ],
   "source": [
    "history.history\n",
    "\n"
   ]
  },
  {
   "cell_type": "code",
   "execution_count": 21,
   "metadata": {
    "execution": {
     "iopub.execute_input": "2020-09-11T15:42:48.302792Z",
     "iopub.status.busy": "2020-09-11T15:42:48.301877Z",
     "iopub.status.idle": "2020-09-11T15:42:48.532640Z",
     "shell.execute_reply": "2020-09-11T15:42:48.531871Z"
    },
    "papermill": {
     "duration": 0.346011,
     "end_time": "2020-09-11T15:42:48.532765",
     "exception": false,
     "start_time": "2020-09-11T15:42:48.186754",
     "status": "completed"
    },
    "tags": []
   },
   "outputs": [
    {
     "data": {
      "text/plain": [
       "[<matplotlib.lines.Line2D at 0x7f11a4616490>]"
      ]
     },
     "execution_count": 21,
     "metadata": {},
     "output_type": "execute_result"
    },
    {
     "data": {
      "image/png": "[encoded data removed]",
      "text/plain": [
       "<Figure size 432x288 with 1 Axes>"
      ]
     },
     "metadata": {
      "needs_background": "light"
     },
     "output_type": "display_data"
    }
   ],
   "source": [
    "import matplotlib.pyplot as plt\n",
    "plt.plot(history.history['loss'])\n",
    "plt.plot(history.history['val_loss'])"
   ]
  },
  {
   "cell_type": "markdown",
   "metadata": {
    "papermill": {
     "duration": 0.108303,
     "end_time": "2020-09-11T15:42:48.749375",
     "exception": false,
     "start_time": "2020-09-11T15:42:48.641072",
     "status": "completed"
    },
    "tags": []
   },
   "source": [
    "**CONCLUSION**\n",
    "\n",
    "* Clearly visible overfitted on training data. And the more layers we need the more it will overfit.\n",
    "* More the no. of nodes, less epochs is needed and the model will stabelise faster.\n",
    "* Also, more the no. of layers, less epochs will be needed."
   ]
  },
  {
   "cell_type": "code",
   "execution_count": null,
   "metadata": {
    "papermill": {
     "duration": 0.108289,
     "end_time": "2020-09-11T15:42:48.966160",
     "exception": false,
     "start_time": "2020-09-11T15:42:48.857871",
     "status": "completed"
    },
    "tags": []
   },
   "outputs": [],
   "source": []
  }
 ],
 "metadata": {
  "kernelspec": {
   "display_name": "Python 3",
   "language": "python",
   "name": "python3"
  },
  "language_info": {
   "codemirror_mode": {
    "name": "ipython",
    "version": 3
   },
   "file_extension": ".py",
   "mimetype": "text/x-python",
   "name": "python",
   "nbconvert_exporter": "python",
   "pygments_lexer": "ipython3",
   "version": "3.7.6"
  },
  "papermill": {
   "duration": 23.228122,
   "end_time": "2020-09-11T15:42:49.187307",
   "environment_variables": {},
   "exception": null,
   "input_path": "__notebook__.ipynb",
   "output_path": "__notebook__.ipynb",
   "parameters": {},
   "start_time": "2020-09-11T15:42:25.959185",
   "version": "2.1.0"
  }
 },
 "nbformat": 4,
 "nbformat_minor": 4
}
