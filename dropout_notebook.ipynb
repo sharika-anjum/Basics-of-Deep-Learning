{
  "nbformat": 4,
  "nbformat_minor": 0,
  "metadata": {
    "colab": {
      "name": "dropout-notebook.ipynb",
      "provenance": [],
      "collapsed_sections": []
    },
    "kernelspec": {
      "name": "python3",
      "display_name": "Python 3"
    },
    "accelerator": "GPU"
  },
  "cells": [
    {
      "cell_type": "code",
      "metadata": {
        "id": "3tFGgFKexKF1",
        "colab_type": "code",
        "colab": {}
      },
      "source": [
        "import tensorflow as tf\n",
        "import numpy as np\n",
        "import matplotlib.pyplot as plt\n",
        "from tensorflow.keras.models import Sequential\n",
        "from tensorflow.keras.layers import Dense\n",
        "from tensorflow.keras.layers import Dropout\n",
        "from tensorflow.keras.optimizers import Adam\n",
        "from sklearn.model_selection import train_test_split\n",
        "from sklearn.metrics import mean_squared_error"
      ],
      "execution_count": 1,
      "outputs": []
    },
    {
      "cell_type": "markdown",
      "metadata": {
        "id": "hAEFOSC8fbQE",
        "colab_type": "text"
      },
      "source": [
        "# Generate Data"
      ]
    },
    {
      "cell_type": "code",
      "metadata": {
        "id": "gWBfjx68OdDL",
        "colab_type": "code",
        "colab": {}
      },
      "source": [
        "X_train = np.linspace(-1, 1, 20)"
      ],
      "execution_count": 2,
      "outputs": []
    },
    {
      "cell_type": "code",
      "metadata": {
        "id": "HHgAbMkwdqcJ",
        "colab_type": "code",
        "colab": {}
      },
      "source": [
        "y_train = np.array([-0.6561 , -0.3099 , -0.59035, -0.50855, -0.285  , \n",
        "                    -0.2443 , -0.02445,  0.00135, -0.2006 ,  0.07475, \n",
        "                    -0.1422 ,  0.06515,  0.15265,  0.3521 ,  0.28415,  \n",
        "                    0.5524 ,  0.23115,  0.20835, 0.4211,  0.60485])"
      ],
      "execution_count": 3,
      "outputs": []
    },
    {
      "cell_type": "code",
      "metadata": {
        "id": "-3T0MiSMRU88",
        "colab_type": "code",
        "colab": {}
      },
      "source": [
        "X_test = np.linspace(-1, 1, 20)"
      ],
      "execution_count": 4,
      "outputs": []
    },
    {
      "cell_type": "code",
      "metadata": {
        "id": "T13ENwBmRVAC",
        "colab_type": "code",
        "colab": {}
      },
      "source": [
        "y_test = np.array([-0.69415, -0.451  , -0.43005, -0.4484 , -0.1475 ,\n",
        "                   -0.5019 , -0.28055,  0.24595, -0.21425, -0.0286 ,  \n",
        "                   0.23415,  0.46575, 0.07955,  0.1973 ,  0.0719 ,\n",
        "                   0.3639 ,  0.5536 ,  0.3365 , 0.50705,  0.33435])"
      ],
      "execution_count": 5,
      "outputs": []
    },
    {
      "cell_type": "code",
      "metadata": {
        "id": "XeLcH4EeRVFk",
        "colab_type": "code",
        "colab": {
          "base_uri": "https://localhost:8080/",
          "height": 265
        },
        "outputId": "8055359c-2d72-490f-e589-9adfaaec3ee1"
      },
      "source": [
        "plt.scatter(X_train, y_train, c='red', label='Train')\n",
        "plt.scatter(X_test, y_test, c='blue', label='Test')\n",
        "plt.legend()\n",
        "plt.show()"
      ],
      "execution_count": 6,
      "outputs": [
        {
          "output_type": "display_data",
          "data": {
            "image/png": "[encoded data removed]",
            "text/plain": [
              "<Figure size 432x288 with 1 Axes>"
            ]
          },
          "metadata": {
            "tags": [],
            "needs_background": "light"
          }
        }
      ]
    },
    {
      "cell_type": "markdown",
      "metadata": {
        "id": "shGA9BPVfJur",
        "colab_type": "text"
      },
      "source": [
        "# Regression Model"
      ]
    },
    {
      "cell_type": "code",
      "metadata": {
        "id": "VFNJfoqXSZ3A",
        "colab_type": "code",
        "colab": {}
      },
      "source": [
        "model_1 = Sequential()\n",
        "model_1.add(Dense(128, input_dim=1, activation=\"relu\"))\n",
        "model_1.add(Dense(128, activation=\"relu\"))\n",
        "model_1.add(Dense(1, activation=\"linear\"))\n",
        "adam = Adam(learning_rate=0.01)\n",
        "model_1.compile(loss='mse', optimizer=adam, metrics=['mse'])\n",
        "history = model_1.fit(X_train, y_train, epochs=500, \n",
        "                    validation_data = (X_test, y_test),\n",
        "                    verbose=False)"
      ],
      "execution_count": 7,
      "outputs": []
    },
    {
      "cell_type": "code",
      "metadata": {
        "id": "l5b0Udf8VcB6",
        "colab_type": "code",
        "colab": {
          "base_uri": "https://localhost:8080/",
          "height": 34
        },
        "outputId": "208fa6c8-d4c4-4b3c-d1d2-ffcfb892acdb"
      },
      "source": [
        "# evaluate the model\n",
        "_, train_mse = model_1.evaluate(X_train, y_train, verbose=0)\n",
        "_, test_mse = model_1.evaluate(X_test, y_test, verbose=0)\n",
        "print('Train: {}, Test: {}'.format(train_mse, test_mse))"
      ],
      "execution_count": 8,
      "outputs": [
        {
          "output_type": "stream",
          "text": [
            "Train: 0.011611349880695343, Test: 0.041495807468891144\n"
          ],
          "name": "stdout"
        }
      ]
    },
    {
      "cell_type": "code",
      "metadata": {
        "id": "0ucuCQDuWA8S",
        "colab_type": "code",
        "colab": {}
      },
      "source": [
        "y_pred_1 = model_1.predict(X_test)"
      ],
      "execution_count": 9,
      "outputs": []
    },
    {
      "cell_type": "code",
      "metadata": {
        "id": "zwWmKGgeWTrf",
        "colab_type": "code",
        "colab": {
          "base_uri": "https://localhost:8080/",
          "height": 269
        },
        "outputId": "71a0ffa6-f3f7-479c-9661-f7b4a373203e"
      },
      "source": [
        "plt.figure()\n",
        "plt.scatter(X_train, y_train, c='red', label='Train')\n",
        "plt.scatter(X_test, y_test, c='blue', label='Test')\n",
        "plt.plot(X_test, y_pred_1)\n",
        "plt.legend()\n",
        "plt.ylim((-1.5, 1.5))\n",
        "plt.show()"
      ],
      "execution_count": 10,
      "outputs": [
        {
          "output_type": "display_data",
          "data": {
            "image/png": "[encoded data removed]",
            "text/plain": [
              "<Figure size 432x288 with 1 Axes>"
            ]
          },
          "metadata": {
            "tags": [],
            "needs_background": "light"
          }
        }
      ]
    },
    {
      "cell_type": "markdown",
      "metadata": {
        "id": "jrbM_1AZezz_",
        "colab_type": "text"
      },
      "source": [
        "# Dropout Model"
      ]
    },
    {
      "cell_type": "code",
      "metadata": {
        "id": "_vOPbuYHSlZm",
        "colab_type": "code",
        "colab": {}
      },
      "source": [
        "model_2 = Sequential()\n",
        "model_2.add(Dense(128, input_dim=1, activation=\"relu\"))\n",
        "model_2.add(Dropout(0.2))\n",
        "model_2.add(Dense(128, activation=\"relu\"))\n",
        "model_2.add(Dropout(0.2))\n",
        "model_2.add(Dense(1, activation=\"linear\"))\n",
        "adam = Adam(learning_rate=0.01)\n",
        "model_2.compile(loss='mse', optimizer=adam, metrics=['mse'])\n",
        "\n",
        "drop_out_history = model_2.fit(X_train, y_train, epochs=500, \n",
        "                               validation_data = (X_test, y_test),\n",
        "                               verbose=False)"
      ],
      "execution_count": 11,
      "outputs": []
    },
    {
      "cell_type": "code",
      "metadata": {
        "id": "s0rofVLkSZ62",
        "colab_type": "code",
        "colab": {
          "base_uri": "https://localhost:8080/",
          "height": 34
        },
        "outputId": "5cc9a210-d4d2-4a21-f78d-8acf3e8bc1c2"
      },
      "source": [
        "# evaluate the model\n",
        "_, train_mse = model_2.evaluate(X_train, y_train, verbose=0)\n",
        "_, test_mse = model_2.evaluate(X_test, y_test, verbose=0)\n",
        "print('Train: {}, Test: {}'.format(train_mse, test_mse))"
      ],
      "execution_count": 12,
      "outputs": [
        {
          "output_type": "stream",
          "text": [
            "Train: 0.011538970284163952, Test: 0.03679985925555229\n"
          ],
          "name": "stdout"
        }
      ]
    },
    {
      "cell_type": "code",
      "metadata": {
        "id": "EtA4Oj8zV1HU",
        "colab_type": "code",
        "colab": {}
      },
      "source": [
        "y_pred_2 = model_2.predict(X_test)"
      ],
      "execution_count": 13,
      "outputs": []
    },
    {
      "cell_type": "code",
      "metadata": {
        "id": "Lkk2Nf3eV1Kx",
        "colab_type": "code",
        "colab": {
          "base_uri": "https://localhost:8080/",
          "height": 269
        },
        "outputId": "acc6dcf7-e38b-4ae8-f39e-d3a2b35af5e9"
      },
      "source": [
        "plt.figure()\n",
        "plt.scatter(X_train, y_train, c='red', label='Train')\n",
        "plt.scatter(X_test, y_test, c='blue', label='Test')\n",
        "plt.plot(X_test, y_pred_2)\n",
        "plt.legend()\n",
        "plt.ylim((-1.5, 1.5))\n",
        "plt.show()"
      ],
      "execution_count": 14,
      "outputs": [
        {
          "output_type": "display_data",
          "data": {
            "image/png": "[encoded data removed]",
            "text/plain": [
              "<Figure size 432x288 with 1 Axes>"
            ]
          },
          "metadata": {
            "tags": [],
            "needs_background": "light"
          }
        }
      ]
    },
    {
      "cell_type": "code",
      "metadata": {
        "id": "5dxX6HI77tdw",
        "colab_type": "code",
        "colab": {}
      },
      "source": [
        ""
      ],
      "execution_count": 14,
      "outputs": []
    }
  ]
}