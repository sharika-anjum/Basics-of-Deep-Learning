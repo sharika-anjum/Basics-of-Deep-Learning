{
 "cells": [
  {
   "cell_type": "code",
   "execution_count": 1,
   "metadata": {
    "_cell_guid": "b1076dfc-b9ad-4769-8c92-a6c4dae69d19",
    "_uuid": "8f2839f25d086af736a60e9eeb907d3b93b6e0e5",
    "execution": {
     "iopub.execute_input": "2020-09-19T07:33:44.588762Z",
     "iopub.status.busy": "2020-09-19T07:33:44.587741Z",
     "iopub.status.idle": "2020-09-19T07:33:44.596533Z",
     "shell.execute_reply": "2020-09-19T07:33:44.595434Z"
    },
    "papermill": {
     "duration": 0.050434,
     "end_time": "2020-09-19T07:33:44.596721",
     "exception": false,
     "start_time": "2020-09-19T07:33:44.546287",
     "status": "completed"
    },
    "tags": []
   },
   "outputs": [
    {
     "name": "stdout",
     "output_type": "stream",
     "text": [
      "/kaggle/input/social-network-ads/Social_Network_Ads.csv\n"
     ]
    }
   ],
   "source": [
    "# This Python 3 environment comes with many helpful analytics libraries installed\n",
    "# It is defined by the kaggle/python Docker image: https://github.com/kaggle/docker-python\n",
    "# For example, here's several helpful packages to load\n",
    "\n",
    "import numpy as np # linear algebra\n",
    "import pandas as pd # data processing, CSV file I/O (e.g. pd.read_csv)\n",
    "\n",
    "# Input data files are available in the read-only \"../input/\" directory\n",
    "# For example, running this (by clicking run or pressing Shift+Enter) will list all files under the input directory\n",
    "\n",
    "import os\n",
    "for dirname, _, filenames in os.walk('/kaggle/input'):\n",
    "    for filename in filenames:\n",
    "        print(os.path.join(dirname, filename))\n",
    "\n",
    "# You can write up to 5GB to the current directory (/kaggle/working/) that gets preserved as output when you create a version using \"Save & Run All\" \n",
    "# You can also write temporary files to /kaggle/temp/, but they won't be saved outside of the current session"
   ]
  },
  {
   "cell_type": "code",
   "execution_count": 2,
   "metadata": {
    "_cell_guid": "79c7e3d0-c299-4dcb-8224-4455121ee9b0",
    "_uuid": "d629ff2d2480ee46fbb7e2d37f6b5fab8052498a",
    "execution": {
     "iopub.execute_input": "2020-09-19T07:33:44.672006Z",
     "iopub.status.busy": "2020-09-19T07:33:44.671259Z",
     "iopub.status.idle": "2020-09-19T07:33:44.690713Z",
     "shell.execute_reply": "2020-09-19T07:33:44.689902Z"
    },
    "papermill": {
     "duration": 0.060171,
     "end_time": "2020-09-19T07:33:44.690841",
     "exception": false,
     "start_time": "2020-09-19T07:33:44.630670",
     "status": "completed"
    },
    "tags": []
   },
   "outputs": [],
   "source": [
    "df=pd.read_csv('/kaggle/input/social-network-ads/Social_Network_Ads.csv')"
   ]
  },
  {
   "cell_type": "code",
   "execution_count": 3,
   "metadata": {
    "execution": {
     "iopub.execute_input": "2020-09-19T07:33:44.772870Z",
     "iopub.status.busy": "2020-09-19T07:33:44.766648Z",
     "iopub.status.idle": "2020-09-19T07:33:44.783738Z",
     "shell.execute_reply": "2020-09-19T07:33:44.783116Z"
    },
    "papermill": {
     "duration": 0.058494,
     "end_time": "2020-09-19T07:33:44.783867",
     "exception": false,
     "start_time": "2020-09-19T07:33:44.725373",
     "status": "completed"
    },
    "tags": []
   },
   "outputs": [
    {
     "data": {
      "text/html": [
       "<div>\n",
       "<style scoped>\n",
       "    .dataframe tbody tr th:only-of-type {\n",
       "        vertical-align: middle;\n",
       "    }\n",
       "\n",
       "    .dataframe tbody tr th {\n",
       "        vertical-align: top;\n",
       "    }\n",
       "\n",
       "    .dataframe thead th {\n",
       "        text-align: right;\n",
       "    }\n",
       "</style>\n",
       "<table border=\"1\" class=\"dataframe\">\n",
       "  <thead>\n",
       "    <tr style=\"text-align: right;\">\n",
       "      <th></th>\n",
       "      <th>User ID</th>\n",
       "      <th>Gender</th>\n",
       "      <th>Age</th>\n",
       "      <th>EstimatedSalary</th>\n",
       "      <th>Purchased</th>\n",
       "    </tr>\n",
       "  </thead>\n",
       "  <tbody>\n",
       "    <tr>\n",
       "      <th>0</th>\n",
       "      <td>15624510</td>\n",
       "      <td>Male</td>\n",
       "      <td>19</td>\n",
       "      <td>19000</td>\n",
       "      <td>0</td>\n",
       "    </tr>\n",
       "    <tr>\n",
       "      <th>1</th>\n",
       "      <td>15810944</td>\n",
       "      <td>Male</td>\n",
       "      <td>35</td>\n",
       "      <td>20000</td>\n",
       "      <td>0</td>\n",
       "    </tr>\n",
       "    <tr>\n",
       "      <th>2</th>\n",
       "      <td>15668575</td>\n",
       "      <td>Female</td>\n",
       "      <td>26</td>\n",
       "      <td>43000</td>\n",
       "      <td>0</td>\n",
       "    </tr>\n",
       "    <tr>\n",
       "      <th>3</th>\n",
       "      <td>15603246</td>\n",
       "      <td>Female</td>\n",
       "      <td>27</td>\n",
       "      <td>57000</td>\n",
       "      <td>0</td>\n",
       "    </tr>\n",
       "    <tr>\n",
       "      <th>4</th>\n",
       "      <td>15804002</td>\n",
       "      <td>Male</td>\n",
       "      <td>19</td>\n",
       "      <td>76000</td>\n",
       "      <td>0</td>\n",
       "    </tr>\n",
       "  </tbody>\n",
       "</table>\n",
       "</div>"
      ],
      "text/plain": [
       "    User ID  Gender  Age  EstimatedSalary  Purchased\n",
       "0  15624510    Male   19            19000          0\n",
       "1  15810944    Male   35            20000          0\n",
       "2  15668575  Female   26            43000          0\n",
       "3  15603246  Female   27            57000          0\n",
       "4  15804002    Male   19            76000          0"
      ]
     },
     "execution_count": 3,
     "metadata": {},
     "output_type": "execute_result"
    }
   ],
   "source": [
    "df.head()"
   ]
  },
  {
   "cell_type": "code",
   "execution_count": 4,
   "metadata": {
    "execution": {
     "iopub.execute_input": "2020-09-19T07:33:44.857762Z",
     "iopub.status.busy": "2020-09-19T07:33:44.856625Z",
     "iopub.status.idle": "2020-09-19T07:33:44.861493Z",
     "shell.execute_reply": "2020-09-19T07:33:44.860816Z"
    },
    "papermill": {
     "duration": 0.044053,
     "end_time": "2020-09-19T07:33:44.861628",
     "exception": false,
     "start_time": "2020-09-19T07:33:44.817575",
     "status": "completed"
    },
    "tags": []
   },
   "outputs": [
    {
     "data": {
      "text/plain": [
       "(400, 5)"
      ]
     },
     "execution_count": 4,
     "metadata": {},
     "output_type": "execute_result"
    }
   ],
   "source": [
    "df.shape"
   ]
  },
  {
   "cell_type": "code",
   "execution_count": 5,
   "metadata": {
    "execution": {
     "iopub.execute_input": "2020-09-19T07:33:44.942905Z",
     "iopub.status.busy": "2020-09-19T07:33:44.942153Z",
     "iopub.status.idle": "2020-09-19T07:33:44.946070Z",
     "shell.execute_reply": "2020-09-19T07:33:44.945316Z"
    },
    "papermill": {
     "duration": 0.050398,
     "end_time": "2020-09-19T07:33:44.946214",
     "exception": false,
     "start_time": "2020-09-19T07:33:44.895816",
     "status": "completed"
    },
    "tags": []
   },
   "outputs": [],
   "source": [
    "df.drop(columns=['User ID'], inplace=True)"
   ]
  },
  {
   "cell_type": "code",
   "execution_count": 6,
   "metadata": {
    "execution": {
     "iopub.execute_input": "2020-09-19T07:33:45.022860Z",
     "iopub.status.busy": "2020-09-19T07:33:45.021672Z",
     "iopub.status.idle": "2020-09-19T07:33:45.026816Z",
     "shell.execute_reply": "2020-09-19T07:33:45.026163Z"
    },
    "papermill": {
     "duration": 0.045533,
     "end_time": "2020-09-19T07:33:45.026942",
     "exception": false,
     "start_time": "2020-09-19T07:33:44.981409",
     "status": "completed"
    },
    "tags": []
   },
   "outputs": [
    {
     "data": {
      "text/plain": [
       "(400, 4)"
      ]
     },
     "execution_count": 6,
     "metadata": {},
     "output_type": "execute_result"
    }
   ],
   "source": [
    "df.shape"
   ]
  },
  {
   "cell_type": "code",
   "execution_count": 7,
   "metadata": {
    "execution": {
     "iopub.execute_input": "2020-09-19T07:33:45.103197Z",
     "iopub.status.busy": "2020-09-19T07:33:45.102321Z",
     "iopub.status.idle": "2020-09-19T07:33:46.166800Z",
     "shell.execute_reply": "2020-09-19T07:33:46.165945Z"
    },
    "papermill": {
     "duration": 1.105069,
     "end_time": "2020-09-19T07:33:46.166932",
     "exception": false,
     "start_time": "2020-09-19T07:33:45.061863",
     "status": "completed"
    },
    "tags": []
   },
   "outputs": [],
   "source": [
    "from sklearn.preprocessing import LabelEncoder\n",
    "encoder=LabelEncoder()"
   ]
  },
  {
   "cell_type": "code",
   "execution_count": 8,
   "metadata": {
    "execution": {
     "iopub.execute_input": "2020-09-19T07:33:46.244433Z",
     "iopub.status.busy": "2020-09-19T07:33:46.243645Z",
     "iopub.status.idle": "2020-09-19T07:33:46.247951Z",
     "shell.execute_reply": "2020-09-19T07:33:46.247162Z"
    },
    "papermill": {
     "duration": 0.04589,
     "end_time": "2020-09-19T07:33:46.248149",
     "exception": false,
     "start_time": "2020-09-19T07:33:46.202259",
     "status": "completed"
    },
    "tags": []
   },
   "outputs": [],
   "source": [
    "df['Gender']= encoder.fit_transform(df['Gender'])"
   ]
  },
  {
   "cell_type": "code",
   "execution_count": 9,
   "metadata": {
    "execution": {
     "iopub.execute_input": "2020-09-19T07:33:46.331018Z",
     "iopub.status.busy": "2020-09-19T07:33:46.329865Z",
     "iopub.status.idle": "2020-09-19T07:33:46.335459Z",
     "shell.execute_reply": "2020-09-19T07:33:46.334788Z"
    },
    "papermill": {
     "duration": 0.05221,
     "end_time": "2020-09-19T07:33:46.335590",
     "exception": false,
     "start_time": "2020-09-19T07:33:46.283380",
     "status": "completed"
    },
    "tags": []
   },
   "outputs": [
    {
     "data": {
      "text/html": [
       "<div>\n",
       "<style scoped>\n",
       "    .dataframe tbody tr th:only-of-type {\n",
       "        vertical-align: middle;\n",
       "    }\n",
       "\n",
       "    .dataframe tbody tr th {\n",
       "        vertical-align: top;\n",
       "    }\n",
       "\n",
       "    .dataframe thead th {\n",
       "        text-align: right;\n",
       "    }\n",
       "</style>\n",
       "<table border=\"1\" class=\"dataframe\">\n",
       "  <thead>\n",
       "    <tr style=\"text-align: right;\">\n",
       "      <th></th>\n",
       "      <th>Gender</th>\n",
       "      <th>Age</th>\n",
       "      <th>EstimatedSalary</th>\n",
       "      <th>Purchased</th>\n",
       "    </tr>\n",
       "  </thead>\n",
       "  <tbody>\n",
       "    <tr>\n",
       "      <th>0</th>\n",
       "      <td>1</td>\n",
       "      <td>19</td>\n",
       "      <td>19000</td>\n",
       "      <td>0</td>\n",
       "    </tr>\n",
       "    <tr>\n",
       "      <th>1</th>\n",
       "      <td>1</td>\n",
       "      <td>35</td>\n",
       "      <td>20000</td>\n",
       "      <td>0</td>\n",
       "    </tr>\n",
       "    <tr>\n",
       "      <th>2</th>\n",
       "      <td>0</td>\n",
       "      <td>26</td>\n",
       "      <td>43000</td>\n",
       "      <td>0</td>\n",
       "    </tr>\n",
       "    <tr>\n",
       "      <th>3</th>\n",
       "      <td>0</td>\n",
       "      <td>27</td>\n",
       "      <td>57000</td>\n",
       "      <td>0</td>\n",
       "    </tr>\n",
       "    <tr>\n",
       "      <th>4</th>\n",
       "      <td>1</td>\n",
       "      <td>19</td>\n",
       "      <td>76000</td>\n",
       "      <td>0</td>\n",
       "    </tr>\n",
       "  </tbody>\n",
       "</table>\n",
       "</div>"
      ],
      "text/plain": [
       "   Gender  Age  EstimatedSalary  Purchased\n",
       "0       1   19            19000          0\n",
       "1       1   35            20000          0\n",
       "2       0   26            43000          0\n",
       "3       0   27            57000          0\n",
       "4       1   19            76000          0"
      ]
     },
     "execution_count": 9,
     "metadata": {},
     "output_type": "execute_result"
    }
   ],
   "source": [
    "df.head()"
   ]
  },
  {
   "cell_type": "code",
   "execution_count": 10,
   "metadata": {
    "execution": {
     "iopub.execute_input": "2020-09-19T07:33:46.418533Z",
     "iopub.status.busy": "2020-09-19T07:33:46.417708Z",
     "iopub.status.idle": "2020-09-19T07:33:46.421765Z",
     "shell.execute_reply": "2020-09-19T07:33:46.420963Z"
    },
    "papermill": {
     "duration": 0.049109,
     "end_time": "2020-09-19T07:33:46.421891",
     "exception": false,
     "start_time": "2020-09-19T07:33:46.372782",
     "status": "completed"
    },
    "tags": []
   },
   "outputs": [],
   "source": [
    "X=df.iloc[:,:-1].values\n",
    "y=df.iloc[:,-1].values"
   ]
  },
  {
   "cell_type": "code",
   "execution_count": 11,
   "metadata": {
    "execution": {
     "iopub.execute_input": "2020-09-19T07:33:46.516850Z",
     "iopub.status.busy": "2020-09-19T07:33:46.515545Z",
     "iopub.status.idle": "2020-09-19T07:33:46.524419Z",
     "shell.execute_reply": "2020-09-19T07:33:46.523488Z"
    },
    "papermill": {
     "duration": 0.06661,
     "end_time": "2020-09-19T07:33:46.524627",
     "exception": false,
     "start_time": "2020-09-19T07:33:46.458017",
     "status": "completed"
    },
    "tags": []
   },
   "outputs": [
    {
     "data": {
      "text/plain": [
       "array([[    1,    19, 19000],\n",
       "       [    1,    35, 20000],\n",
       "       [    0,    26, 43000],\n",
       "       ...,\n",
       "       [    0,    50, 20000],\n",
       "       [    1,    36, 33000],\n",
       "       [    0,    49, 36000]])"
      ]
     },
     "execution_count": 11,
     "metadata": {},
     "output_type": "execute_result"
    }
   ],
   "source": [
    "X"
   ]
  },
  {
   "cell_type": "code",
   "execution_count": 12,
   "metadata": {
    "execution": {
     "iopub.execute_input": "2020-09-19T07:33:46.624912Z",
     "iopub.status.busy": "2020-09-19T07:33:46.623746Z",
     "iopub.status.idle": "2020-09-19T07:33:46.628009Z",
     "shell.execute_reply": "2020-09-19T07:33:46.628908Z"
    },
    "papermill": {
     "duration": 0.050513,
     "end_time": "2020-09-19T07:33:46.629160",
     "exception": false,
     "start_time": "2020-09-19T07:33:46.578647",
     "status": "completed"
    },
    "tags": []
   },
   "outputs": [
    {
     "data": {
      "text/plain": [
       "array([0, 0, 0, 0, 0, 0, 0, 1, 0, 0, 0, 0, 0, 0, 0, 0, 1, 1, 1, 1, 1, 1,\n",
       "       1, 1, 1, 1, 1, 1, 0, 0, 0, 1, 0, 0, 0, 0, 0, 0, 0, 0, 0, 0, 0, 0,\n",
       "       0, 0, 0, 0, 1, 0, 0, 0, 0, 0, 0, 0, 0, 0, 0, 0, 0, 0, 0, 1, 0, 0,\n",
       "       0, 0, 0, 0, 0, 0, 0, 0, 0, 1, 0, 0, 0, 0, 0, 0, 0, 0, 0, 1, 0, 0,\n",
       "       0, 0, 0, 0, 0, 0, 0, 0, 0, 1, 0, 0, 0, 0, 0, 1, 0, 0, 0, 0, 0, 0,\n",
       "       0, 0, 0, 0, 0, 0, 0, 0, 0, 0, 0, 0, 0, 0, 0, 0, 0, 0, 0, 0, 0, 0,\n",
       "       0, 0, 0, 0, 0, 1, 0, 0, 0, 0, 0, 0, 0, 0, 1, 0, 0, 0, 0, 0, 0, 0,\n",
       "       0, 0, 0, 0, 0, 1, 1, 0, 0, 0, 0, 0, 0, 0, 1, 0, 0, 0, 0, 0, 0, 0,\n",
       "       0, 0, 0, 0, 0, 0, 1, 0, 0, 0, 0, 0, 0, 0, 0, 0, 0, 0, 0, 0, 0, 0,\n",
       "       0, 0, 0, 0, 1, 0, 1, 0, 1, 0, 1, 0, 1, 1, 0, 0, 0, 1, 0, 0, 0, 1,\n",
       "       0, 1, 1, 1, 0, 0, 1, 1, 0, 1, 1, 0, 1, 1, 0, 1, 0, 0, 0, 1, 1, 0,\n",
       "       1, 1, 0, 1, 0, 1, 0, 1, 0, 0, 1, 1, 0, 1, 0, 0, 1, 1, 0, 1, 1, 0,\n",
       "       1, 1, 0, 0, 1, 0, 0, 1, 1, 1, 1, 1, 0, 1, 1, 1, 1, 0, 1, 1, 0, 1,\n",
       "       0, 1, 0, 1, 1, 1, 1, 0, 0, 0, 1, 1, 0, 1, 1, 1, 1, 1, 0, 0, 0, 1,\n",
       "       1, 0, 0, 1, 0, 1, 0, 1, 1, 0, 1, 0, 1, 1, 0, 1, 1, 0, 0, 0, 1, 1,\n",
       "       0, 1, 0, 0, 1, 0, 1, 0, 0, 1, 1, 0, 0, 1, 1, 0, 1, 1, 0, 0, 1, 0,\n",
       "       1, 0, 1, 1, 1, 0, 1, 0, 1, 1, 1, 0, 1, 1, 1, 1, 0, 1, 1, 1, 0, 1,\n",
       "       0, 1, 0, 0, 1, 1, 0, 1, 1, 1, 1, 1, 1, 0, 1, 1, 1, 1, 1, 1, 0, 1,\n",
       "       1, 1, 0, 1])"
      ]
     },
     "execution_count": 12,
     "metadata": {},
     "output_type": "execute_result"
    }
   ],
   "source": [
    "y"
   ]
  },
  {
   "cell_type": "code",
   "execution_count": 13,
   "metadata": {
    "execution": {
     "iopub.execute_input": "2020-09-19T07:33:46.715606Z",
     "iopub.status.busy": "2020-09-19T07:33:46.714531Z",
     "iopub.status.idle": "2020-09-19T07:33:46.718672Z",
     "shell.execute_reply": "2020-09-19T07:33:46.717853Z"
    },
    "papermill": {
     "duration": 0.048141,
     "end_time": "2020-09-19T07:33:46.718800",
     "exception": false,
     "start_time": "2020-09-19T07:33:46.670659",
     "status": "completed"
    },
    "tags": []
   },
   "outputs": [],
   "source": [
    "from sklearn.preprocessing import StandardScaler\n",
    "scaler = StandardScaler()"
   ]
  },
  {
   "cell_type": "code",
   "execution_count": 14,
   "metadata": {
    "execution": {
     "iopub.execute_input": "2020-09-19T07:33:46.803727Z",
     "iopub.status.busy": "2020-09-19T07:33:46.802577Z",
     "iopub.status.idle": "2020-09-19T07:33:46.807367Z",
     "shell.execute_reply": "2020-09-19T07:33:46.806736Z"
    },
    "papermill": {
     "duration": 0.049426,
     "end_time": "2020-09-19T07:33:46.807547",
     "exception": false,
     "start_time": "2020-09-19T07:33:46.758121",
     "status": "completed"
    },
    "tags": []
   },
   "outputs": [],
   "source": [
    "X=scaler.fit_transform(X)"
   ]
  },
  {
   "cell_type": "code",
   "execution_count": 15,
   "metadata": {
    "execution": {
     "iopub.execute_input": "2020-09-19T07:33:46.893440Z",
     "iopub.status.busy": "2020-09-19T07:33:46.892539Z",
     "iopub.status.idle": "2020-09-19T07:33:46.899502Z",
     "shell.execute_reply": "2020-09-19T07:33:46.898379Z"
    },
    "papermill": {
     "duration": 0.053366,
     "end_time": "2020-09-19T07:33:46.899729",
     "exception": false,
     "start_time": "2020-09-19T07:33:46.846363",
     "status": "completed"
    },
    "tags": []
   },
   "outputs": [
    {
     "data": {
      "text/plain": [
       "array([[ 1.02020406, -1.78179743, -1.49004624],\n",
       "       [ 1.02020406, -0.25358736, -1.46068138],\n",
       "       [-0.98019606, -1.11320552, -0.78528968],\n",
       "       ...,\n",
       "       [-0.98019606,  1.17910958, -1.46068138],\n",
       "       [ 1.02020406, -0.15807423, -1.07893824],\n",
       "       [-0.98019606,  1.08359645, -0.99084367]])"
      ]
     },
     "execution_count": 15,
     "metadata": {},
     "output_type": "execute_result"
    }
   ],
   "source": [
    "X"
   ]
  },
  {
   "cell_type": "code",
   "execution_count": 16,
   "metadata": {
    "execution": {
     "iopub.execute_input": "2020-09-19T07:33:46.991108Z",
     "iopub.status.busy": "2020-09-19T07:33:46.990320Z",
     "iopub.status.idle": "2020-09-19T07:33:47.071008Z",
     "shell.execute_reply": "2020-09-19T07:33:47.070332Z"
    },
    "papermill": {
     "duration": 0.127536,
     "end_time": "2020-09-19T07:33:47.071178",
     "exception": false,
     "start_time": "2020-09-19T07:33:46.943642",
     "status": "completed"
    },
    "tags": []
   },
   "outputs": [],
   "source": [
    "from sklearn.model_selection import train_test_split\n",
    "X_train,X_test,y_train,y_test = train_test_split(X,y,test_size=0.2,random_state=0)"
   ]
  },
  {
   "cell_type": "code",
   "execution_count": 17,
   "metadata": {
    "execution": {
     "iopub.execute_input": "2020-09-19T07:33:47.159063Z",
     "iopub.status.busy": "2020-09-19T07:33:47.158209Z",
     "iopub.status.idle": "2020-09-19T07:33:47.162730Z",
     "shell.execute_reply": "2020-09-19T07:33:47.161912Z"
    },
    "papermill": {
     "duration": 0.051122,
     "end_time": "2020-09-19T07:33:47.162858",
     "exception": false,
     "start_time": "2020-09-19T07:33:47.111736",
     "status": "completed"
    },
    "tags": []
   },
   "outputs": [
    {
     "name": "stdout",
     "output_type": "stream",
     "text": [
      "(320, 3)\n",
      "(80, 3)\n",
      "(320,)\n",
      "(80,)\n"
     ]
    }
   ],
   "source": [
    "print(X_train.shape)\n",
    "print(X_test.shape)\n",
    "print(y_train.shape)\n",
    "print(y_test.shape)"
   ]
  },
  {
   "cell_type": "code",
   "execution_count": 18,
   "metadata": {
    "execution": {
     "iopub.execute_input": "2020-09-19T07:33:47.249414Z",
     "iopub.status.busy": "2020-09-19T07:33:47.248247Z",
     "iopub.status.idle": "2020-09-19T07:33:53.665105Z",
     "shell.execute_reply": "2020-09-19T07:33:53.664434Z"
    },
    "papermill": {
     "duration": 6.462371,
     "end_time": "2020-09-19T07:33:53.665296",
     "exception": false,
     "start_time": "2020-09-19T07:33:47.202925",
     "status": "completed"
    },
    "tags": []
   },
   "outputs": [],
   "source": [
    "import tensorflow\n",
    "from tensorflow import keras\n",
    "from tensorflow.keras import Sequential\n",
    "from tensorflow.keras.layers import Dense"
   ]
  },
  {
   "cell_type": "markdown",
   "metadata": {
    "papermill": {
     "duration": 0.038693,
     "end_time": "2020-09-19T07:33:53.743129",
     "exception": false,
     "start_time": "2020-09-19T07:33:53.704436",
     "status": "completed"
    },
    "tags": []
   },
   "source": [
    "**Batch Gradient Descent**"
   ]
  },
  {
   "cell_type": "code",
   "execution_count": 19,
   "metadata": {
    "execution": {
     "iopub.execute_input": "2020-09-19T07:33:53.826702Z",
     "iopub.status.busy": "2020-09-19T07:33:53.825830Z",
     "iopub.status.idle": "2020-09-19T07:33:53.903318Z",
     "shell.execute_reply": "2020-09-19T07:33:53.903885Z"
    },
    "papermill": {
     "duration": 0.122033,
     "end_time": "2020-09-19T07:33:53.904062",
     "exception": false,
     "start_time": "2020-09-19T07:33:53.782029",
     "status": "completed"
    },
    "tags": []
   },
   "outputs": [],
   "source": [
    "model=Sequential()"
   ]
  },
  {
   "cell_type": "code",
   "execution_count": 20,
   "metadata": {
    "execution": {
     "iopub.execute_input": "2020-09-19T07:33:53.994224Z",
     "iopub.status.busy": "2020-09-19T07:33:53.993401Z",
     "iopub.status.idle": "2020-09-19T07:33:54.039051Z",
     "shell.execute_reply": "2020-09-19T07:33:54.038276Z"
    },
    "papermill": {
     "duration": 0.095236,
     "end_time": "2020-09-19T07:33:54.039200",
     "exception": false,
     "start_time": "2020-09-19T07:33:53.943964",
     "status": "completed"
    },
    "tags": []
   },
   "outputs": [],
   "source": [
    "model.add(Dense(1,activation='sigmoid',input_dim=X_train.shape[1]))"
   ]
  },
  {
   "cell_type": "code",
   "execution_count": 21,
   "metadata": {
    "execution": {
     "iopub.execute_input": "2020-09-19T07:33:54.125882Z",
     "iopub.status.busy": "2020-09-19T07:33:54.125039Z",
     "iopub.status.idle": "2020-09-19T07:33:54.129633Z",
     "shell.execute_reply": "2020-09-19T07:33:54.128317Z"
    },
    "papermill": {
     "duration": 0.050737,
     "end_time": "2020-09-19T07:33:54.129819",
     "exception": false,
     "start_time": "2020-09-19T07:33:54.079082",
     "status": "completed"
    },
    "tags": []
   },
   "outputs": [
    {
     "name": "stdout",
     "output_type": "stream",
     "text": [
      "Model: \"sequential\"\n",
      "_________________________________________________________________\n",
      "Layer (type)                 Output Shape              Param #   \n",
      "=================================================================\n",
      "dense (Dense)                (None, 1)                 4         \n",
      "=================================================================\n",
      "Total params: 4\n",
      "Trainable params: 4\n",
      "Non-trainable params: 0\n",
      "_________________________________________________________________\n"
     ]
    }
   ],
   "source": [
    "model.summary()"
   ]
  },
  {
   "cell_type": "code",
   "execution_count": 22,
   "metadata": {
    "execution": {
     "iopub.execute_input": "2020-09-19T07:33:54.225984Z",
     "iopub.status.busy": "2020-09-19T07:33:54.224864Z",
     "iopub.status.idle": "2020-09-19T07:33:54.232094Z",
     "shell.execute_reply": "2020-09-19T07:33:54.231306Z"
    },
    "papermill": {
     "duration": 0.060583,
     "end_time": "2020-09-19T07:33:54.232238",
     "exception": false,
     "start_time": "2020-09-19T07:33:54.171655",
     "status": "completed"
    },
    "tags": []
   },
   "outputs": [],
   "source": [
    "model.compile(optimizer='Adam',loss='binary_crossentropy',metrics=['accuracy'])"
   ]
  },
  {
   "cell_type": "code",
   "execution_count": 23,
   "metadata": {
    "execution": {
     "iopub.execute_input": "2020-09-19T07:33:54.318491Z",
     "iopub.status.busy": "2020-09-19T07:33:54.317692Z",
     "iopub.status.idle": "2020-09-19T07:33:54.321251Z",
     "shell.execute_reply": "2020-09-19T07:33:54.320628Z"
    },
    "papermill": {
     "duration": 0.048843,
     "end_time": "2020-09-19T07:33:54.321385",
     "exception": false,
     "start_time": "2020-09-19T07:33:54.272542",
     "status": "completed"
    },
    "tags": []
   },
   "outputs": [],
   "source": [
    "import time"
   ]
  },
  {
   "cell_type": "code",
   "execution_count": 24,
   "metadata": {
    "execution": {
     "iopub.execute_input": "2020-09-19T07:33:54.431011Z",
     "iopub.status.busy": "2020-09-19T07:33:54.430265Z",
     "iopub.status.idle": "2020-09-19T07:33:55.816235Z",
     "shell.execute_reply": "2020-09-19T07:33:55.815151Z"
    },
    "papermill": {
     "duration": 1.454516,
     "end_time": "2020-09-19T07:33:55.816408",
     "exception": false,
     "start_time": "2020-09-19T07:33:54.361892",
     "status": "completed"
    },
    "tags": []
   },
   "outputs": [
    {
     "name": "stdout",
     "output_type": "stream",
     "text": [
      "Epoch 1/100\n",
      "1/1 [==============================] - 0s 2ms/step - loss: 0.5814 - accuracy: 0.6938\n",
      "Epoch 2/100\n",
      "1/1 [==============================] - 0s 3ms/step - loss: 0.5809 - accuracy: 0.6938\n",
      "Epoch 3/100\n",
      "1/1 [==============================] - 0s 1ms/step - loss: 0.5804 - accuracy: 0.6938\n",
      "Epoch 4/100\n",
      "1/1 [==============================] - 0s 1ms/step - loss: 0.5799 - accuracy: 0.6938\n",
      "Epoch 5/100\n",
      "1/1 [==============================] - 0s 1ms/step - loss: 0.5794 - accuracy: 0.6938\n",
      "Epoch 6/100\n",
      "1/1 [==============================] - 0s 1ms/step - loss: 0.5789 - accuracy: 0.6938\n",
      "Epoch 7/100\n",
      "1/1 [==============================] - 0s 1ms/step - loss: 0.5784 - accuracy: 0.6938\n",
      "Epoch 8/100\n",
      "1/1 [==============================] - 0s 1ms/step - loss: 0.5779 - accuracy: 0.6938\n",
      "Epoch 9/100\n",
      "1/1 [==============================] - 0s 1ms/step - loss: 0.5774 - accuracy: 0.6938\n",
      "Epoch 10/100\n",
      "1/1 [==============================] - 0s 1ms/step - loss: 0.5769 - accuracy: 0.6938\n",
      "Epoch 11/100\n",
      "1/1 [==============================] - 0s 1ms/step - loss: 0.5764 - accuracy: 0.6938\n",
      "Epoch 12/100\n",
      "1/1 [==============================] - 0s 1ms/step - loss: 0.5759 - accuracy: 0.6938\n",
      "Epoch 13/100\n",
      "1/1 [==============================] - 0s 1ms/step - loss: 0.5754 - accuracy: 0.6938\n",
      "Epoch 14/100\n",
      "1/1 [==============================] - 0s 2ms/step - loss: 0.5749 - accuracy: 0.6938\n",
      "Epoch 15/100\n",
      "1/1 [==============================] - 0s 2ms/step - loss: 0.5744 - accuracy: 0.6938\n",
      "Epoch 16/100\n",
      "1/1 [==============================] - 0s 1ms/step - loss: 0.5739 - accuracy: 0.6969\n",
      "Epoch 17/100\n",
      "1/1 [==============================] - 0s 1ms/step - loss: 0.5734 - accuracy: 0.6969\n",
      "Epoch 18/100\n",
      "1/1 [==============================] - 0s 1ms/step - loss: 0.5729 - accuracy: 0.6969\n",
      "Epoch 19/100\n",
      "1/1 [==============================] - 0s 1ms/step - loss: 0.5724 - accuracy: 0.6969\n",
      "Epoch 20/100\n",
      "1/1 [==============================] - 0s 1ms/step - loss: 0.5720 - accuracy: 0.6969\n",
      "Epoch 21/100\n",
      "1/1 [==============================] - 0s 1ms/step - loss: 0.5715 - accuracy: 0.6969\n",
      "Epoch 22/100\n",
      "1/1 [==============================] - 0s 2ms/step - loss: 0.5710 - accuracy: 0.6969\n",
      "Epoch 23/100\n",
      "1/1 [==============================] - 0s 1ms/step - loss: 0.5705 - accuracy: 0.6969\n",
      "Epoch 24/100\n",
      "1/1 [==============================] - 0s 1ms/step - loss: 0.5700 - accuracy: 0.6969\n",
      "Epoch 25/100\n",
      "1/1 [==============================] - 0s 1ms/step - loss: 0.5695 - accuracy: 0.6969\n",
      "Epoch 26/100\n",
      "1/1 [==============================] - 0s 1ms/step - loss: 0.5691 - accuracy: 0.6969\n",
      "Epoch 27/100\n",
      "1/1 [==============================] - 0s 1ms/step - loss: 0.5686 - accuracy: 0.6969\n",
      "Epoch 28/100\n",
      "1/1 [==============================] - 0s 1ms/step - loss: 0.5681 - accuracy: 0.6969\n",
      "Epoch 29/100\n",
      "1/1 [==============================] - 0s 1ms/step - loss: 0.5676 - accuracy: 0.6969\n",
      "Epoch 30/100\n",
      "1/1 [==============================] - 0s 1ms/step - loss: 0.5671 - accuracy: 0.6969\n",
      "Epoch 31/100\n",
      "1/1 [==============================] - 0s 1ms/step - loss: 0.5667 - accuracy: 0.6969\n",
      "Epoch 32/100\n",
      "1/1 [==============================] - 0s 6ms/step - loss: 0.5662 - accuracy: 0.6969\n",
      "Epoch 33/100\n",
      "1/1 [==============================] - 0s 2ms/step - loss: 0.5657 - accuracy: 0.6969\n",
      "Epoch 34/100\n",
      "1/1 [==============================] - 0s 3ms/step - loss: 0.5652 - accuracy: 0.6969\n",
      "Epoch 35/100\n",
      "1/1 [==============================] - 0s 1ms/step - loss: 0.5648 - accuracy: 0.6969\n",
      "Epoch 36/100\n",
      "1/1 [==============================] - 0s 1ms/step - loss: 0.5643 - accuracy: 0.6969\n",
      "Epoch 37/100\n",
      "1/1 [==============================] - 0s 2ms/step - loss: 0.5638 - accuracy: 0.6969\n",
      "Epoch 38/100\n",
      "1/1 [==============================] - 0s 3ms/step - loss: 0.5634 - accuracy: 0.6969\n",
      "Epoch 39/100\n",
      "1/1 [==============================] - 0s 2ms/step - loss: 0.5629 - accuracy: 0.6969\n",
      "Epoch 40/100\n",
      "1/1 [==============================] - 0s 4ms/step - loss: 0.5624 - accuracy: 0.6969\n",
      "Epoch 41/100\n",
      "1/1 [==============================] - 0s 1ms/step - loss: 0.5620 - accuracy: 0.6969\n",
      "Epoch 42/100\n",
      "1/1 [==============================] - 0s 2ms/step - loss: 0.5615 - accuracy: 0.7000\n",
      "Epoch 43/100\n",
      "1/1 [==============================] - 0s 1ms/step - loss: 0.5611 - accuracy: 0.7000\n",
      "Epoch 44/100\n",
      "1/1 [==============================] - 0s 2ms/step - loss: 0.5606 - accuracy: 0.7000\n",
      "Epoch 45/100\n",
      "1/1 [==============================] - 0s 2ms/step - loss: 0.5601 - accuracy: 0.7031\n",
      "Epoch 46/100\n",
      "1/1 [==============================] - 0s 2ms/step - loss: 0.5597 - accuracy: 0.7031\n",
      "Epoch 47/100\n",
      "1/1 [==============================] - 0s 1ms/step - loss: 0.5592 - accuracy: 0.7031\n",
      "Epoch 48/100\n",
      "1/1 [==============================] - 0s 2ms/step - loss: 0.5588 - accuracy: 0.7031\n",
      "Epoch 49/100\n",
      "1/1 [==============================] - 0s 1ms/step - loss: 0.5583 - accuracy: 0.7031\n",
      "Epoch 50/100\n",
      "1/1 [==============================] - 0s 1ms/step - loss: 0.5579 - accuracy: 0.7031\n",
      "Epoch 51/100\n",
      "1/1 [==============================] - 0s 1ms/step - loss: 0.5574 - accuracy: 0.7031\n",
      "Epoch 52/100\n",
      "1/1 [==============================] - 0s 1ms/step - loss: 0.5570 - accuracy: 0.7031\n",
      "Epoch 53/100\n",
      "1/1 [==============================] - 0s 2ms/step - loss: 0.5565 - accuracy: 0.7031\n",
      "Epoch 54/100\n",
      "1/1 [==============================] - 0s 2ms/step - loss: 0.5561 - accuracy: 0.7031\n",
      "Epoch 55/100\n",
      "1/1 [==============================] - 0s 2ms/step - loss: 0.5556 - accuracy: 0.7031\n",
      "Epoch 56/100\n",
      "1/1 [==============================] - 0s 1ms/step - loss: 0.5552 - accuracy: 0.7031\n",
      "Epoch 57/100\n",
      "1/1 [==============================] - 0s 2ms/step - loss: 0.5547 - accuracy: 0.7031\n",
      "Epoch 58/100\n",
      "1/1 [==============================] - 0s 2ms/step - loss: 0.5543 - accuracy: 0.7031\n",
      "Epoch 59/100\n",
      "1/1 [==============================] - 0s 1ms/step - loss: 0.5538 - accuracy: 0.7031\n",
      "Epoch 60/100\n",
      "1/1 [==============================] - 0s 1ms/step - loss: 0.5534 - accuracy: 0.7031\n",
      "Epoch 61/100\n",
      "1/1 [==============================] - 0s 2ms/step - loss: 0.5530 - accuracy: 0.7031\n",
      "Epoch 62/100\n",
      "1/1 [==============================] - 0s 2ms/step - loss: 0.5525 - accuracy: 0.7031\n",
      "Epoch 63/100\n",
      "1/1 [==============================] - 0s 2ms/step - loss: 0.5521 - accuracy: 0.7031\n",
      "Epoch 64/100\n",
      "1/1 [==============================] - 0s 2ms/step - loss: 0.5517 - accuracy: 0.7031\n",
      "Epoch 65/100\n",
      "1/1 [==============================] - 0s 2ms/step - loss: 0.5512 - accuracy: 0.7031\n",
      "Epoch 66/100\n",
      "1/1 [==============================] - 0s 3ms/step - loss: 0.5508 - accuracy: 0.7031\n",
      "Epoch 67/100\n",
      "1/1 [==============================] - 0s 1ms/step - loss: 0.5503 - accuracy: 0.7031\n",
      "Epoch 68/100\n",
      "1/1 [==============================] - 0s 1ms/step - loss: 0.5499 - accuracy: 0.7031\n",
      "Epoch 69/100\n",
      "1/1 [==============================] - 0s 1ms/step - loss: 0.5495 - accuracy: 0.7031\n",
      "Epoch 70/100\n",
      "1/1 [==============================] - 0s 1ms/step - loss: 0.5491 - accuracy: 0.7031\n",
      "Epoch 71/100\n",
      "1/1 [==============================] - 0s 1ms/step - loss: 0.5486 - accuracy: 0.7031\n",
      "Epoch 72/100\n",
      "1/1 [==============================] - 0s 2ms/step - loss: 0.5482 - accuracy: 0.7031\n",
      "Epoch 73/100\n",
      "1/1 [==============================] - 0s 4ms/step - loss: 0.5478 - accuracy: 0.7031\n",
      "Epoch 74/100\n",
      "1/1 [==============================] - 0s 6ms/step - loss: 0.5473 - accuracy: 0.7031\n",
      "Epoch 75/100\n",
      "1/1 [==============================] - 0s 1ms/step - loss: 0.5469 - accuracy: 0.7031\n",
      "Epoch 76/100\n",
      "1/1 [==============================] - 0s 1ms/step - loss: 0.5465 - accuracy: 0.7094\n",
      "Epoch 77/100\n",
      "1/1 [==============================] - 0s 1ms/step - loss: 0.5461 - accuracy: 0.7094\n",
      "Epoch 78/100\n",
      "1/1 [==============================] - 0s 1ms/step - loss: 0.5457 - accuracy: 0.7094\n",
      "Epoch 79/100\n",
      "1/1 [==============================] - 0s 2ms/step - loss: 0.5452 - accuracy: 0.7094\n",
      "Epoch 80/100\n",
      "1/1 [==============================] - 0s 2ms/step - loss: 0.5448 - accuracy: 0.7094\n",
      "Epoch 81/100\n",
      "1/1 [==============================] - 0s 2ms/step - loss: 0.5444 - accuracy: 0.7094\n",
      "Epoch 82/100\n",
      "1/1 [==============================] - 0s 1ms/step - loss: 0.5440 - accuracy: 0.7094\n",
      "Epoch 83/100\n",
      "1/1 [==============================] - 0s 2ms/step - loss: 0.5436 - accuracy: 0.7094\n",
      "Epoch 84/100\n",
      "1/1 [==============================] - 0s 1ms/step - loss: 0.5432 - accuracy: 0.7094\n",
      "Epoch 85/100\n",
      "1/1 [==============================] - 0s 2ms/step - loss: 0.5427 - accuracy: 0.7094\n",
      "Epoch 86/100\n",
      "1/1 [==============================] - 0s 4ms/step - loss: 0.5423 - accuracy: 0.7094\n",
      "Epoch 87/100\n",
      "1/1 [==============================] - 0s 2ms/step - loss: 0.5419 - accuracy: 0.7094\n",
      "Epoch 88/100\n",
      "1/1 [==============================] - 0s 2ms/step - loss: 0.5415 - accuracy: 0.7094\n",
      "Epoch 89/100\n",
      "1/1 [==============================] - 0s 2ms/step - loss: 0.5411 - accuracy: 0.7094\n",
      "Epoch 90/100\n",
      "1/1 [==============================] - 0s 2ms/step - loss: 0.5407 - accuracy: 0.7094\n",
      "Epoch 91/100\n",
      "1/1 [==============================] - 0s 2ms/step - loss: 0.5403 - accuracy: 0.7094\n",
      "Epoch 92/100\n",
      "1/1 [==============================] - 0s 1ms/step - loss: 0.5399 - accuracy: 0.7094\n",
      "Epoch 93/100\n",
      "1/1 [==============================] - 0s 1ms/step - loss: 0.5395 - accuracy: 0.7063\n",
      "Epoch 94/100\n",
      "1/1 [==============================] - 0s 1ms/step - loss: 0.5391 - accuracy: 0.7063\n",
      "Epoch 95/100\n",
      "1/1 [==============================] - 0s 1ms/step - loss: 0.5387 - accuracy: 0.7063\n",
      "Epoch 96/100\n",
      "1/1 [==============================] - 0s 2ms/step - loss: 0.5383 - accuracy: 0.7063\n",
      "Epoch 97/100\n",
      "1/1 [==============================] - 0s 2ms/step - loss: 0.5379 - accuracy: 0.7063\n",
      "Epoch 98/100\n",
      "1/1 [==============================] - 0s 2ms/step - loss: 0.5375 - accuracy: 0.7063\n",
      "Epoch 99/100\n",
      "1/1 [==============================] - 0s 2ms/step - loss: 0.5371 - accuracy: 0.7063\n",
      "Epoch 100/100\n",
      "1/1 [==============================] - 0s 1ms/step - loss: 0.5367 - accuracy: 0.7063\n",
      "1.3816251754760742\n"
     ]
    }
   ],
   "source": [
    "start = time.time()\n",
    "model.fit(X_train,y_train,batch_size=320,epochs=100,verbose=1)\n",
    "print(time.time() - start)"
   ]
  },
  {
   "cell_type": "code",
   "execution_count": 25,
   "metadata": {
    "execution": {
     "iopub.execute_input": "2020-09-19T07:33:56.113829Z",
     "iopub.status.busy": "2020-09-19T07:33:56.113011Z",
     "iopub.status.idle": "2020-09-19T07:33:56.291214Z",
     "shell.execute_reply": "2020-09-19T07:33:56.290520Z"
    },
    "papermill": {
     "duration": 0.327389,
     "end_time": "2020-09-19T07:33:56.291346",
     "exception": false,
     "start_time": "2020-09-19T07:33:55.963957",
     "status": "completed"
    },
    "tags": []
   },
   "outputs": [
    {
     "name": "stdout",
     "output_type": "stream",
     "text": [
      "3/3 [==============================] - 0s 1ms/step - loss: 0.3971 - accuracy: 0.8500\n"
     ]
    },
    {
     "data": {
      "text/plain": [
       "[0.3971031904220581, 0.8500000238418579]"
      ]
     },
     "execution_count": 25,
     "metadata": {},
     "output_type": "execute_result"
    }
   ],
   "source": [
    "model.evaluate(X_test,y_test)"
   ]
  },
  {
   "cell_type": "code",
   "execution_count": 26,
   "metadata": {
    "execution": {
     "iopub.execute_input": "2020-09-19T07:33:56.596286Z",
     "iopub.status.busy": "2020-09-19T07:33:56.595404Z",
     "iopub.status.idle": "2020-09-19T07:33:56.602972Z",
     "shell.execute_reply": "2020-09-19T07:33:56.602181Z"
    },
    "papermill": {
     "duration": 0.159125,
     "end_time": "2020-09-19T07:33:56.603103",
     "exception": false,
     "start_time": "2020-09-19T07:33:56.443978",
     "status": "completed"
    },
    "tags": []
   },
   "outputs": [
    {
     "data": {
      "text/plain": [
       "[array([[0.60141546],\n",
       "        [1.2957389 ],\n",
       "        [0.02419322]], dtype=float32),\n",
       " array([-0.09768548], dtype=float32)]"
      ]
     },
     "execution_count": 26,
     "metadata": {},
     "output_type": "execute_result"
    }
   ],
   "source": [
    "model.get_weights()"
   ]
  },
  {
   "cell_type": "markdown",
   "metadata": {
    "papermill": {
     "duration": 0.145336,
     "end_time": "2020-09-19T07:33:56.893613",
     "exception": false,
     "start_time": "2020-09-19T07:33:56.748277",
     "status": "completed"
    },
    "tags": []
   },
   "source": [
    "**Stochastic Gradient Descent**"
   ]
  },
  {
   "cell_type": "code",
   "execution_count": 27,
   "metadata": {
    "execution": {
     "iopub.execute_input": "2020-09-19T07:33:57.205730Z",
     "iopub.status.busy": "2020-09-19T07:33:57.204667Z",
     "iopub.status.idle": "2020-09-19T07:33:57.209830Z",
     "shell.execute_reply": "2020-09-19T07:33:57.209107Z"
    },
    "papermill": {
     "duration": 0.167854,
     "end_time": "2020-09-19T07:33:57.209975",
     "exception": false,
     "start_time": "2020-09-19T07:33:57.042121",
     "status": "completed"
    },
    "tags": []
   },
   "outputs": [],
   "source": [
    "model=Sequential()"
   ]
  },
  {
   "cell_type": "code",
   "execution_count": 28,
   "metadata": {
    "execution": {
     "iopub.execute_input": "2020-09-19T07:33:57.517218Z",
     "iopub.status.busy": "2020-09-19T07:33:57.516068Z",
     "iopub.status.idle": "2020-09-19T07:33:57.526347Z",
     "shell.execute_reply": "2020-09-19T07:33:57.525441Z"
    },
    "papermill": {
     "duration": 0.165824,
     "end_time": "2020-09-19T07:33:57.526488",
     "exception": false,
     "start_time": "2020-09-19T07:33:57.360664",
     "status": "completed"
    },
    "tags": []
   },
   "outputs": [],
   "source": [
    "model.add(Dense(1,activation='sigmoid',input_dim=X_train.shape[1]))"
   ]
  },
  {
   "cell_type": "code",
   "execution_count": 29,
   "metadata": {
    "execution": {
     "iopub.execute_input": "2020-09-19T07:33:57.823639Z",
     "iopub.status.busy": "2020-09-19T07:33:57.822822Z",
     "iopub.status.idle": "2020-09-19T07:33:57.827699Z",
     "shell.execute_reply": "2020-09-19T07:33:57.826721Z"
    },
    "papermill": {
     "duration": 0.155145,
     "end_time": "2020-09-19T07:33:57.827834",
     "exception": false,
     "start_time": "2020-09-19T07:33:57.672689",
     "status": "completed"
    },
    "tags": []
   },
   "outputs": [
    {
     "name": "stdout",
     "output_type": "stream",
     "text": [
      "Model: \"sequential_1\"\n",
      "_________________________________________________________________\n",
      "Layer (type)                 Output Shape              Param #   \n",
      "=================================================================\n",
      "dense_1 (Dense)              (None, 1)                 4         \n",
      "=================================================================\n",
      "Total params: 4\n",
      "Trainable params: 4\n",
      "Non-trainable params: 0\n",
      "_________________________________________________________________\n"
     ]
    }
   ],
   "source": [
    "model.summary()"
   ]
  },
  {
   "cell_type": "code",
   "execution_count": 30,
   "metadata": {
    "execution": {
     "iopub.execute_input": "2020-09-19T07:33:58.133214Z",
     "iopub.status.busy": "2020-09-19T07:33:58.132019Z",
     "iopub.status.idle": "2020-09-19T07:33:58.138458Z",
     "shell.execute_reply": "2020-09-19T07:33:58.137705Z"
    },
    "papermill": {
     "duration": 0.164939,
     "end_time": "2020-09-19T07:33:58.138584",
     "exception": false,
     "start_time": "2020-09-19T07:33:57.973645",
     "status": "completed"
    },
    "tags": []
   },
   "outputs": [],
   "source": [
    "model.compile(optimizer='Adam',loss='binary_crossentropy',metrics=['accuracy'])"
   ]
  },
  {
   "cell_type": "code",
   "execution_count": 31,
   "metadata": {
    "execution": {
     "iopub.execute_input": "2020-09-19T07:33:58.444839Z",
     "iopub.status.busy": "2020-09-19T07:33:58.443747Z",
     "iopub.status.idle": "2020-09-19T07:34:26.804204Z",
     "shell.execute_reply": "2020-09-19T07:34:26.802886Z"
    },
    "papermill": {
     "duration": 28.520252,
     "end_time": "2020-09-19T07:34:26.804358",
     "exception": false,
     "start_time": "2020-09-19T07:33:58.284106",
     "status": "completed"
    },
    "tags": []
   },
   "outputs": [
    {
     "name": "stdout",
     "output_type": "stream",
     "text": [
      "Epoch 1/100\n",
      "320/320 [==============================] - 0s 805us/step - loss: 0.7232 - accuracy: 0.5656\n",
      "Epoch 2/100\n",
      "320/320 [==============================] - 0s 818us/step - loss: 0.6629 - accuracy: 0.6062\n",
      "Epoch 3/100\n",
      "320/320 [==============================] - 0s 830us/step - loss: 0.6141 - accuracy: 0.6375\n",
      "Epoch 4/100\n",
      "320/320 [==============================] - 0s 833us/step - loss: 0.5739 - accuracy: 0.6594\n",
      "Epoch 5/100\n",
      "320/320 [==============================] - 0s 833us/step - loss: 0.5409 - accuracy: 0.7156\n",
      "Epoch 6/100\n",
      "320/320 [==============================] - 0s 856us/step - loss: 0.5143 - accuracy: 0.7563\n",
      "Epoch 7/100\n",
      "320/320 [==============================] - 0s 858us/step - loss: 0.4928 - accuracy: 0.7750\n",
      "Epoch 8/100\n",
      "320/320 [==============================] - 0s 872us/step - loss: 0.4751 - accuracy: 0.8000\n",
      "Epoch 9/100\n",
      "320/320 [==============================] - 0s 876us/step - loss: 0.4609 - accuracy: 0.7969\n",
      "Epoch 10/100\n",
      "320/320 [==============================] - 0s 858us/step - loss: 0.4493 - accuracy: 0.8062\n",
      "Epoch 11/100\n",
      "320/320 [==============================] - 0s 861us/step - loss: 0.4397 - accuracy: 0.8094\n",
      "Epoch 12/100\n",
      "320/320 [==============================] - 0s 857us/step - loss: 0.4317 - accuracy: 0.8156\n",
      "Epoch 13/100\n",
      "320/320 [==============================] - 0s 865us/step - loss: 0.4251 - accuracy: 0.8188\n",
      "Epoch 14/100\n",
      "320/320 [==============================] - 0s 868us/step - loss: 0.4197 - accuracy: 0.8219\n",
      "Epoch 15/100\n",
      "320/320 [==============================] - 0s 971us/step - loss: 0.4150 - accuracy: 0.8156\n",
      "Epoch 16/100\n",
      "320/320 [==============================] - 0s 911us/step - loss: 0.4113 - accuracy: 0.8188\n",
      "Epoch 17/100\n",
      "320/320 [==============================] - 0s 854us/step - loss: 0.4079 - accuracy: 0.8188\n",
      "Epoch 18/100\n",
      "320/320 [==============================] - 0s 844us/step - loss: 0.4050 - accuracy: 0.8188\n",
      "Epoch 19/100\n",
      "320/320 [==============================] - 0s 872us/step - loss: 0.4028 - accuracy: 0.8188\n",
      "Epoch 20/100\n",
      "320/320 [==============================] - 0s 843us/step - loss: 0.4006 - accuracy: 0.8156\n",
      "Epoch 21/100\n",
      "320/320 [==============================] - 0s 874us/step - loss: 0.3989 - accuracy: 0.8188\n",
      "Epoch 22/100\n",
      "320/320 [==============================] - 0s 859us/step - loss: 0.3972 - accuracy: 0.8219\n",
      "Epoch 23/100\n",
      "320/320 [==============================] - 0s 866us/step - loss: 0.3959 - accuracy: 0.8219\n",
      "Epoch 24/100\n",
      "320/320 [==============================] - 0s 892us/step - loss: 0.3945 - accuracy: 0.8219\n",
      "Epoch 25/100\n",
      "320/320 [==============================] - 0s 865us/step - loss: 0.3935 - accuracy: 0.8219\n",
      "Epoch 26/100\n",
      "320/320 [==============================] - 0s 861us/step - loss: 0.3926 - accuracy: 0.8219\n",
      "Epoch 27/100\n",
      "320/320 [==============================] - 0s 867us/step - loss: 0.3918 - accuracy: 0.8250\n",
      "Epoch 28/100\n",
      "320/320 [==============================] - 0s 845us/step - loss: 0.3911 - accuracy: 0.8250\n",
      "Epoch 29/100\n",
      "320/320 [==============================] - 0s 868us/step - loss: 0.3903 - accuracy: 0.8188\n",
      "Epoch 30/100\n",
      "320/320 [==============================] - 0s 883us/step - loss: 0.3898 - accuracy: 0.8219\n",
      "Epoch 31/100\n",
      "320/320 [==============================] - 0s 856us/step - loss: 0.3891 - accuracy: 0.8188\n",
      "Epoch 32/100\n",
      "320/320 [==============================] - 0s 866us/step - loss: 0.3886 - accuracy: 0.8219\n",
      "Epoch 33/100\n",
      "320/320 [==============================] - 0s 862us/step - loss: 0.3882 - accuracy: 0.8250\n",
      "Epoch 34/100\n",
      "320/320 [==============================] - 0s 871us/step - loss: 0.3878 - accuracy: 0.8188\n",
      "Epoch 35/100\n",
      "320/320 [==============================] - 0s 863us/step - loss: 0.3874 - accuracy: 0.8219\n",
      "Epoch 36/100\n",
      "320/320 [==============================] - 0s 858us/step - loss: 0.3873 - accuracy: 0.8219\n",
      "Epoch 37/100\n",
      "320/320 [==============================] - 0s 852us/step - loss: 0.3868 - accuracy: 0.8250\n",
      "Epoch 38/100\n",
      "320/320 [==============================] - 0s 854us/step - loss: 0.3866 - accuracy: 0.8250\n",
      "Epoch 39/100\n",
      "320/320 [==============================] - 0s 923us/step - loss: 0.3864 - accuracy: 0.8219\n",
      "Epoch 40/100\n",
      "320/320 [==============================] - 0s 850us/step - loss: 0.3861 - accuracy: 0.8250\n",
      "Epoch 41/100\n",
      "320/320 [==============================] - 0s 854us/step - loss: 0.3859 - accuracy: 0.8281\n",
      "Epoch 42/100\n",
      "320/320 [==============================] - 0s 846us/step - loss: 0.3857 - accuracy: 0.8250\n",
      "Epoch 43/100\n",
      "320/320 [==============================] - 0s 841us/step - loss: 0.3856 - accuracy: 0.8219\n",
      "Epoch 44/100\n",
      "320/320 [==============================] - 0s 857us/step - loss: 0.3854 - accuracy: 0.8250\n",
      "Epoch 45/100\n",
      "320/320 [==============================] - 0s 856us/step - loss: 0.3853 - accuracy: 0.8281\n",
      "Epoch 46/100\n",
      "320/320 [==============================] - 0s 843us/step - loss: 0.3851 - accuracy: 0.8281\n",
      "Epoch 47/100\n",
      "320/320 [==============================] - 0s 836us/step - loss: 0.3850 - accuracy: 0.8250\n",
      "Epoch 48/100\n",
      "320/320 [==============================] - 0s 860us/step - loss: 0.3847 - accuracy: 0.8281\n",
      "Epoch 49/100\n",
      "320/320 [==============================] - 0s 855us/step - loss: 0.3848 - accuracy: 0.8250\n",
      "Epoch 50/100\n",
      "320/320 [==============================] - 0s 869us/step - loss: 0.3846 - accuracy: 0.8281\n",
      "Epoch 51/100\n",
      "320/320 [==============================] - 0s 864us/step - loss: 0.3846 - accuracy: 0.8281\n",
      "Epoch 52/100\n",
      "320/320 [==============================] - 0s 857us/step - loss: 0.3844 - accuracy: 0.8313\n",
      "Epoch 53/100\n",
      "320/320 [==============================] - 0s 866us/step - loss: 0.3844 - accuracy: 0.8281\n",
      "Epoch 54/100\n",
      "320/320 [==============================] - 0s 853us/step - loss: 0.3843 - accuracy: 0.8250\n",
      "Epoch 55/100\n",
      "320/320 [==============================] - 0s 854us/step - loss: 0.3844 - accuracy: 0.8250\n",
      "Epoch 56/100\n",
      "320/320 [==============================] - 0s 857us/step - loss: 0.3842 - accuracy: 0.8281\n",
      "Epoch 57/100\n",
      "320/320 [==============================] - 0s 856us/step - loss: 0.3841 - accuracy: 0.8281\n",
      "Epoch 58/100\n",
      "320/320 [==============================] - 0s 867us/step - loss: 0.3841 - accuracy: 0.8281\n",
      "Epoch 59/100\n",
      "320/320 [==============================] - 0s 877us/step - loss: 0.3840 - accuracy: 0.8281\n",
      "Epoch 60/100\n",
      "320/320 [==============================] - 0s 901us/step - loss: 0.3840 - accuracy: 0.8250\n",
      "Epoch 61/100\n",
      "320/320 [==============================] - 0s 855us/step - loss: 0.3840 - accuracy: 0.8250\n",
      "Epoch 62/100\n",
      "320/320 [==============================] - 0s 884us/step - loss: 0.3839 - accuracy: 0.8281\n",
      "Epoch 63/100\n",
      "320/320 [==============================] - 0s 859us/step - loss: 0.3838 - accuracy: 0.8281\n",
      "Epoch 64/100\n",
      "320/320 [==============================] - 0s 858us/step - loss: 0.3838 - accuracy: 0.8281\n",
      "Epoch 65/100\n",
      "320/320 [==============================] - 0s 850us/step - loss: 0.3838 - accuracy: 0.8281\n",
      "Epoch 66/100\n",
      "320/320 [==============================] - 0s 868us/step - loss: 0.3838 - accuracy: 0.8281\n",
      "Epoch 67/100\n",
      "320/320 [==============================] - 0s 848us/step - loss: 0.3838 - accuracy: 0.8281\n",
      "Epoch 68/100\n",
      "320/320 [==============================] - 0s 864us/step - loss: 0.3837 - accuracy: 0.8313\n",
      "Epoch 69/100\n",
      "320/320 [==============================] - 0s 850us/step - loss: 0.3838 - accuracy: 0.8250\n",
      "Epoch 70/100\n",
      "320/320 [==============================] - 0s 856us/step - loss: 0.3836 - accuracy: 0.8281\n",
      "Epoch 71/100\n",
      "320/320 [==============================] - 0s 850us/step - loss: 0.3836 - accuracy: 0.8281\n",
      "Epoch 72/100\n",
      "320/320 [==============================] - 0s 865us/step - loss: 0.3836 - accuracy: 0.8313\n",
      "Epoch 73/100\n",
      "320/320 [==============================] - 0s 845us/step - loss: 0.3836 - accuracy: 0.8281\n",
      "Epoch 74/100\n",
      "320/320 [==============================] - 0s 856us/step - loss: 0.3835 - accuracy: 0.8281\n",
      "Epoch 75/100\n",
      "320/320 [==============================] - 0s 854us/step - loss: 0.3838 - accuracy: 0.8344\n",
      "Epoch 76/100\n",
      "320/320 [==============================] - 0s 867us/step - loss: 0.3835 - accuracy: 0.8281\n",
      "Epoch 77/100\n",
      "320/320 [==============================] - 0s 863us/step - loss: 0.3837 - accuracy: 0.8250\n",
      "Epoch 78/100\n",
      "320/320 [==============================] - 0s 1000us/step - loss: 0.3835 - accuracy: 0.8281\n",
      "Epoch 79/100\n",
      "320/320 [==============================] - 0s 860us/step - loss: 0.3835 - accuracy: 0.8281\n",
      "Epoch 80/100\n",
      "320/320 [==============================] - 0s 857us/step - loss: 0.3836 - accuracy: 0.8281\n",
      "Epoch 81/100\n",
      "320/320 [==============================] - 0s 860us/step - loss: 0.3835 - accuracy: 0.8281\n",
      "Epoch 82/100\n",
      "320/320 [==============================] - 0s 860us/step - loss: 0.3835 - accuracy: 0.8313\n",
      "Epoch 83/100\n",
      "320/320 [==============================] - 0s 839us/step - loss: 0.3835 - accuracy: 0.8281\n",
      "Epoch 84/100\n",
      "320/320 [==============================] - 0s 870us/step - loss: 0.3834 - accuracy: 0.8281\n",
      "Epoch 85/100\n",
      "320/320 [==============================] - 0s 840us/step - loss: 0.3835 - accuracy: 0.8281\n",
      "Epoch 86/100\n",
      "320/320 [==============================] - 0s 875us/step - loss: 0.3835 - accuracy: 0.8344\n",
      "Epoch 87/100\n",
      "320/320 [==============================] - 0s 862us/step - loss: 0.3835 - accuracy: 0.8281\n",
      "Epoch 88/100\n",
      "320/320 [==============================] - 0s 855us/step - loss: 0.3834 - accuracy: 0.8281\n",
      "Epoch 89/100\n",
      "320/320 [==============================] - 0s 847us/step - loss: 0.3834 - accuracy: 0.8281\n",
      "Epoch 90/100\n",
      "320/320 [==============================] - 0s 865us/step - loss: 0.3834 - accuracy: 0.8281\n",
      "Epoch 91/100\n",
      "320/320 [==============================] - 0s 886us/step - loss: 0.3834 - accuracy: 0.8281\n",
      "Epoch 92/100\n",
      "320/320 [==============================] - 0s 854us/step - loss: 0.3836 - accuracy: 0.8344\n",
      "Epoch 93/100\n",
      "320/320 [==============================] - 0s 859us/step - loss: 0.3833 - accuracy: 0.8281\n",
      "Epoch 94/100\n",
      "320/320 [==============================] - 0s 863us/step - loss: 0.3835 - accuracy: 0.8281\n",
      "Epoch 95/100\n",
      "320/320 [==============================] - 0s 886us/step - loss: 0.3835 - accuracy: 0.8281\n",
      "Epoch 96/100\n",
      "320/320 [==============================] - 0s 891us/step - loss: 0.3836 - accuracy: 0.8281\n",
      "Epoch 97/100\n",
      "320/320 [==============================] - 0s 863us/step - loss: 0.3834 - accuracy: 0.8313\n",
      "Epoch 98/100\n",
      "320/320 [==============================] - 0s 851us/step - loss: 0.3835 - accuracy: 0.8344\n",
      "Epoch 99/100\n",
      "320/320 [==============================] - 0s 861us/step - loss: 0.3833 - accuracy: 0.8313\n",
      "Epoch 100/100\n",
      "320/320 [==============================] - 0s 831us/step - loss: 0.3835 - accuracy: 0.8344\n",
      "28.355807304382324\n"
     ]
    }
   ],
   "source": [
    "start = time.time()\n",
    "model.fit(X_train,y_train,batch_size=1,epochs=100,verbose=1)\n",
    "print(time.time() - start)"
   ]
  },
  {
   "cell_type": "code",
   "execution_count": 32,
   "metadata": {
    "execution": {
     "iopub.execute_input": "2020-09-19T07:34:27.697879Z",
     "iopub.status.busy": "2020-09-19T07:34:27.696989Z",
     "iopub.status.idle": "2020-09-19T07:34:27.834072Z",
     "shell.execute_reply": "2020-09-19T07:34:27.834761Z"
    },
    "papermill": {
     "duration": 0.596273,
     "end_time": "2020-09-19T07:34:27.834937",
     "exception": false,
     "start_time": "2020-09-19T07:34:27.238664",
     "status": "completed"
    },
    "tags": []
   },
   "outputs": [
    {
     "name": "stdout",
     "output_type": "stream",
     "text": [
      "3/3 [==============================] - 0s 1ms/step - loss: 0.2022 - accuracy: 0.9250\n"
     ]
    },
    {
     "data": {
      "text/plain": [
       "[0.20223291218280792, 0.925000011920929]"
      ]
     },
     "execution_count": 32,
     "metadata": {},
     "output_type": "execute_result"
    }
   ],
   "source": [
    "model.evaluate(X_test,y_test)"
   ]
  },
  {
   "cell_type": "code",
   "execution_count": 33,
   "metadata": {
    "execution": {
     "iopub.execute_input": "2020-09-19T07:34:28.717963Z",
     "iopub.status.busy": "2020-09-19T07:34:28.717065Z",
     "iopub.status.idle": "2020-09-19T07:34:28.724087Z",
     "shell.execute_reply": "2020-09-19T07:34:28.723494Z"
    },
    "papermill": {
     "duration": 0.440629,
     "end_time": "2020-09-19T07:34:28.724270",
     "exception": false,
     "start_time": "2020-09-19T07:34:28.283641",
     "status": "completed"
    },
    "tags": []
   },
   "outputs": [
    {
     "data": {
      "text/plain": [
       "[array([[0.09182088],\n",
       "        [2.1806042 ],\n",
       "        [1.1379148 ]], dtype=float32),\n",
       " array([-1.0256135], dtype=float32)]"
      ]
     },
     "execution_count": 33,
     "metadata": {},
     "output_type": "execute_result"
    }
   ],
   "source": [
    "model.get_weights()"
   ]
  },
  {
   "cell_type": "markdown",
   "metadata": {
    "papermill": {
     "duration": 0.429857,
     "end_time": "2020-09-19T07:34:29.586887",
     "exception": false,
     "start_time": "2020-09-19T07:34:29.157030",
     "status": "completed"
    },
    "tags": []
   },
   "source": [
    "**Mini Batch Gradient Descent**"
   ]
  },
  {
   "cell_type": "code",
   "execution_count": 34,
   "metadata": {
    "execution": {
     "iopub.execute_input": "2020-09-19T07:34:30.515647Z",
     "iopub.status.busy": "2020-09-19T07:34:30.514599Z",
     "iopub.status.idle": "2020-09-19T07:34:30.519653Z",
     "shell.execute_reply": "2020-09-19T07:34:30.518925Z"
    },
    "papermill": {
     "duration": 0.495398,
     "end_time": "2020-09-19T07:34:30.519782",
     "exception": false,
     "start_time": "2020-09-19T07:34:30.024384",
     "status": "completed"
    },
    "tags": []
   },
   "outputs": [],
   "source": [
    "model=Sequential()"
   ]
  },
  {
   "cell_type": "code",
   "execution_count": 35,
   "metadata": {
    "execution": {
     "iopub.execute_input": "2020-09-19T07:34:31.394724Z",
     "iopub.status.busy": "2020-09-19T07:34:31.391399Z",
     "iopub.status.idle": "2020-09-19T07:34:31.401900Z",
     "shell.execute_reply": "2020-09-19T07:34:31.401093Z"
    },
    "papermill": {
     "duration": 0.451022,
     "end_time": "2020-09-19T07:34:31.402034",
     "exception": false,
     "start_time": "2020-09-19T07:34:30.951012",
     "status": "completed"
    },
    "tags": []
   },
   "outputs": [],
   "source": [
    "model.add(Dense(1,activation='sigmoid',input_dim=X_train.shape[1]))"
   ]
  },
  {
   "cell_type": "code",
   "execution_count": 36,
   "metadata": {
    "execution": {
     "iopub.execute_input": "2020-09-19T07:34:32.307486Z",
     "iopub.status.busy": "2020-09-19T07:34:32.306339Z",
     "iopub.status.idle": "2020-09-19T07:34:32.313349Z",
     "shell.execute_reply": "2020-09-19T07:34:32.310563Z"
    },
    "papermill": {
     "duration": 0.452794,
     "end_time": "2020-09-19T07:34:32.313509",
     "exception": false,
     "start_time": "2020-09-19T07:34:31.860715",
     "status": "completed"
    },
    "tags": []
   },
   "outputs": [
    {
     "name": "stdout",
     "output_type": "stream",
     "text": [
      "Model: \"sequential_2\"\n",
      "_________________________________________________________________\n",
      "Layer (type)                 Output Shape              Param #   \n",
      "=================================================================\n",
      "dense_2 (Dense)              (None, 1)                 4         \n",
      "=================================================================\n",
      "Total params: 4\n",
      "Trainable params: 4\n",
      "Non-trainable params: 0\n",
      "_________________________________________________________________\n"
     ]
    }
   ],
   "source": [
    "model.summary()"
   ]
  },
  {
   "cell_type": "code",
   "execution_count": 37,
   "metadata": {
    "execution": {
     "iopub.execute_input": "2020-09-19T07:34:33.188492Z",
     "iopub.status.busy": "2020-09-19T07:34:33.187305Z",
     "iopub.status.idle": "2020-09-19T07:34:33.194147Z",
     "shell.execute_reply": "2020-09-19T07:34:33.193506Z"
    },
    "papermill": {
     "duration": 0.45006,
     "end_time": "2020-09-19T07:34:33.194285",
     "exception": false,
     "start_time": "2020-09-19T07:34:32.744225",
     "status": "completed"
    },
    "tags": []
   },
   "outputs": [],
   "source": [
    "model.compile(optimizer='Adam',loss='binary_crossentropy',metrics=['accuracy'])"
   ]
  },
  {
   "cell_type": "code",
   "execution_count": 38,
   "metadata": {
    "execution": {
     "iopub.execute_input": "2020-09-19T07:34:34.059677Z",
     "iopub.status.busy": "2020-09-19T07:34:34.058750Z",
     "iopub.status.idle": "2020-09-19T07:34:37.629023Z",
     "shell.execute_reply": "2020-09-19T07:34:37.628393Z"
    },
    "papermill": {
     "duration": 4.004196,
     "end_time": "2020-09-19T07:34:37.629172",
     "exception": false,
     "start_time": "2020-09-19T07:34:33.624976",
     "status": "completed"
    },
    "tags": []
   },
   "outputs": [
    {
     "name": "stdout",
     "output_type": "stream",
     "text": [
      "Epoch 1/100\n",
      "32/32 [==============================] - 0s 851us/step - loss: 0.7844 - accuracy: 0.4281\n",
      "Epoch 2/100\n",
      "32/32 [==============================] - 0s 817us/step - loss: 0.7694 - accuracy: 0.4594\n",
      "Epoch 3/100\n",
      "32/32 [==============================] - 0s 860us/step - loss: 0.7554 - accuracy: 0.4812\n",
      "Epoch 4/100\n",
      "32/32 [==============================] - 0s 830us/step - loss: 0.7419 - accuracy: 0.4969\n",
      "Epoch 5/100\n",
      "32/32 [==============================] - 0s 839us/step - loss: 0.7290 - accuracy: 0.5250\n",
      "Epoch 6/100\n",
      "32/32 [==============================] - 0s 824us/step - loss: 0.7165 - accuracy: 0.5562\n",
      "Epoch 7/100\n",
      "32/32 [==============================] - 0s 842us/step - loss: 0.7047 - accuracy: 0.5906\n",
      "Epoch 8/100\n",
      "32/32 [==============================] - 0s 854us/step - loss: 0.6932 - accuracy: 0.6062\n",
      "Epoch 9/100\n",
      "32/32 [==============================] - 0s 825us/step - loss: 0.6823 - accuracy: 0.6313\n",
      "Epoch 10/100\n",
      "32/32 [==============================] - 0s 811us/step - loss: 0.6719 - accuracy: 0.6594\n",
      "Epoch 11/100\n",
      "32/32 [==============================] - 0s 855us/step - loss: 0.6618 - accuracy: 0.6906\n",
      "Epoch 12/100\n",
      "32/32 [==============================] - 0s 852us/step - loss: 0.6522 - accuracy: 0.7031\n",
      "Epoch 13/100\n",
      "32/32 [==============================] - 0s 828us/step - loss: 0.6431 - accuracy: 0.7156\n",
      "Epoch 14/100\n",
      "32/32 [==============================] - 0s 799us/step - loss: 0.6343 - accuracy: 0.7281\n",
      "Epoch 15/100\n",
      "32/32 [==============================] - 0s 820us/step - loss: 0.6259 - accuracy: 0.7469\n",
      "Epoch 16/100\n",
      "32/32 [==============================] - 0s 967us/step - loss: 0.6178 - accuracy: 0.7469\n",
      "Epoch 17/100\n",
      "32/32 [==============================] - 0s 1ms/step - loss: 0.6101 - accuracy: 0.7437\n",
      "Epoch 18/100\n",
      "32/32 [==============================] - 0s 1ms/step - loss: 0.6027 - accuracy: 0.7531\n",
      "Epoch 19/100\n",
      "32/32 [==============================] - 0s 885us/step - loss: 0.5954 - accuracy: 0.7625\n",
      "Epoch 20/100\n",
      "32/32 [==============================] - 0s 1ms/step - loss: 0.5885 - accuracy: 0.7844\n",
      "Epoch 21/100\n",
      "32/32 [==============================] - 0s 1ms/step - loss: 0.5819 - accuracy: 0.7906\n",
      "Epoch 22/100\n",
      "32/32 [==============================] - 0s 969us/step - loss: 0.5755 - accuracy: 0.7906\n",
      "Epoch 23/100\n",
      "32/32 [==============================] - 0s 1ms/step - loss: 0.5694 - accuracy: 0.7937\n",
      "Epoch 24/100\n",
      "32/32 [==============================] - 0s 879us/step - loss: 0.5636 - accuracy: 0.7906\n",
      "Epoch 25/100\n",
      "32/32 [==============================] - 0s 927us/step - loss: 0.5577 - accuracy: 0.7906\n",
      "Epoch 26/100\n",
      "32/32 [==============================] - 0s 891us/step - loss: 0.5523 - accuracy: 0.7906\n",
      "Epoch 27/100\n",
      "32/32 [==============================] - 0s 925us/step - loss: 0.5471 - accuracy: 0.7906\n",
      "Epoch 28/100\n",
      "32/32 [==============================] - 0s 885us/step - loss: 0.5419 - accuracy: 0.7906\n",
      "Epoch 29/100\n",
      "32/32 [==============================] - 0s 879us/step - loss: 0.5370 - accuracy: 0.7875\n",
      "Epoch 30/100\n",
      "32/32 [==============================] - 0s 868us/step - loss: 0.5323 - accuracy: 0.7937\n",
      "Epoch 31/100\n",
      "32/32 [==============================] - 0s 861us/step - loss: 0.5277 - accuracy: 0.7969\n",
      "Epoch 32/100\n",
      "32/32 [==============================] - 0s 806us/step - loss: 0.5234 - accuracy: 0.8000\n",
      "Epoch 33/100\n",
      "32/32 [==============================] - 0s 845us/step - loss: 0.5192 - accuracy: 0.7969\n",
      "Epoch 34/100\n",
      "32/32 [==============================] - 0s 867us/step - loss: 0.5149 - accuracy: 0.8031\n",
      "Epoch 35/100\n",
      "32/32 [==============================] - 0s 919us/step - loss: 0.5110 - accuracy: 0.8062\n",
      "Epoch 36/100\n",
      "32/32 [==============================] - 0s 894us/step - loss: 0.5073 - accuracy: 0.8062\n",
      "Epoch 37/100\n",
      "32/32 [==============================] - 0s 821us/step - loss: 0.5035 - accuracy: 0.8062\n",
      "Epoch 38/100\n",
      "32/32 [==============================] - 0s 845us/step - loss: 0.5000 - accuracy: 0.8062\n",
      "Epoch 39/100\n",
      "32/32 [==============================] - 0s 807us/step - loss: 0.4965 - accuracy: 0.8062\n",
      "Epoch 40/100\n",
      "32/32 [==============================] - 0s 910us/step - loss: 0.4931 - accuracy: 0.8125\n",
      "Epoch 41/100\n",
      "32/32 [==============================] - 0s 879us/step - loss: 0.4899 - accuracy: 0.8125\n",
      "Epoch 42/100\n",
      "32/32 [==============================] - 0s 798us/step - loss: 0.4868 - accuracy: 0.8125\n",
      "Epoch 43/100\n",
      "32/32 [==============================] - 0s 836us/step - loss: 0.4837 - accuracy: 0.8062\n",
      "Epoch 44/100\n",
      "32/32 [==============================] - 0s 877us/step - loss: 0.4808 - accuracy: 0.8062\n",
      "Epoch 45/100\n",
      "32/32 [==============================] - 0s 848us/step - loss: 0.4779 - accuracy: 0.8125\n",
      "Epoch 46/100\n",
      "32/32 [==============================] - 0s 800us/step - loss: 0.4752 - accuracy: 0.8094\n",
      "Epoch 47/100\n",
      "32/32 [==============================] - 0s 794us/step - loss: 0.4726 - accuracy: 0.8125\n",
      "Epoch 48/100\n",
      "32/32 [==============================] - 0s 841us/step - loss: 0.4699 - accuracy: 0.8125\n",
      "Epoch 49/100\n",
      "32/32 [==============================] - 0s 885us/step - loss: 0.4674 - accuracy: 0.8094\n",
      "Epoch 50/100\n",
      "32/32 [==============================] - 0s 907us/step - loss: 0.4651 - accuracy: 0.8125\n",
      "Epoch 51/100\n",
      "32/32 [==============================] - 0s 853us/step - loss: 0.4627 - accuracy: 0.8125\n",
      "Epoch 52/100\n",
      "32/32 [==============================] - 0s 827us/step - loss: 0.4604 - accuracy: 0.8125\n",
      "Epoch 53/100\n",
      "32/32 [==============================] - 0s 825us/step - loss: 0.4583 - accuracy: 0.8219\n",
      "Epoch 54/100\n",
      "32/32 [==============================] - 0s 847us/step - loss: 0.4561 - accuracy: 0.8250\n",
      "Epoch 55/100\n",
      "32/32 [==============================] - 0s 875us/step - loss: 0.4540 - accuracy: 0.8250\n",
      "Epoch 56/100\n",
      "32/32 [==============================] - 0s 831us/step - loss: 0.4520 - accuracy: 0.8281\n",
      "Epoch 57/100\n",
      "32/32 [==============================] - 0s 812us/step - loss: 0.4501 - accuracy: 0.8250\n",
      "Epoch 58/100\n",
      "32/32 [==============================] - 0s 878us/step - loss: 0.4482 - accuracy: 0.8188\n",
      "Epoch 59/100\n",
      "32/32 [==============================] - 0s 892us/step - loss: 0.4462 - accuracy: 0.8188\n",
      "Epoch 60/100\n",
      "32/32 [==============================] - 0s 831us/step - loss: 0.4446 - accuracy: 0.8188\n",
      "Epoch 61/100\n",
      "32/32 [==============================] - 0s 837us/step - loss: 0.4429 - accuracy: 0.8219\n",
      "Epoch 62/100\n",
      "32/32 [==============================] - 0s 891us/step - loss: 0.4412 - accuracy: 0.8188\n",
      "Epoch 63/100\n",
      "32/32 [==============================] - 0s 873us/step - loss: 0.4395 - accuracy: 0.8188\n",
      "Epoch 64/100\n",
      "32/32 [==============================] - 0s 853us/step - loss: 0.4379 - accuracy: 0.8188\n",
      "Epoch 65/100\n",
      "32/32 [==============================] - 0s 836us/step - loss: 0.4365 - accuracy: 0.8156\n",
      "Epoch 66/100\n",
      "32/32 [==============================] - 0s 855us/step - loss: 0.4349 - accuracy: 0.8156\n",
      "Epoch 67/100\n",
      "32/32 [==============================] - 0s 799us/step - loss: 0.4335 - accuracy: 0.8156\n",
      "Epoch 68/100\n",
      "32/32 [==============================] - 0s 813us/step - loss: 0.4321 - accuracy: 0.8188\n",
      "Epoch 69/100\n",
      "32/32 [==============================] - 0s 852us/step - loss: 0.4307 - accuracy: 0.8188\n",
      "Epoch 70/100\n",
      "32/32 [==============================] - 0s 873us/step - loss: 0.4294 - accuracy: 0.8188\n",
      "Epoch 71/100\n",
      "32/32 [==============================] - 0s 849us/step - loss: 0.4283 - accuracy: 0.8188\n",
      "Epoch 72/100\n",
      "32/32 [==============================] - 0s 831us/step - loss: 0.4269 - accuracy: 0.8156\n",
      "Epoch 73/100\n",
      "32/32 [==============================] - 0s 849us/step - loss: 0.4257 - accuracy: 0.8156\n",
      "Epoch 74/100\n",
      "32/32 [==============================] - 0s 842us/step - loss: 0.4245 - accuracy: 0.8156\n",
      "Epoch 75/100\n",
      "32/32 [==============================] - 0s 894us/step - loss: 0.4234 - accuracy: 0.8156\n",
      "Epoch 76/100\n",
      "32/32 [==============================] - 0s 797us/step - loss: 0.4224 - accuracy: 0.8156\n",
      "Epoch 77/100\n",
      "32/32 [==============================] - 0s 792us/step - loss: 0.4212 - accuracy: 0.8125\n",
      "Epoch 78/100\n",
      "32/32 [==============================] - 0s 927us/step - loss: 0.4202 - accuracy: 0.8125\n",
      "Epoch 79/100\n",
      "32/32 [==============================] - 0s 870us/step - loss: 0.4192 - accuracy: 0.8125\n",
      "Epoch 80/100\n",
      "32/32 [==============================] - 0s 942us/step - loss: 0.4182 - accuracy: 0.8125\n",
      "Epoch 81/100\n",
      "32/32 [==============================] - 0s 862us/step - loss: 0.4173 - accuracy: 0.8125\n",
      "Epoch 82/100\n",
      "32/32 [==============================] - 0s 867us/step - loss: 0.4163 - accuracy: 0.8125\n",
      "Epoch 83/100\n",
      "32/32 [==============================] - 0s 829us/step - loss: 0.4154 - accuracy: 0.8094\n",
      "Epoch 84/100\n",
      "32/32 [==============================] - 0s 882us/step - loss: 0.4146 - accuracy: 0.8094\n",
      "Epoch 85/100\n",
      "32/32 [==============================] - 0s 836us/step - loss: 0.4137 - accuracy: 0.8094\n",
      "Epoch 86/100\n",
      "32/32 [==============================] - 0s 844us/step - loss: 0.4128 - accuracy: 0.8125\n",
      "Epoch 87/100\n",
      "32/32 [==============================] - 0s 828us/step - loss: 0.4120 - accuracy: 0.8156\n",
      "Epoch 88/100\n",
      "32/32 [==============================] - 0s 848us/step - loss: 0.4113 - accuracy: 0.8156\n",
      "Epoch 89/100\n",
      "32/32 [==============================] - 0s 864us/step - loss: 0.4105 - accuracy: 0.8156\n",
      "Epoch 90/100\n",
      "32/32 [==============================] - 0s 838us/step - loss: 0.4098 - accuracy: 0.8156\n",
      "Epoch 91/100\n",
      "32/32 [==============================] - 0s 851us/step - loss: 0.4090 - accuracy: 0.8156\n",
      "Epoch 92/100\n",
      "32/32 [==============================] - 0s 831us/step - loss: 0.4084 - accuracy: 0.8188\n",
      "Epoch 93/100\n",
      "32/32 [==============================] - 0s 855us/step - loss: 0.4077 - accuracy: 0.8188\n",
      "Epoch 94/100\n",
      "32/32 [==============================] - 0s 851us/step - loss: 0.4069 - accuracy: 0.8188\n",
      "Epoch 95/100\n",
      "32/32 [==============================] - 0s 829us/step - loss: 0.4063 - accuracy: 0.8188\n",
      "Epoch 96/100\n",
      "32/32 [==============================] - 0s 887us/step - loss: 0.4057 - accuracy: 0.8219\n",
      "Epoch 97/100\n",
      "32/32 [==============================] - 0s 835us/step - loss: 0.4051 - accuracy: 0.8219\n",
      "Epoch 98/100\n",
      "32/32 [==============================] - 0s 829us/step - loss: 0.4045 - accuracy: 0.8219\n",
      "Epoch 99/100\n",
      "32/32 [==============================] - 0s 838us/step - loss: 0.4040 - accuracy: 0.8250\n",
      "Epoch 100/100\n",
      "32/32 [==============================] - 0s 873us/step - loss: 0.4035 - accuracy: 0.8250\n",
      "3.5674185752868652\n"
     ]
    }
   ],
   "source": [
    "start = time.time()\n",
    "model.fit(X_train,y_train,batch_size=10,epochs=100,verbose=1)\n",
    "print(time.time() - start)"
   ]
  },
  {
   "cell_type": "code",
   "execution_count": 39,
   "metadata": {
    "execution": {
     "iopub.execute_input": "2020-09-19T07:34:38.657114Z",
     "iopub.status.busy": "2020-09-19T07:34:38.656377Z",
     "iopub.status.idle": "2020-09-19T07:34:38.789840Z",
     "shell.execute_reply": "2020-09-19T07:34:38.789028Z"
    },
    "papermill": {
     "duration": 0.650189,
     "end_time": "2020-09-19T07:34:38.789967",
     "exception": false,
     "start_time": "2020-09-19T07:34:38.139778",
     "status": "completed"
    },
    "tags": []
   },
   "outputs": [
    {
     "name": "stdout",
     "output_type": "stream",
     "text": [
      "3/3 [==============================] - 0s 1ms/step - loss: 0.2669 - accuracy: 0.9125\n"
     ]
    },
    {
     "data": {
      "text/plain": [
       "[0.266890287399292, 0.9125000238418579]"
      ]
     },
     "execution_count": 39,
     "metadata": {},
     "output_type": "execute_result"
    }
   ],
   "source": [
    "model.evaluate(X_test,y_test)"
   ]
  },
  {
   "cell_type": "code",
   "execution_count": 40,
   "metadata": {
    "execution": {
     "iopub.execute_input": "2020-09-19T07:34:39.818885Z",
     "iopub.status.busy": "2020-09-19T07:34:39.817798Z",
     "iopub.status.idle": "2020-09-19T07:34:39.822962Z",
     "shell.execute_reply": "2020-09-19T07:34:39.822211Z"
    },
    "papermill": {
     "duration": 0.522237,
     "end_time": "2020-09-19T07:34:39.823088",
     "exception": false,
     "start_time": "2020-09-19T07:34:39.300851",
     "status": "completed"
    },
    "tags": []
   },
   "outputs": [
    {
     "data": {
      "text/plain": [
       "[array([[-0.00727106],\n",
       "        [ 1.3712425 ],\n",
       "        [ 0.8245468 ]], dtype=float32),\n",
       " array([-0.72135526], dtype=float32)]"
      ]
     },
     "execution_count": 40,
     "metadata": {},
     "output_type": "execute_result"
    }
   ],
   "source": [
    "model.get_weights()"
   ]
  },
  {
   "cell_type": "markdown",
   "metadata": {
    "papermill": {
     "duration": 0.581963,
     "end_time": "2020-09-19T07:34:40.918058",
     "exception": false,
     "start_time": "2020-09-19T07:34:40.336095",
     "status": "completed"
    },
    "tags": []
   },
   "source": [
    "**BGD is not performing well in the test model. SGD is slightly performing better than Mini-Batch.**\n",
    "\n",
    "**On the other hand, the time taken by Mini-batch is very less than SGD. And BGD is taking a lot of time.**\n",
    "\n",
    "*So, in both ways BGD is not a good choice in this case.*"
   ]
  }
 ],
 "metadata": {
  "kernelspec": {
   "display_name": "Python 3",
   "language": "python",
   "name": "python3"
  },
  "language_info": {
   "codemirror_mode": {
    "name": "ipython",
    "version": 3
   },
   "file_extension": ".py",
   "mimetype": "text/x-python",
   "name": "python",
   "nbconvert_exporter": "python",
   "pygments_lexer": "ipython3",
   "version": "3.7.6"
  },
  "papermill": {
   "duration": 63.158507,
   "end_time": "2020-09-19T07:34:42.535701",
   "environment_variables": {},
   "exception": null,
   "input_path": "__notebook__.ipynb",
   "output_path": "__notebook__.ipynb",
   "parameters": {},
   "start_time": "2020-09-19T07:33:39.377194",
   "version": "2.1.0"
  }
 },
 "nbformat": 4,
 "nbformat_minor": 4
}
