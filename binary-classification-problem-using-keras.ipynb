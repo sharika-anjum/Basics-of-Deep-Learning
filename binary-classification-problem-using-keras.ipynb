{
 "cells": [
  {
   "cell_type": "code",
   "execution_count": 1,
   "metadata": {
    "_cell_guid": "b1076dfc-b9ad-4769-8c92-a6c4dae69d19",
    "_uuid": "8f2839f25d086af736a60e9eeb907d3b93b6e0e5",
    "execution": {
     "iopub.execute_input": "2020-09-16T14:48:50.252984Z",
     "iopub.status.busy": "2020-09-16T14:48:50.251820Z",
     "iopub.status.idle": "2020-09-16T14:48:50.258363Z",
     "shell.execute_reply": "2020-09-16T14:48:50.259483Z"
    },
    "papermill": {
     "duration": 0.048635,
     "end_time": "2020-09-16T14:48:50.259751",
     "exception": false,
     "start_time": "2020-09-16T14:48:50.211116",
     "status": "completed"
    },
    "tags": []
   },
   "outputs": [
    {
     "name": "stdout",
     "output_type": "stream",
     "text": [
      "/kaggle/input/churn-modelling/Churn_Modelling.csv\n"
     ]
    }
   ],
   "source": [
    "# This Python 3 environment comes with many helpful analytics libraries installed\n",
    "# It is defined by the kaggle/python Docker image: https://github.com/kaggle/docker-python\n",
    "# For example, here's several helpful packages to load\n",
    "\n",
    "import numpy as np # linear algebra\n",
    "import pandas as pd # data processing, CSV file I/O (e.g. pd.read_csv)\n",
    "\n",
    "# Input data files are available in the read-only \"../input/\" directory\n",
    "# For example, running this (by clicking run or pressing Shift+Enter) will list all files under the input directory\n",
    "\n",
    "import os\n",
    "for dirname, _, filenames in os.walk('/kaggle/input'):\n",
    "    for filename in filenames:\n",
    "        print(os.path.join(dirname, filename))\n",
    "\n",
    "# You can write up to 5GB to the current directory (/kaggle/working/) that gets preserved as output when you create a version using \"Save & Run All\" \n",
    "# You can also write temporary files to /kaggle/temp/, but they won't be saved outside of the current session"
   ]
  },
  {
   "cell_type": "code",
   "execution_count": 2,
   "metadata": {
    "_cell_guid": "79c7e3d0-c299-4dcb-8224-4455121ee9b0",
    "_uuid": "d629ff2d2480ee46fbb7e2d37f6b5fab8052498a",
    "execution": {
     "iopub.execute_input": "2020-09-16T14:48:50.330156Z",
     "iopub.status.busy": "2020-09-16T14:48:50.329109Z",
     "iopub.status.idle": "2020-09-16T14:48:50.371460Z",
     "shell.execute_reply": "2020-09-16T14:48:50.370363Z"
    },
    "papermill": {
     "duration": 0.078516,
     "end_time": "2020-09-16T14:48:50.371624",
     "exception": false,
     "start_time": "2020-09-16T14:48:50.293108",
     "status": "completed"
    },
    "tags": []
   },
   "outputs": [],
   "source": [
    "df=pd.read_csv(\"/kaggle/input/churn-modelling/Churn_Modelling.csv\")"
   ]
  },
  {
   "cell_type": "code",
   "execution_count": 3,
   "metadata": {
    "execution": {
     "iopub.execute_input": "2020-09-16T14:48:50.446715Z",
     "iopub.status.busy": "2020-09-16T14:48:50.445547Z",
     "iopub.status.idle": "2020-09-16T14:48:50.462473Z",
     "shell.execute_reply": "2020-09-16T14:48:50.461363Z"
    },
    "papermill": {
     "duration": 0.063044,
     "end_time": "2020-09-16T14:48:50.462654",
     "exception": false,
     "start_time": "2020-09-16T14:48:50.399610",
     "status": "completed"
    },
    "tags": []
   },
   "outputs": [
    {
     "data": {
      "text/html": [
       "<div>\n",
       "<style scoped>\n",
       "    .dataframe tbody tr th:only-of-type {\n",
       "        vertical-align: middle;\n",
       "    }\n",
       "\n",
       "    .dataframe tbody tr th {\n",
       "        vertical-align: top;\n",
       "    }\n",
       "\n",
       "    .dataframe thead th {\n",
       "        text-align: right;\n",
       "    }\n",
       "</style>\n",
       "<table border=\"1\" class=\"dataframe\">\n",
       "  <thead>\n",
       "    <tr style=\"text-align: right;\">\n",
       "      <th></th>\n",
       "      <th>RowNumber</th>\n",
       "      <th>CustomerId</th>\n",
       "      <th>Surname</th>\n",
       "      <th>CreditScore</th>\n",
       "      <th>Geography</th>\n",
       "      <th>Gender</th>\n",
       "      <th>Age</th>\n",
       "      <th>Tenure</th>\n",
       "      <th>Balance</th>\n",
       "      <th>NumOfProducts</th>\n",
       "      <th>HasCrCard</th>\n",
       "      <th>IsActiveMember</th>\n",
       "      <th>EstimatedSalary</th>\n",
       "      <th>Exited</th>\n",
       "    </tr>\n",
       "  </thead>\n",
       "  <tbody>\n",
       "    <tr>\n",
       "      <th>0</th>\n",
       "      <td>1</td>\n",
       "      <td>15634602</td>\n",
       "      <td>Hargrave</td>\n",
       "      <td>619</td>\n",
       "      <td>France</td>\n",
       "      <td>Female</td>\n",
       "      <td>42</td>\n",
       "      <td>2</td>\n",
       "      <td>0.00</td>\n",
       "      <td>1</td>\n",
       "      <td>1</td>\n",
       "      <td>1</td>\n",
       "      <td>101348.88</td>\n",
       "      <td>1</td>\n",
       "    </tr>\n",
       "    <tr>\n",
       "      <th>1</th>\n",
       "      <td>2</td>\n",
       "      <td>15647311</td>\n",
       "      <td>Hill</td>\n",
       "      <td>608</td>\n",
       "      <td>Spain</td>\n",
       "      <td>Female</td>\n",
       "      <td>41</td>\n",
       "      <td>1</td>\n",
       "      <td>83807.86</td>\n",
       "      <td>1</td>\n",
       "      <td>0</td>\n",
       "      <td>1</td>\n",
       "      <td>112542.58</td>\n",
       "      <td>0</td>\n",
       "    </tr>\n",
       "    <tr>\n",
       "      <th>2</th>\n",
       "      <td>3</td>\n",
       "      <td>15619304</td>\n",
       "      <td>Onio</td>\n",
       "      <td>502</td>\n",
       "      <td>France</td>\n",
       "      <td>Female</td>\n",
       "      <td>42</td>\n",
       "      <td>8</td>\n",
       "      <td>159660.80</td>\n",
       "      <td>3</td>\n",
       "      <td>1</td>\n",
       "      <td>0</td>\n",
       "      <td>113931.57</td>\n",
       "      <td>1</td>\n",
       "    </tr>\n",
       "    <tr>\n",
       "      <th>3</th>\n",
       "      <td>4</td>\n",
       "      <td>15701354</td>\n",
       "      <td>Boni</td>\n",
       "      <td>699</td>\n",
       "      <td>France</td>\n",
       "      <td>Female</td>\n",
       "      <td>39</td>\n",
       "      <td>1</td>\n",
       "      <td>0.00</td>\n",
       "      <td>2</td>\n",
       "      <td>0</td>\n",
       "      <td>0</td>\n",
       "      <td>93826.63</td>\n",
       "      <td>0</td>\n",
       "    </tr>\n",
       "    <tr>\n",
       "      <th>4</th>\n",
       "      <td>5</td>\n",
       "      <td>15737888</td>\n",
       "      <td>Mitchell</td>\n",
       "      <td>850</td>\n",
       "      <td>Spain</td>\n",
       "      <td>Female</td>\n",
       "      <td>43</td>\n",
       "      <td>2</td>\n",
       "      <td>125510.82</td>\n",
       "      <td>1</td>\n",
       "      <td>1</td>\n",
       "      <td>1</td>\n",
       "      <td>79084.10</td>\n",
       "      <td>0</td>\n",
       "    </tr>\n",
       "  </tbody>\n",
       "</table>\n",
       "</div>"
      ],
      "text/plain": [
       "   RowNumber  CustomerId   Surname  CreditScore Geography  Gender  Age  \\\n",
       "0          1    15634602  Hargrave          619    France  Female   42   \n",
       "1          2    15647311      Hill          608     Spain  Female   41   \n",
       "2          3    15619304      Onio          502    France  Female   42   \n",
       "3          4    15701354      Boni          699    France  Female   39   \n",
       "4          5    15737888  Mitchell          850     Spain  Female   43   \n",
       "\n",
       "   Tenure    Balance  NumOfProducts  HasCrCard  IsActiveMember  \\\n",
       "0       2       0.00              1          1               1   \n",
       "1       1   83807.86              1          0               1   \n",
       "2       8  159660.80              3          1               0   \n",
       "3       1       0.00              2          0               0   \n",
       "4       2  125510.82              1          1               1   \n",
       "\n",
       "   EstimatedSalary  Exited  \n",
       "0        101348.88       1  \n",
       "1        112542.58       0  \n",
       "2        113931.57       1  \n",
       "3         93826.63       0  \n",
       "4         79084.10       0  "
      ]
     },
     "execution_count": 3,
     "metadata": {},
     "output_type": "execute_result"
    }
   ],
   "source": [
    "df.head()"
   ]
  },
  {
   "cell_type": "code",
   "execution_count": 4,
   "metadata": {
    "execution": {
     "iopub.execute_input": "2020-09-16T14:48:50.528478Z",
     "iopub.status.busy": "2020-09-16T14:48:50.527446Z",
     "iopub.status.idle": "2020-09-16T14:48:50.533405Z",
     "shell.execute_reply": "2020-09-16T14:48:50.532485Z"
    },
    "papermill": {
     "duration": 0.039075,
     "end_time": "2020-09-16T14:48:50.533607",
     "exception": false,
     "start_time": "2020-09-16T14:48:50.494532",
     "status": "completed"
    },
    "tags": []
   },
   "outputs": [
    {
     "data": {
      "text/plain": [
       "(10000, 14)"
      ]
     },
     "execution_count": 4,
     "metadata": {},
     "output_type": "execute_result"
    }
   ],
   "source": [
    "df.shape"
   ]
  },
  {
   "cell_type": "code",
   "execution_count": 5,
   "metadata": {
    "execution": {
     "iopub.execute_input": "2020-09-16T14:48:50.605117Z",
     "iopub.status.busy": "2020-09-16T14:48:50.603939Z",
     "iopub.status.idle": "2020-09-16T14:48:50.626013Z",
     "shell.execute_reply": "2020-09-16T14:48:50.626617Z"
    },
    "papermill": {
     "duration": 0.061341,
     "end_time": "2020-09-16T14:48:50.626771",
     "exception": false,
     "start_time": "2020-09-16T14:48:50.565430",
     "status": "completed"
    },
    "tags": []
   },
   "outputs": [
    {
     "name": "stdout",
     "output_type": "stream",
     "text": [
      "<class 'pandas.core.frame.DataFrame'>\n",
      "RangeIndex: 10000 entries, 0 to 9999\n",
      "Data columns (total 14 columns):\n",
      " #   Column           Non-Null Count  Dtype  \n",
      "---  ------           --------------  -----  \n",
      " 0   RowNumber        10000 non-null  int64  \n",
      " 1   CustomerId       10000 non-null  int64  \n",
      " 2   Surname          10000 non-null  object \n",
      " 3   CreditScore      10000 non-null  int64  \n",
      " 4   Geography        10000 non-null  object \n",
      " 5   Gender           10000 non-null  object \n",
      " 6   Age              10000 non-null  int64  \n",
      " 7   Tenure           10000 non-null  int64  \n",
      " 8   Balance          10000 non-null  float64\n",
      " 9   NumOfProducts    10000 non-null  int64  \n",
      " 10  HasCrCard        10000 non-null  int64  \n",
      " 11  IsActiveMember   10000 non-null  int64  \n",
      " 12  EstimatedSalary  10000 non-null  float64\n",
      " 13  Exited           10000 non-null  int64  \n",
      "dtypes: float64(2), int64(9), object(3)\n",
      "memory usage: 1.1+ MB\n"
     ]
    }
   ],
   "source": [
    "df.info()"
   ]
  },
  {
   "cell_type": "code",
   "execution_count": 6,
   "metadata": {
    "execution": {
     "iopub.execute_input": "2020-09-16T14:48:50.699380Z",
     "iopub.status.busy": "2020-09-16T14:48:50.698333Z",
     "iopub.status.idle": "2020-09-16T14:48:50.702954Z",
     "shell.execute_reply": "2020-09-16T14:48:50.703559Z"
    },
    "papermill": {
     "duration": 0.047237,
     "end_time": "2020-09-16T14:48:50.703711",
     "exception": false,
     "start_time": "2020-09-16T14:48:50.656474",
     "status": "completed"
    },
    "tags": []
   },
   "outputs": [
    {
     "data": {
      "text/plain": [
       "France     5014\n",
       "Germany    2509\n",
       "Spain      2477\n",
       "Name: Geography, dtype: int64"
      ]
     },
     "execution_count": 6,
     "metadata": {},
     "output_type": "execute_result"
    }
   ],
   "source": [
    "df['Geography'].value_counts()"
   ]
  },
  {
   "cell_type": "code",
   "execution_count": 7,
   "metadata": {
    "execution": {
     "iopub.execute_input": "2020-09-16T14:48:50.780051Z",
     "iopub.status.busy": "2020-09-16T14:48:50.779062Z",
     "iopub.status.idle": "2020-09-16T14:48:50.783725Z",
     "shell.execute_reply": "2020-09-16T14:48:50.783083Z"
    },
    "papermill": {
     "duration": 0.047264,
     "end_time": "2020-09-16T14:48:50.783852",
     "exception": false,
     "start_time": "2020-09-16T14:48:50.736588",
     "status": "completed"
    },
    "tags": []
   },
   "outputs": [
    {
     "data": {
      "text/plain": [
       "Male      5457\n",
       "Female    4543\n",
       "Name: Gender, dtype: int64"
      ]
     },
     "execution_count": 7,
     "metadata": {},
     "output_type": "execute_result"
    }
   ],
   "source": [
    "df['Gender'].value_counts()"
   ]
  },
  {
   "cell_type": "code",
   "execution_count": 8,
   "metadata": {
    "execution": {
     "iopub.execute_input": "2020-09-16T14:48:50.857093Z",
     "iopub.status.busy": "2020-09-16T14:48:50.856164Z",
     "iopub.status.idle": "2020-09-16T14:48:50.859507Z",
     "shell.execute_reply": "2020-09-16T14:48:50.858845Z"
    },
    "papermill": {
     "duration": 0.044846,
     "end_time": "2020-09-16T14:48:50.859630",
     "exception": false,
     "start_time": "2020-09-16T14:48:50.814784",
     "status": "completed"
    },
    "tags": []
   },
   "outputs": [],
   "source": [
    "#dropping out unwanted columns\n",
    "df.drop(columns=['RowNumber','CustomerId','Surname'],inplace=True)"
   ]
  },
  {
   "cell_type": "code",
   "execution_count": 9,
   "metadata": {
    "execution": {
     "iopub.execute_input": "2020-09-16T14:48:50.938482Z",
     "iopub.status.busy": "2020-09-16T14:48:50.937378Z",
     "iopub.status.idle": "2020-09-16T14:48:50.942135Z",
     "shell.execute_reply": "2020-09-16T14:48:50.941458Z"
    },
    "papermill": {
     "duration": 0.051589,
     "end_time": "2020-09-16T14:48:50.942268",
     "exception": false,
     "start_time": "2020-09-16T14:48:50.890679",
     "status": "completed"
    },
    "tags": []
   },
   "outputs": [
    {
     "data": {
      "text/html": [
       "<div>\n",
       "<style scoped>\n",
       "    .dataframe tbody tr th:only-of-type {\n",
       "        vertical-align: middle;\n",
       "    }\n",
       "\n",
       "    .dataframe tbody tr th {\n",
       "        vertical-align: top;\n",
       "    }\n",
       "\n",
       "    .dataframe thead th {\n",
       "        text-align: right;\n",
       "    }\n",
       "</style>\n",
       "<table border=\"1\" class=\"dataframe\">\n",
       "  <thead>\n",
       "    <tr style=\"text-align: right;\">\n",
       "      <th></th>\n",
       "      <th>CreditScore</th>\n",
       "      <th>Geography</th>\n",
       "      <th>Gender</th>\n",
       "      <th>Age</th>\n",
       "      <th>Tenure</th>\n",
       "      <th>Balance</th>\n",
       "      <th>NumOfProducts</th>\n",
       "      <th>HasCrCard</th>\n",
       "      <th>IsActiveMember</th>\n",
       "      <th>EstimatedSalary</th>\n",
       "      <th>Exited</th>\n",
       "    </tr>\n",
       "  </thead>\n",
       "  <tbody>\n",
       "    <tr>\n",
       "      <th>0</th>\n",
       "      <td>619</td>\n",
       "      <td>France</td>\n",
       "      <td>Female</td>\n",
       "      <td>42</td>\n",
       "      <td>2</td>\n",
       "      <td>0.00</td>\n",
       "      <td>1</td>\n",
       "      <td>1</td>\n",
       "      <td>1</td>\n",
       "      <td>101348.88</td>\n",
       "      <td>1</td>\n",
       "    </tr>\n",
       "    <tr>\n",
       "      <th>1</th>\n",
       "      <td>608</td>\n",
       "      <td>Spain</td>\n",
       "      <td>Female</td>\n",
       "      <td>41</td>\n",
       "      <td>1</td>\n",
       "      <td>83807.86</td>\n",
       "      <td>1</td>\n",
       "      <td>0</td>\n",
       "      <td>1</td>\n",
       "      <td>112542.58</td>\n",
       "      <td>0</td>\n",
       "    </tr>\n",
       "    <tr>\n",
       "      <th>2</th>\n",
       "      <td>502</td>\n",
       "      <td>France</td>\n",
       "      <td>Female</td>\n",
       "      <td>42</td>\n",
       "      <td>8</td>\n",
       "      <td>159660.80</td>\n",
       "      <td>3</td>\n",
       "      <td>1</td>\n",
       "      <td>0</td>\n",
       "      <td>113931.57</td>\n",
       "      <td>1</td>\n",
       "    </tr>\n",
       "    <tr>\n",
       "      <th>3</th>\n",
       "      <td>699</td>\n",
       "      <td>France</td>\n",
       "      <td>Female</td>\n",
       "      <td>39</td>\n",
       "      <td>1</td>\n",
       "      <td>0.00</td>\n",
       "      <td>2</td>\n",
       "      <td>0</td>\n",
       "      <td>0</td>\n",
       "      <td>93826.63</td>\n",
       "      <td>0</td>\n",
       "    </tr>\n",
       "    <tr>\n",
       "      <th>4</th>\n",
       "      <td>850</td>\n",
       "      <td>Spain</td>\n",
       "      <td>Female</td>\n",
       "      <td>43</td>\n",
       "      <td>2</td>\n",
       "      <td>125510.82</td>\n",
       "      <td>1</td>\n",
       "      <td>1</td>\n",
       "      <td>1</td>\n",
       "      <td>79084.10</td>\n",
       "      <td>0</td>\n",
       "    </tr>\n",
       "  </tbody>\n",
       "</table>\n",
       "</div>"
      ],
      "text/plain": [
       "   CreditScore Geography  Gender  Age  Tenure    Balance  NumOfProducts  \\\n",
       "0          619    France  Female   42       2       0.00              1   \n",
       "1          608     Spain  Female   41       1   83807.86              1   \n",
       "2          502    France  Female   42       8  159660.80              3   \n",
       "3          699    France  Female   39       1       0.00              2   \n",
       "4          850     Spain  Female   43       2  125510.82              1   \n",
       "\n",
       "   HasCrCard  IsActiveMember  EstimatedSalary  Exited  \n",
       "0          1               1        101348.88       1  \n",
       "1          0               1        112542.58       0  \n",
       "2          1               0        113931.57       1  \n",
       "3          0               0         93826.63       0  \n",
       "4          1               1         79084.10       0  "
      ]
     },
     "execution_count": 9,
     "metadata": {},
     "output_type": "execute_result"
    }
   ],
   "source": [
    "df.head()"
   ]
  },
  {
   "cell_type": "code",
   "execution_count": 10,
   "metadata": {
    "execution": {
     "iopub.execute_input": "2020-09-16T14:48:51.018936Z",
     "iopub.status.busy": "2020-09-16T14:48:51.018012Z",
     "iopub.status.idle": "2020-09-16T14:48:51.022608Z",
     "shell.execute_reply": "2020-09-16T14:48:51.021901Z"
    },
    "papermill": {
     "duration": 0.044267,
     "end_time": "2020-09-16T14:48:51.022730",
     "exception": false,
     "start_time": "2020-09-16T14:48:50.978463",
     "status": "completed"
    },
    "tags": []
   },
   "outputs": [
    {
     "data": {
      "text/plain": [
       "(10000, 11)"
      ]
     },
     "execution_count": 10,
     "metadata": {},
     "output_type": "execute_result"
    }
   ],
   "source": [
    "df.shape"
   ]
  },
  {
   "cell_type": "code",
   "execution_count": 11,
   "metadata": {
    "execution": {
     "iopub.execute_input": "2020-09-16T14:48:51.091433Z",
     "iopub.status.busy": "2020-09-16T14:48:51.090547Z",
     "iopub.status.idle": "2020-09-16T14:48:52.257164Z",
     "shell.execute_reply": "2020-09-16T14:48:52.256300Z"
    },
    "papermill": {
     "duration": 1.203127,
     "end_time": "2020-09-16T14:48:52.257315",
     "exception": false,
     "start_time": "2020-09-16T14:48:51.054188",
     "status": "completed"
    },
    "tags": []
   },
   "outputs": [],
   "source": [
    "from sklearn.preprocessing import LabelEncoder\n",
    "encoder=LabelEncoder()"
   ]
  },
  {
   "cell_type": "code",
   "execution_count": 12,
   "metadata": {
    "execution": {
     "iopub.execute_input": "2020-09-16T14:48:52.342072Z",
     "iopub.status.busy": "2020-09-16T14:48:52.341254Z",
     "iopub.status.idle": "2020-09-16T14:48:52.344713Z",
     "shell.execute_reply": "2020-09-16T14:48:52.344148Z"
    },
    "papermill": {
     "duration": 0.051892,
     "end_time": "2020-09-16T14:48:52.344859",
     "exception": false,
     "start_time": "2020-09-16T14:48:52.292967",
     "status": "completed"
    },
    "tags": []
   },
   "outputs": [],
   "source": [
    "df['Geography']=encoder.fit_transform(df['Geography'])\n",
    "df['Gender']=encoder.fit_transform(df['Gender'])"
   ]
  },
  {
   "cell_type": "code",
   "execution_count": 13,
   "metadata": {
    "execution": {
     "iopub.execute_input": "2020-09-16T14:48:52.426383Z",
     "iopub.status.busy": "2020-09-16T14:48:52.425391Z",
     "iopub.status.idle": "2020-09-16T14:48:52.430436Z",
     "shell.execute_reply": "2020-09-16T14:48:52.429780Z"
    },
    "papermill": {
     "duration": 0.05385,
     "end_time": "2020-09-16T14:48:52.430569",
     "exception": false,
     "start_time": "2020-09-16T14:48:52.376719",
     "status": "completed"
    },
    "tags": []
   },
   "outputs": [
    {
     "data": {
      "text/html": [
       "<div>\n",
       "<style scoped>\n",
       "    .dataframe tbody tr th:only-of-type {\n",
       "        vertical-align: middle;\n",
       "    }\n",
       "\n",
       "    .dataframe tbody tr th {\n",
       "        vertical-align: top;\n",
       "    }\n",
       "\n",
       "    .dataframe thead th {\n",
       "        text-align: right;\n",
       "    }\n",
       "</style>\n",
       "<table border=\"1\" class=\"dataframe\">\n",
       "  <thead>\n",
       "    <tr style=\"text-align: right;\">\n",
       "      <th></th>\n",
       "      <th>CreditScore</th>\n",
       "      <th>Geography</th>\n",
       "      <th>Gender</th>\n",
       "      <th>Age</th>\n",
       "      <th>Tenure</th>\n",
       "      <th>Balance</th>\n",
       "      <th>NumOfProducts</th>\n",
       "      <th>HasCrCard</th>\n",
       "      <th>IsActiveMember</th>\n",
       "      <th>EstimatedSalary</th>\n",
       "      <th>Exited</th>\n",
       "    </tr>\n",
       "  </thead>\n",
       "  <tbody>\n",
       "    <tr>\n",
       "      <th>0</th>\n",
       "      <td>619</td>\n",
       "      <td>0</td>\n",
       "      <td>0</td>\n",
       "      <td>42</td>\n",
       "      <td>2</td>\n",
       "      <td>0.00</td>\n",
       "      <td>1</td>\n",
       "      <td>1</td>\n",
       "      <td>1</td>\n",
       "      <td>101348.88</td>\n",
       "      <td>1</td>\n",
       "    </tr>\n",
       "    <tr>\n",
       "      <th>1</th>\n",
       "      <td>608</td>\n",
       "      <td>2</td>\n",
       "      <td>0</td>\n",
       "      <td>41</td>\n",
       "      <td>1</td>\n",
       "      <td>83807.86</td>\n",
       "      <td>1</td>\n",
       "      <td>0</td>\n",
       "      <td>1</td>\n",
       "      <td>112542.58</td>\n",
       "      <td>0</td>\n",
       "    </tr>\n",
       "    <tr>\n",
       "      <th>2</th>\n",
       "      <td>502</td>\n",
       "      <td>0</td>\n",
       "      <td>0</td>\n",
       "      <td>42</td>\n",
       "      <td>8</td>\n",
       "      <td>159660.80</td>\n",
       "      <td>3</td>\n",
       "      <td>1</td>\n",
       "      <td>0</td>\n",
       "      <td>113931.57</td>\n",
       "      <td>1</td>\n",
       "    </tr>\n",
       "    <tr>\n",
       "      <th>3</th>\n",
       "      <td>699</td>\n",
       "      <td>0</td>\n",
       "      <td>0</td>\n",
       "      <td>39</td>\n",
       "      <td>1</td>\n",
       "      <td>0.00</td>\n",
       "      <td>2</td>\n",
       "      <td>0</td>\n",
       "      <td>0</td>\n",
       "      <td>93826.63</td>\n",
       "      <td>0</td>\n",
       "    </tr>\n",
       "    <tr>\n",
       "      <th>4</th>\n",
       "      <td>850</td>\n",
       "      <td>2</td>\n",
       "      <td>0</td>\n",
       "      <td>43</td>\n",
       "      <td>2</td>\n",
       "      <td>125510.82</td>\n",
       "      <td>1</td>\n",
       "      <td>1</td>\n",
       "      <td>1</td>\n",
       "      <td>79084.10</td>\n",
       "      <td>0</td>\n",
       "    </tr>\n",
       "  </tbody>\n",
       "</table>\n",
       "</div>"
      ],
      "text/plain": [
       "   CreditScore  Geography  Gender  Age  Tenure    Balance  NumOfProducts  \\\n",
       "0          619          0       0   42       2       0.00              1   \n",
       "1          608          2       0   41       1   83807.86              1   \n",
       "2          502          0       0   42       8  159660.80              3   \n",
       "3          699          0       0   39       1       0.00              2   \n",
       "4          850          2       0   43       2  125510.82              1   \n",
       "\n",
       "   HasCrCard  IsActiveMember  EstimatedSalary  Exited  \n",
       "0          1               1        101348.88       1  \n",
       "1          0               1        112542.58       0  \n",
       "2          1               0        113931.57       1  \n",
       "3          0               0         93826.63       0  \n",
       "4          1               1         79084.10       0  "
      ]
     },
     "execution_count": 13,
     "metadata": {},
     "output_type": "execute_result"
    }
   ],
   "source": [
    "df.head()"
   ]
  },
  {
   "cell_type": "code",
   "execution_count": 14,
   "metadata": {
    "execution": {
     "iopub.execute_input": "2020-09-16T14:48:52.503239Z",
     "iopub.status.busy": "2020-09-16T14:48:52.502417Z",
     "iopub.status.idle": "2020-09-16T14:48:52.520309Z",
     "shell.execute_reply": "2020-09-16T14:48:52.521024Z"
    },
    "papermill": {
     "duration": 0.057683,
     "end_time": "2020-09-16T14:48:52.521181",
     "exception": false,
     "start_time": "2020-09-16T14:48:52.463498",
     "status": "completed"
    },
    "tags": []
   },
   "outputs": [
    {
     "data": {
      "text/html": [
       "<div>\n",
       "<style scoped>\n",
       "    .dataframe tbody tr th:only-of-type {\n",
       "        vertical-align: middle;\n",
       "    }\n",
       "\n",
       "    .dataframe tbody tr th {\n",
       "        vertical-align: top;\n",
       "    }\n",
       "\n",
       "    .dataframe thead th {\n",
       "        text-align: right;\n",
       "    }\n",
       "</style>\n",
       "<table border=\"1\" class=\"dataframe\">\n",
       "  <thead>\n",
       "    <tr style=\"text-align: right;\">\n",
       "      <th></th>\n",
       "      <th>CreditScore</th>\n",
       "      <th>Geography</th>\n",
       "      <th>Gender</th>\n",
       "      <th>Age</th>\n",
       "      <th>Tenure</th>\n",
       "      <th>Balance</th>\n",
       "      <th>NumOfProducts</th>\n",
       "      <th>HasCrCard</th>\n",
       "      <th>IsActiveMember</th>\n",
       "      <th>EstimatedSalary</th>\n",
       "      <th>Exited</th>\n",
       "    </tr>\n",
       "  </thead>\n",
       "  <tbody>\n",
       "    <tr>\n",
       "      <th>4991</th>\n",
       "      <td>493</td>\n",
       "      <td>0</td>\n",
       "      <td>0</td>\n",
       "      <td>33</td>\n",
       "      <td>8</td>\n",
       "      <td>90791.69</td>\n",
       "      <td>1</td>\n",
       "      <td>1</td>\n",
       "      <td>1</td>\n",
       "      <td>59659.53</td>\n",
       "      <td>0</td>\n",
       "    </tr>\n",
       "    <tr>\n",
       "      <th>2144</th>\n",
       "      <td>634</td>\n",
       "      <td>2</td>\n",
       "      <td>1</td>\n",
       "      <td>34</td>\n",
       "      <td>1</td>\n",
       "      <td>0.00</td>\n",
       "      <td>2</td>\n",
       "      <td>1</td>\n",
       "      <td>0</td>\n",
       "      <td>61995.57</td>\n",
       "      <td>0</td>\n",
       "    </tr>\n",
       "    <tr>\n",
       "      <th>7583</th>\n",
       "      <td>682</td>\n",
       "      <td>0</td>\n",
       "      <td>1</td>\n",
       "      <td>26</td>\n",
       "      <td>8</td>\n",
       "      <td>0.00</td>\n",
       "      <td>2</td>\n",
       "      <td>1</td>\n",
       "      <td>0</td>\n",
       "      <td>178373.43</td>\n",
       "      <td>0</td>\n",
       "    </tr>\n",
       "    <tr>\n",
       "      <th>7842</th>\n",
       "      <td>734</td>\n",
       "      <td>0</td>\n",
       "      <td>1</td>\n",
       "      <td>43</td>\n",
       "      <td>7</td>\n",
       "      <td>107805.67</td>\n",
       "      <td>1</td>\n",
       "      <td>0</td>\n",
       "      <td>0</td>\n",
       "      <td>182505.68</td>\n",
       "      <td>0</td>\n",
       "    </tr>\n",
       "    <tr>\n",
       "      <th>250</th>\n",
       "      <td>771</td>\n",
       "      <td>1</td>\n",
       "      <td>0</td>\n",
       "      <td>36</td>\n",
       "      <td>5</td>\n",
       "      <td>77846.90</td>\n",
       "      <td>1</td>\n",
       "      <td>0</td>\n",
       "      <td>0</td>\n",
       "      <td>99805.99</td>\n",
       "      <td>0</td>\n",
       "    </tr>\n",
       "  </tbody>\n",
       "</table>\n",
       "</div>"
      ],
      "text/plain": [
       "      CreditScore  Geography  Gender  Age  Tenure    Balance  NumOfProducts  \\\n",
       "4991          493          0       0   33       8   90791.69              1   \n",
       "2144          634          2       1   34       1       0.00              2   \n",
       "7583          682          0       1   26       8       0.00              2   \n",
       "7842          734          0       1   43       7  107805.67              1   \n",
       "250           771          1       0   36       5   77846.90              1   \n",
       "\n",
       "      HasCrCard  IsActiveMember  EstimatedSalary  Exited  \n",
       "4991          1               1         59659.53       0  \n",
       "2144          1               0         61995.57       0  \n",
       "7583          1               0        178373.43       0  \n",
       "7842          0               0        182505.68       0  \n",
       "250           0               0         99805.99       0  "
      ]
     },
     "execution_count": 14,
     "metadata": {},
     "output_type": "execute_result"
    }
   ],
   "source": [
    "df.sample(5)"
   ]
  },
  {
   "cell_type": "code",
   "execution_count": 15,
   "metadata": {
    "execution": {
     "iopub.execute_input": "2020-09-16T14:48:52.596912Z",
     "iopub.status.busy": "2020-09-16T14:48:52.596127Z",
     "iopub.status.idle": "2020-09-16T14:48:52.603487Z",
     "shell.execute_reply": "2020-09-16T14:48:52.602786Z"
    },
    "papermill": {
     "duration": 0.049019,
     "end_time": "2020-09-16T14:48:52.603614",
     "exception": false,
     "start_time": "2020-09-16T14:48:52.554595",
     "status": "completed"
    },
    "tags": []
   },
   "outputs": [],
   "source": [
    "df = pd.get_dummies(df,columns=['Geography'],drop_first=True)"
   ]
  },
  {
   "cell_type": "code",
   "execution_count": 16,
   "metadata": {
    "execution": {
     "iopub.execute_input": "2020-09-16T14:48:52.689212Z",
     "iopub.status.busy": "2020-09-16T14:48:52.688373Z",
     "iopub.status.idle": "2020-09-16T14:48:52.693679Z",
     "shell.execute_reply": "2020-09-16T14:48:52.692936Z"
    },
    "papermill": {
     "duration": 0.056335,
     "end_time": "2020-09-16T14:48:52.693804",
     "exception": false,
     "start_time": "2020-09-16T14:48:52.637469",
     "status": "completed"
    },
    "tags": []
   },
   "outputs": [
    {
     "data": {
      "text/html": [
       "<div>\n",
       "<style scoped>\n",
       "    .dataframe tbody tr th:only-of-type {\n",
       "        vertical-align: middle;\n",
       "    }\n",
       "\n",
       "    .dataframe tbody tr th {\n",
       "        vertical-align: top;\n",
       "    }\n",
       "\n",
       "    .dataframe thead th {\n",
       "        text-align: right;\n",
       "    }\n",
       "</style>\n",
       "<table border=\"1\" class=\"dataframe\">\n",
       "  <thead>\n",
       "    <tr style=\"text-align: right;\">\n",
       "      <th></th>\n",
       "      <th>CreditScore</th>\n",
       "      <th>Gender</th>\n",
       "      <th>Age</th>\n",
       "      <th>Tenure</th>\n",
       "      <th>Balance</th>\n",
       "      <th>NumOfProducts</th>\n",
       "      <th>HasCrCard</th>\n",
       "      <th>IsActiveMember</th>\n",
       "      <th>EstimatedSalary</th>\n",
       "      <th>Exited</th>\n",
       "      <th>Geography_1</th>\n",
       "      <th>Geography_2</th>\n",
       "    </tr>\n",
       "  </thead>\n",
       "  <tbody>\n",
       "    <tr>\n",
       "      <th>0</th>\n",
       "      <td>619</td>\n",
       "      <td>0</td>\n",
       "      <td>42</td>\n",
       "      <td>2</td>\n",
       "      <td>0.00</td>\n",
       "      <td>1</td>\n",
       "      <td>1</td>\n",
       "      <td>1</td>\n",
       "      <td>101348.88</td>\n",
       "      <td>1</td>\n",
       "      <td>0</td>\n",
       "      <td>0</td>\n",
       "    </tr>\n",
       "    <tr>\n",
       "      <th>1</th>\n",
       "      <td>608</td>\n",
       "      <td>0</td>\n",
       "      <td>41</td>\n",
       "      <td>1</td>\n",
       "      <td>83807.86</td>\n",
       "      <td>1</td>\n",
       "      <td>0</td>\n",
       "      <td>1</td>\n",
       "      <td>112542.58</td>\n",
       "      <td>0</td>\n",
       "      <td>0</td>\n",
       "      <td>1</td>\n",
       "    </tr>\n",
       "    <tr>\n",
       "      <th>2</th>\n",
       "      <td>502</td>\n",
       "      <td>0</td>\n",
       "      <td>42</td>\n",
       "      <td>8</td>\n",
       "      <td>159660.80</td>\n",
       "      <td>3</td>\n",
       "      <td>1</td>\n",
       "      <td>0</td>\n",
       "      <td>113931.57</td>\n",
       "      <td>1</td>\n",
       "      <td>0</td>\n",
       "      <td>0</td>\n",
       "    </tr>\n",
       "    <tr>\n",
       "      <th>3</th>\n",
       "      <td>699</td>\n",
       "      <td>0</td>\n",
       "      <td>39</td>\n",
       "      <td>1</td>\n",
       "      <td>0.00</td>\n",
       "      <td>2</td>\n",
       "      <td>0</td>\n",
       "      <td>0</td>\n",
       "      <td>93826.63</td>\n",
       "      <td>0</td>\n",
       "      <td>0</td>\n",
       "      <td>0</td>\n",
       "    </tr>\n",
       "    <tr>\n",
       "      <th>4</th>\n",
       "      <td>850</td>\n",
       "      <td>0</td>\n",
       "      <td>43</td>\n",
       "      <td>2</td>\n",
       "      <td>125510.82</td>\n",
       "      <td>1</td>\n",
       "      <td>1</td>\n",
       "      <td>1</td>\n",
       "      <td>79084.10</td>\n",
       "      <td>0</td>\n",
       "      <td>0</td>\n",
       "      <td>1</td>\n",
       "    </tr>\n",
       "  </tbody>\n",
       "</table>\n",
       "</div>"
      ],
      "text/plain": [
       "   CreditScore  Gender  Age  Tenure    Balance  NumOfProducts  HasCrCard  \\\n",
       "0          619       0   42       2       0.00              1          1   \n",
       "1          608       0   41       1   83807.86              1          0   \n",
       "2          502       0   42       8  159660.80              3          1   \n",
       "3          699       0   39       1       0.00              2          0   \n",
       "4          850       0   43       2  125510.82              1          1   \n",
       "\n",
       "   IsActiveMember  EstimatedSalary  Exited  Geography_1  Geography_2  \n",
       "0               1        101348.88       1            0            0  \n",
       "1               1        112542.58       0            0            1  \n",
       "2               0        113931.57       1            0            0  \n",
       "3               0         93826.63       0            0            0  \n",
       "4               1         79084.10       0            0            1  "
      ]
     },
     "execution_count": 16,
     "metadata": {},
     "output_type": "execute_result"
    }
   ],
   "source": [
    "df.head()"
   ]
  },
  {
   "cell_type": "code",
   "execution_count": 17,
   "metadata": {
    "execution": {
     "iopub.execute_input": "2020-09-16T14:48:52.770308Z",
     "iopub.status.busy": "2020-09-16T14:48:52.769538Z",
     "iopub.status.idle": "2020-09-16T14:48:52.776830Z",
     "shell.execute_reply": "2020-09-16T14:48:52.776157Z"
    },
    "papermill": {
     "duration": 0.048496,
     "end_time": "2020-09-16T14:48:52.776974",
     "exception": false,
     "start_time": "2020-09-16T14:48:52.728478",
     "status": "completed"
    },
    "tags": []
   },
   "outputs": [],
   "source": [
    "X=df.drop(columns=['Exited'],axis=1).values\n",
    "y=df['Exited'].values"
   ]
  },
  {
   "cell_type": "code",
   "execution_count": 18,
   "metadata": {
    "execution": {
     "iopub.execute_input": "2020-09-16T14:48:52.856411Z",
     "iopub.status.busy": "2020-09-16T14:48:52.855410Z",
     "iopub.status.idle": "2020-09-16T14:48:52.860267Z",
     "shell.execute_reply": "2020-09-16T14:48:52.859539Z"
    },
    "papermill": {
     "duration": 0.047222,
     "end_time": "2020-09-16T14:48:52.860396",
     "exception": false,
     "start_time": "2020-09-16T14:48:52.813174",
     "status": "completed"
    },
    "tags": []
   },
   "outputs": [
    {
     "data": {
      "text/plain": [
       "array([[6.1900000e+02, 0.0000000e+00, 4.2000000e+01, ..., 1.0134888e+05,\n",
       "        0.0000000e+00, 0.0000000e+00],\n",
       "       [6.0800000e+02, 0.0000000e+00, 4.1000000e+01, ..., 1.1254258e+05,\n",
       "        0.0000000e+00, 1.0000000e+00],\n",
       "       [5.0200000e+02, 0.0000000e+00, 4.2000000e+01, ..., 1.1393157e+05,\n",
       "        0.0000000e+00, 0.0000000e+00],\n",
       "       ...,\n",
       "       [7.0900000e+02, 0.0000000e+00, 3.6000000e+01, ..., 4.2085580e+04,\n",
       "        0.0000000e+00, 0.0000000e+00],\n",
       "       [7.7200000e+02, 1.0000000e+00, 4.2000000e+01, ..., 9.2888520e+04,\n",
       "        1.0000000e+00, 0.0000000e+00],\n",
       "       [7.9200000e+02, 0.0000000e+00, 2.8000000e+01, ..., 3.8190780e+04,\n",
       "        0.0000000e+00, 0.0000000e+00]])"
      ]
     },
     "execution_count": 18,
     "metadata": {},
     "output_type": "execute_result"
    }
   ],
   "source": [
    "X"
   ]
  },
  {
   "cell_type": "code",
   "execution_count": 19,
   "metadata": {
    "execution": {
     "iopub.execute_input": "2020-09-16T14:48:52.938234Z",
     "iopub.status.busy": "2020-09-16T14:48:52.937352Z",
     "iopub.status.idle": "2020-09-16T14:48:52.941171Z",
     "shell.execute_reply": "2020-09-16T14:48:52.941706Z"
    },
    "papermill": {
     "duration": 0.045121,
     "end_time": "2020-09-16T14:48:52.941908",
     "exception": false,
     "start_time": "2020-09-16T14:48:52.896787",
     "status": "completed"
    },
    "tags": []
   },
   "outputs": [
    {
     "data": {
      "text/plain": [
       "array([1, 0, 1, ..., 1, 1, 0])"
      ]
     },
     "execution_count": 19,
     "metadata": {},
     "output_type": "execute_result"
    }
   ],
   "source": [
    "y"
   ]
  },
  {
   "cell_type": "code",
   "execution_count": 20,
   "metadata": {
    "execution": {
     "iopub.execute_input": "2020-09-16T14:48:53.019476Z",
     "iopub.status.busy": "2020-09-16T14:48:53.018450Z",
     "iopub.status.idle": "2020-09-16T14:48:53.021492Z",
     "shell.execute_reply": "2020-09-16T14:48:53.022059Z"
    },
    "papermill": {
     "duration": 0.044301,
     "end_time": "2020-09-16T14:48:53.022222",
     "exception": false,
     "start_time": "2020-09-16T14:48:52.977921",
     "status": "completed"
    },
    "tags": []
   },
   "outputs": [],
   "source": [
    "from sklearn.preprocessing import StandardScaler\n",
    "scaler=StandardScaler()"
   ]
  },
  {
   "cell_type": "code",
   "execution_count": 21,
   "metadata": {
    "execution": {
     "iopub.execute_input": "2020-09-16T14:48:53.102227Z",
     "iopub.status.busy": "2020-09-16T14:48:53.100771Z",
     "iopub.status.idle": "2020-09-16T14:48:53.107528Z",
     "shell.execute_reply": "2020-09-16T14:48:53.108129Z"
    },
    "papermill": {
     "duration": 0.050005,
     "end_time": "2020-09-16T14:48:53.108324",
     "exception": false,
     "start_time": "2020-09-16T14:48:53.058319",
     "status": "completed"
    },
    "tags": []
   },
   "outputs": [],
   "source": [
    "X=scaler.fit_transform(X)"
   ]
  },
  {
   "cell_type": "code",
   "execution_count": 22,
   "metadata": {
    "execution": {
     "iopub.execute_input": "2020-09-16T14:48:53.202106Z",
     "iopub.status.busy": "2020-09-16T14:48:53.201090Z",
     "iopub.status.idle": "2020-09-16T14:48:53.285309Z",
     "shell.execute_reply": "2020-09-16T14:48:53.284336Z"
    },
    "papermill": {
     "duration": 0.135551,
     "end_time": "2020-09-16T14:48:53.285491",
     "exception": false,
     "start_time": "2020-09-16T14:48:53.149940",
     "status": "completed"
    },
    "tags": []
   },
   "outputs": [],
   "source": [
    "from sklearn.model_selection import train_test_split\n",
    "X_train,X_test,y_train,y_test=train_test_split(X,y,test_size=0.2,random_state = 0)"
   ]
  },
  {
   "cell_type": "code",
   "execution_count": 23,
   "metadata": {
    "execution": {
     "iopub.execute_input": "2020-09-16T14:48:53.368701Z",
     "iopub.status.busy": "2020-09-16T14:48:53.367925Z",
     "iopub.status.idle": "2020-09-16T14:48:59.892314Z",
     "shell.execute_reply": "2020-09-16T14:48:59.891503Z"
    },
    "papermill": {
     "duration": 6.566514,
     "end_time": "2020-09-16T14:48:59.892449",
     "exception": false,
     "start_time": "2020-09-16T14:48:53.325935",
     "status": "completed"
    },
    "tags": []
   },
   "outputs": [],
   "source": [
    "import tensorflow\n",
    "from tensorflow import keras\n",
    "from tensorflow.keras import Sequential\n",
    "from tensorflow.keras.layers import Dense"
   ]
  },
  {
   "cell_type": "code",
   "execution_count": 24,
   "metadata": {
    "execution": {
     "iopub.execute_input": "2020-09-16T14:48:59.973502Z",
     "iopub.status.busy": "2020-09-16T14:48:59.972411Z",
     "iopub.status.idle": "2020-09-16T14:49:00.060444Z",
     "shell.execute_reply": "2020-09-16T14:49:00.059728Z"
    },
    "papermill": {
     "duration": 0.130159,
     "end_time": "2020-09-16T14:49:00.060567",
     "exception": false,
     "start_time": "2020-09-16T14:48:59.930408",
     "status": "completed"
    },
    "tags": []
   },
   "outputs": [],
   "source": [
    "model=Sequential()"
   ]
  },
  {
   "cell_type": "code",
   "execution_count": 25,
   "metadata": {
    "execution": {
     "iopub.execute_input": "2020-09-16T14:49:00.145204Z",
     "iopub.status.busy": "2020-09-16T14:49:00.142949Z",
     "iopub.status.idle": "2020-09-16T14:49:00.209057Z",
     "shell.execute_reply": "2020-09-16T14:49:00.208402Z"
    },
    "papermill": {
     "duration": 0.111813,
     "end_time": "2020-09-16T14:49:00.209196",
     "exception": false,
     "start_time": "2020-09-16T14:49:00.097383",
     "status": "completed"
    },
    "tags": []
   },
   "outputs": [],
   "source": [
    "model.add(Dense(11,activation='relu',input_dim=X_train.shape[1]))\n",
    "model.add(Dense(11,activation='relu'))\n",
    "model.add(Dense(1,activation='sigmoid'))"
   ]
  },
  {
   "cell_type": "code",
   "execution_count": 26,
   "metadata": {
    "execution": {
     "iopub.execute_input": "2020-09-16T14:49:00.291292Z",
     "iopub.status.busy": "2020-09-16T14:49:00.290359Z",
     "iopub.status.idle": "2020-09-16T14:49:00.294597Z",
     "shell.execute_reply": "2020-09-16T14:49:00.295305Z"
    },
    "papermill": {
     "duration": 0.049097,
     "end_time": "2020-09-16T14:49:00.295467",
     "exception": false,
     "start_time": "2020-09-16T14:49:00.246370",
     "status": "completed"
    },
    "tags": []
   },
   "outputs": [
    {
     "name": "stdout",
     "output_type": "stream",
     "text": [
      "Model: \"sequential\"\n",
      "_________________________________________________________________\n",
      "Layer (type)                 Output Shape              Param #   \n",
      "=================================================================\n",
      "dense (Dense)                (None, 11)                132       \n",
      "_________________________________________________________________\n",
      "dense_1 (Dense)              (None, 11)                132       \n",
      "_________________________________________________________________\n",
      "dense_2 (Dense)              (None, 1)                 12        \n",
      "=================================================================\n",
      "Total params: 276\n",
      "Trainable params: 276\n",
      "Non-trainable params: 0\n",
      "_________________________________________________________________\n"
     ]
    }
   ],
   "source": [
    "model.summary()"
   ]
  },
  {
   "cell_type": "code",
   "execution_count": 27,
   "metadata": {
    "execution": {
     "iopub.execute_input": "2020-09-16T14:49:00.383462Z",
     "iopub.status.busy": "2020-09-16T14:49:00.379125Z",
     "iopub.status.idle": "2020-09-16T14:49:00.390547Z",
     "shell.execute_reply": "2020-09-16T14:49:00.389932Z"
    },
    "papermill": {
     "duration": 0.057684,
     "end_time": "2020-09-16T14:49:00.390676",
     "exception": false,
     "start_time": "2020-09-16T14:49:00.332992",
     "status": "completed"
    },
    "tags": []
   },
   "outputs": [],
   "source": [
    "model.compile(optimizer='Adam',loss='binary_crossentropy',metrics=['accuracy'])"
   ]
  },
  {
   "cell_type": "code",
   "execution_count": 28,
   "metadata": {
    "execution": {
     "iopub.execute_input": "2020-09-16T14:49:00.474002Z",
     "iopub.status.busy": "2020-09-16T14:49:00.473220Z",
     "iopub.status.idle": "2020-09-16T14:49:16.204542Z",
     "shell.execute_reply": "2020-09-16T14:49:16.203611Z"
    },
    "papermill": {
     "duration": 15.775411,
     "end_time": "2020-09-16T14:49:16.204697",
     "exception": false,
     "start_time": "2020-09-16T14:49:00.429286",
     "status": "completed"
    },
    "tags": []
   },
   "outputs": [
    {
     "name": "stdout",
     "output_type": "stream",
     "text": [
      "Epoch 1/50\n",
      "200/200 [==============================] - 0s 2ms/step - loss: 0.4970 - accuracy: 0.7955 - val_loss: 0.4788 - val_accuracy: 0.7969\n",
      "Epoch 2/50\n",
      "200/200 [==============================] - 0s 1ms/step - loss: 0.4585 - accuracy: 0.7958 - val_loss: 0.4576 - val_accuracy: 0.7969\n",
      "Epoch 3/50\n",
      "200/200 [==============================] - 0s 1ms/step - loss: 0.4409 - accuracy: 0.7969 - val_loss: 0.4448 - val_accuracy: 0.8031\n",
      "Epoch 4/50\n",
      "200/200 [==============================] - 0s 1ms/step - loss: 0.4289 - accuracy: 0.8056 - val_loss: 0.4354 - val_accuracy: 0.8087\n",
      "Epoch 5/50\n",
      "200/200 [==============================] - 0s 1ms/step - loss: 0.4192 - accuracy: 0.8169 - val_loss: 0.4260 - val_accuracy: 0.8181\n",
      "Epoch 6/50\n",
      "200/200 [==============================] - 0s 1ms/step - loss: 0.4092 - accuracy: 0.8234 - val_loss: 0.4176 - val_accuracy: 0.8238\n",
      "Epoch 7/50\n",
      "200/200 [==============================] - 0s 1ms/step - loss: 0.3994 - accuracy: 0.8311 - val_loss: 0.4085 - val_accuracy: 0.8263\n",
      "Epoch 8/50\n",
      "200/200 [==============================] - 0s 1ms/step - loss: 0.3895 - accuracy: 0.8394 - val_loss: 0.3984 - val_accuracy: 0.8319\n",
      "Epoch 9/50\n",
      "200/200 [==============================] - 0s 1ms/step - loss: 0.3789 - accuracy: 0.8458 - val_loss: 0.3878 - val_accuracy: 0.8350\n",
      "Epoch 10/50\n",
      "200/200 [==============================] - 0s 2ms/step - loss: 0.3694 - accuracy: 0.8477 - val_loss: 0.3798 - val_accuracy: 0.8388\n",
      "Epoch 11/50\n",
      "200/200 [==============================] - 0s 1ms/step - loss: 0.3610 - accuracy: 0.8531 - val_loss: 0.3730 - val_accuracy: 0.8413\n",
      "Epoch 12/50\n",
      "200/200 [==============================] - 0s 1ms/step - loss: 0.3546 - accuracy: 0.8541 - val_loss: 0.3688 - val_accuracy: 0.8462\n",
      "Epoch 13/50\n",
      "200/200 [==============================] - 0s 1ms/step - loss: 0.3502 - accuracy: 0.8569 - val_loss: 0.3660 - val_accuracy: 0.8462\n",
      "Epoch 14/50\n",
      "200/200 [==============================] - 0s 1ms/step - loss: 0.3469 - accuracy: 0.8561 - val_loss: 0.3626 - val_accuracy: 0.8487\n",
      "Epoch 15/50\n",
      "200/200 [==============================] - 0s 1ms/step - loss: 0.3443 - accuracy: 0.8567 - val_loss: 0.3615 - val_accuracy: 0.8512\n",
      "Epoch 16/50\n",
      "200/200 [==============================] - 0s 1ms/step - loss: 0.3424 - accuracy: 0.8578 - val_loss: 0.3598 - val_accuracy: 0.8525\n",
      "Epoch 17/50\n",
      "200/200 [==============================] - 0s 1ms/step - loss: 0.3408 - accuracy: 0.8583 - val_loss: 0.3589 - val_accuracy: 0.8537\n",
      "Epoch 18/50\n",
      "200/200 [==============================] - 0s 1ms/step - loss: 0.3392 - accuracy: 0.8592 - val_loss: 0.3581 - val_accuracy: 0.8562\n",
      "Epoch 19/50\n",
      "200/200 [==============================] - 0s 1ms/step - loss: 0.3381 - accuracy: 0.8616 - val_loss: 0.3577 - val_accuracy: 0.8544\n",
      "Epoch 20/50\n",
      "200/200 [==============================] - 0s 1ms/step - loss: 0.3369 - accuracy: 0.8598 - val_loss: 0.3569 - val_accuracy: 0.8569\n",
      "Epoch 21/50\n",
      "200/200 [==============================] - 0s 1ms/step - loss: 0.3361 - accuracy: 0.8609 - val_loss: 0.3583 - val_accuracy: 0.8556\n",
      "Epoch 22/50\n",
      "200/200 [==============================] - 0s 1ms/step - loss: 0.3353 - accuracy: 0.8606 - val_loss: 0.3560 - val_accuracy: 0.8587\n",
      "Epoch 23/50\n",
      "200/200 [==============================] - 0s 2ms/step - loss: 0.3345 - accuracy: 0.8602 - val_loss: 0.3561 - val_accuracy: 0.8594\n",
      "Epoch 24/50\n",
      "200/200 [==============================] - 0s 1ms/step - loss: 0.3340 - accuracy: 0.8619 - val_loss: 0.3569 - val_accuracy: 0.8575\n",
      "Epoch 25/50\n",
      "200/200 [==============================] - 0s 1ms/step - loss: 0.3333 - accuracy: 0.8622 - val_loss: 0.3556 - val_accuracy: 0.8569\n",
      "Epoch 26/50\n",
      "200/200 [==============================] - 0s 1ms/step - loss: 0.3327 - accuracy: 0.8631 - val_loss: 0.3554 - val_accuracy: 0.8594\n",
      "Epoch 27/50\n",
      "200/200 [==============================] - 0s 1ms/step - loss: 0.3326 - accuracy: 0.8622 - val_loss: 0.3560 - val_accuracy: 0.8606\n",
      "Epoch 28/50\n",
      "200/200 [==============================] - 0s 1ms/step - loss: 0.3325 - accuracy: 0.8634 - val_loss: 0.3553 - val_accuracy: 0.8581\n",
      "Epoch 29/50\n",
      "200/200 [==============================] - 0s 1ms/step - loss: 0.3321 - accuracy: 0.8637 - val_loss: 0.3551 - val_accuracy: 0.8600\n",
      "Epoch 30/50\n",
      "200/200 [==============================] - 0s 1ms/step - loss: 0.3312 - accuracy: 0.8667 - val_loss: 0.3567 - val_accuracy: 0.8600\n",
      "Epoch 31/50\n",
      "200/200 [==============================] - 0s 1ms/step - loss: 0.3316 - accuracy: 0.8631 - val_loss: 0.3569 - val_accuracy: 0.8594\n",
      "Epoch 32/50\n",
      "200/200 [==============================] - 0s 1ms/step - loss: 0.3312 - accuracy: 0.8659 - val_loss: 0.3563 - val_accuracy: 0.8600\n",
      "Epoch 33/50\n",
      "200/200 [==============================] - 0s 1ms/step - loss: 0.3310 - accuracy: 0.8652 - val_loss: 0.3550 - val_accuracy: 0.8594\n",
      "Epoch 34/50\n",
      "200/200 [==============================] - 0s 1ms/step - loss: 0.3309 - accuracy: 0.8653 - val_loss: 0.3564 - val_accuracy: 0.8612\n",
      "Epoch 35/50\n",
      "200/200 [==============================] - 0s 1ms/step - loss: 0.3301 - accuracy: 0.8669 - val_loss: 0.3571 - val_accuracy: 0.8606\n",
      "Epoch 36/50\n",
      "200/200 [==============================] - 0s 1ms/step - loss: 0.3300 - accuracy: 0.8658 - val_loss: 0.3541 - val_accuracy: 0.8619\n",
      "Epoch 37/50\n",
      "200/200 [==============================] - 0s 1ms/step - loss: 0.3301 - accuracy: 0.8658 - val_loss: 0.3541 - val_accuracy: 0.8619\n",
      "Epoch 38/50\n",
      "200/200 [==============================] - 0s 1ms/step - loss: 0.3295 - accuracy: 0.8658 - val_loss: 0.3540 - val_accuracy: 0.8594\n",
      "Epoch 39/50\n",
      "200/200 [==============================] - 0s 1ms/step - loss: 0.3291 - accuracy: 0.8662 - val_loss: 0.3551 - val_accuracy: 0.8575\n",
      "Epoch 40/50\n",
      "200/200 [==============================] - 0s 1ms/step - loss: 0.3289 - accuracy: 0.8666 - val_loss: 0.3538 - val_accuracy: 0.8569\n",
      "Epoch 41/50\n",
      "200/200 [==============================] - 0s 1ms/step - loss: 0.3290 - accuracy: 0.8661 - val_loss: 0.3538 - val_accuracy: 0.8575\n",
      "Epoch 42/50\n",
      "200/200 [==============================] - 0s 1ms/step - loss: 0.3287 - accuracy: 0.8667 - val_loss: 0.3540 - val_accuracy: 0.8612\n",
      "Epoch 43/50\n",
      "200/200 [==============================] - 0s 1ms/step - loss: 0.3282 - accuracy: 0.8647 - val_loss: 0.3534 - val_accuracy: 0.8619\n",
      "Epoch 44/50\n",
      "200/200 [==============================] - 0s 1ms/step - loss: 0.3282 - accuracy: 0.8648 - val_loss: 0.3535 - val_accuracy: 0.8600\n",
      "Epoch 45/50\n",
      "200/200 [==============================] - 0s 1ms/step - loss: 0.3279 - accuracy: 0.8655 - val_loss: 0.3540 - val_accuracy: 0.8612\n",
      "Epoch 46/50\n",
      "200/200 [==============================] - 0s 1ms/step - loss: 0.3283 - accuracy: 0.8658 - val_loss: 0.3528 - val_accuracy: 0.8587\n",
      "Epoch 47/50\n",
      "200/200 [==============================] - 0s 2ms/step - loss: 0.3277 - accuracy: 0.8650 - val_loss: 0.3531 - val_accuracy: 0.8600\n",
      "Epoch 48/50\n",
      "200/200 [==============================] - 0s 1ms/step - loss: 0.3276 - accuracy: 0.8656 - val_loss: 0.3530 - val_accuracy: 0.8606\n",
      "Epoch 49/50\n",
      "200/200 [==============================] - 0s 1ms/step - loss: 0.3279 - accuracy: 0.8659 - val_loss: 0.3531 - val_accuracy: 0.8594\n",
      "Epoch 50/50\n",
      "200/200 [==============================] - 0s 1ms/step - loss: 0.3274 - accuracy: 0.8666 - val_loss: 0.3534 - val_accuracy: 0.8600\n"
     ]
    }
   ],
   "source": [
    "history=model.fit(X_train,y_train,epochs=50,verbose=1,validation_split=0.2)"
   ]
  },
  {
   "cell_type": "code",
   "execution_count": 29,
   "metadata": {
    "execution": {
     "iopub.execute_input": "2020-09-16T14:49:16.535580Z",
     "iopub.status.busy": "2020-09-16T14:49:16.534449Z",
     "iopub.status.idle": "2020-09-16T14:49:16.697855Z",
     "shell.execute_reply": "2020-09-16T14:49:16.697017Z"
    },
    "papermill": {
     "duration": 0.327923,
     "end_time": "2020-09-16T14:49:16.698036",
     "exception": false,
     "start_time": "2020-09-16T14:49:16.370113",
     "status": "completed"
    },
    "tags": []
   },
   "outputs": [],
   "source": [
    " y_pred=model.predict_classes(X_test)"
   ]
  },
  {
   "cell_type": "code",
   "execution_count": 30,
   "metadata": {
    "execution": {
     "iopub.execute_input": "2020-09-16T14:49:17.022116Z",
     "iopub.status.busy": "2020-09-16T14:49:17.021300Z",
     "iopub.status.idle": "2020-09-16T14:49:17.029494Z",
     "shell.execute_reply": "2020-09-16T14:49:17.028696Z"
    },
    "papermill": {
     "duration": 0.172775,
     "end_time": "2020-09-16T14:49:17.029620",
     "exception": false,
     "start_time": "2020-09-16T14:49:16.856845",
     "status": "completed"
    },
    "tags": []
   },
   "outputs": [
    {
     "data": {
      "text/plain": [
       "0.86"
      ]
     },
     "execution_count": 30,
     "metadata": {},
     "output_type": "execute_result"
    }
   ],
   "source": [
    "from sklearn.metrics import accuracy_score\n",
    "accuracy_score(y_test,y_pred)"
   ]
  },
  {
   "cell_type": "code",
   "execution_count": 31,
   "metadata": {
    "execution": {
     "iopub.execute_input": "2020-09-16T14:49:17.354312Z",
     "iopub.status.busy": "2020-09-16T14:49:17.353534Z",
     "iopub.status.idle": "2020-09-16T14:49:17.615345Z",
     "shell.execute_reply": "2020-09-16T14:49:17.614701Z"
    },
    "papermill": {
     "duration": 0.426857,
     "end_time": "2020-09-16T14:49:17.615491",
     "exception": false,
     "start_time": "2020-09-16T14:49:17.188634",
     "status": "completed"
    },
    "tags": []
   },
   "outputs": [
    {
     "data": {
      "text/plain": [
       "[<matplotlib.lines.Line2D at 0x7f1dc81f64d0>]"
      ]
     },
     "execution_count": 31,
     "metadata": {},
     "output_type": "execute_result"
    },
    {
     "data": {
      "image/png": "[encoded data removed]",
      "text/plain": [
       "<Figure size 432x288 with 1 Axes>"
      ]
     },
     "metadata": {
      "needs_background": "light"
     },
     "output_type": "display_data"
    }
   ],
   "source": [
    "import matplotlib.pyplot as plt\n",
    "plt.plot(history.history['loss'])\n",
    "plt.plot(history.history['val_loss'])"
   ]
  },
  {
   "cell_type": "markdown",
   "metadata": {
    "papermill": {
     "duration": 0.160271,
     "end_time": "2020-09-16T14:49:17.935311",
     "exception": false,
     "start_time": "2020-09-16T14:49:17.775040",
     "status": "completed"
    },
    "tags": []
   },
   "source": [
    "**We can't say that it is overfitting, as the accuracy is 85.8% and our val_loss is slightly higher than loss function.**"
   ]
  },
  {
   "cell_type": "code",
   "execution_count": 32,
   "metadata": {
    "execution": {
     "iopub.execute_input": "2020-09-16T14:49:18.270052Z",
     "iopub.status.busy": "2020-09-16T14:49:18.268780Z",
     "iopub.status.idle": "2020-09-16T14:49:18.273395Z",
     "shell.execute_reply": "2020-09-16T14:49:18.273937Z"
    },
    "papermill": {
     "duration": 0.178564,
     "end_time": "2020-09-16T14:49:18.274111",
     "exception": false,
     "start_time": "2020-09-16T14:49:18.095547",
     "status": "completed"
    },
    "tags": []
   },
   "outputs": [
    {
     "data": {
      "text/plain": [
       "{'loss': [0.496989369392395,\n",
       "  0.4585264325141907,\n",
       "  0.4409274756908417,\n",
       "  0.4289126992225647,\n",
       "  0.4191846549510956,\n",
       "  0.40917980670928955,\n",
       "  0.3994312286376953,\n",
       "  0.38951900601387024,\n",
       "  0.37886160612106323,\n",
       "  0.36938560009002686,\n",
       "  0.3610151708126068,\n",
       "  0.35457974672317505,\n",
       "  0.35019516944885254,\n",
       "  0.3468744158744812,\n",
       "  0.3442550599575043,\n",
       "  0.3424150347709656,\n",
       "  0.340757817029953,\n",
       "  0.33915209770202637,\n",
       "  0.33806702494621277,\n",
       "  0.33693331480026245,\n",
       "  0.336110919713974,\n",
       "  0.33525416254997253,\n",
       "  0.3345179259777069,\n",
       "  0.333990216255188,\n",
       "  0.33333373069763184,\n",
       "  0.33270329236984253,\n",
       "  0.3325563669204712,\n",
       "  0.3324506878852844,\n",
       "  0.3320583999156952,\n",
       "  0.3311960697174072,\n",
       "  0.33160796761512756,\n",
       "  0.33117976784706116,\n",
       "  0.33099597692489624,\n",
       "  0.33090028166770935,\n",
       "  0.3301432430744171,\n",
       "  0.32995712757110596,\n",
       "  0.3300666809082031,\n",
       "  0.3295041024684906,\n",
       "  0.3290533125400543,\n",
       "  0.3289415240287781,\n",
       "  0.3289826214313507,\n",
       "  0.3286830186843872,\n",
       "  0.3281804323196411,\n",
       "  0.3281969428062439,\n",
       "  0.327932208776474,\n",
       "  0.3283049762248993,\n",
       "  0.32773125171661377,\n",
       "  0.3276040554046631,\n",
       "  0.3278714418411255,\n",
       "  0.3273695111274719],\n",
       " 'accuracy': [0.7954687476158142,\n",
       "  0.7957812547683716,\n",
       "  0.796875,\n",
       "  0.8056250214576721,\n",
       "  0.8168749809265137,\n",
       "  0.823437511920929,\n",
       "  0.8310937285423279,\n",
       "  0.8393750190734863,\n",
       "  0.8457812666893005,\n",
       "  0.84765625,\n",
       "  0.8531249761581421,\n",
       "  0.8540624976158142,\n",
       "  0.8568750023841858,\n",
       "  0.8560937643051147,\n",
       "  0.8567187786102295,\n",
       "  0.8578125238418579,\n",
       "  0.8582812547683716,\n",
       "  0.8592187762260437,\n",
       "  0.8615624904632568,\n",
       "  0.8598437309265137,\n",
       "  0.8609374761581421,\n",
       "  0.8606250286102295,\n",
       "  0.860156238079071,\n",
       "  0.8618749976158142,\n",
       "  0.8621875047683716,\n",
       "  0.8631250262260437,\n",
       "  0.8621875047683716,\n",
       "  0.8634374737739563,\n",
       "  0.8637499809265137,\n",
       "  0.8667187690734863,\n",
       "  0.8631250262260437,\n",
       "  0.8659374713897705,\n",
       "  0.8651562333106995,\n",
       "  0.8653125166893005,\n",
       "  0.8668749928474426,\n",
       "  0.8657812476158142,\n",
       "  0.8657812476158142,\n",
       "  0.8657812476158142,\n",
       "  0.8662499785423279,\n",
       "  0.8665624856948853,\n",
       "  0.8660937547683716,\n",
       "  0.8667187690734863,\n",
       "  0.8646875023841858,\n",
       "  0.8648437261581421,\n",
       "  0.8654687404632568,\n",
       "  0.8657812476158142,\n",
       "  0.8650000095367432,\n",
       "  0.8656250238418579,\n",
       "  0.8659374713897705,\n",
       "  0.8665624856948853],\n",
       " 'val_loss': [0.4788280129432678,\n",
       "  0.4576174020767212,\n",
       "  0.4447906017303467,\n",
       "  0.43540793657302856,\n",
       "  0.425968736410141,\n",
       "  0.417601078748703,\n",
       "  0.40850895643234253,\n",
       "  0.39838337898254395,\n",
       "  0.38780131936073303,\n",
       "  0.37975192070007324,\n",
       "  0.37303391098976135,\n",
       "  0.36876538395881653,\n",
       "  0.366047203540802,\n",
       "  0.36260417103767395,\n",
       "  0.3615269064903259,\n",
       "  0.35982105135917664,\n",
       "  0.3589399755001068,\n",
       "  0.3581188917160034,\n",
       "  0.35771074891090393,\n",
       "  0.3569304645061493,\n",
       "  0.35833510756492615,\n",
       "  0.35601094365119934,\n",
       "  0.3560774624347687,\n",
       "  0.35686013102531433,\n",
       "  0.35558363795280457,\n",
       "  0.35542845726013184,\n",
       "  0.3559962213039398,\n",
       "  0.35534557700157166,\n",
       "  0.35511597990989685,\n",
       "  0.356662392616272,\n",
       "  0.3568617105484009,\n",
       "  0.3562737703323364,\n",
       "  0.3549841344356537,\n",
       "  0.3564409017562866,\n",
       "  0.3570871353149414,\n",
       "  0.3541206419467926,\n",
       "  0.3541422188282013,\n",
       "  0.35404765605926514,\n",
       "  0.35514017939567566,\n",
       "  0.35377568006515503,\n",
       "  0.3538326621055603,\n",
       "  0.3539619743824005,\n",
       "  0.3533962666988373,\n",
       "  0.3534693121910095,\n",
       "  0.35399603843688965,\n",
       "  0.35279473662376404,\n",
       "  0.35307541489601135,\n",
       "  0.3530459702014923,\n",
       "  0.35312145948410034,\n",
       "  0.3533667027950287],\n",
       " 'val_accuracy': [0.796875,\n",
       "  0.796875,\n",
       "  0.8031250238418579,\n",
       "  0.8087499737739563,\n",
       "  0.8181250095367432,\n",
       "  0.8237500190734863,\n",
       "  0.8262500166893005,\n",
       "  0.8318750262260437,\n",
       "  0.8349999785423279,\n",
       "  0.8387500047683716,\n",
       "  0.8412500023841858,\n",
       "  0.8462499976158142,\n",
       "  0.8462499976158142,\n",
       "  0.8487499952316284,\n",
       "  0.8512499928474426,\n",
       "  0.8525000214576721,\n",
       "  0.8537499904632568,\n",
       "  0.856249988079071,\n",
       "  0.8543750047683716,\n",
       "  0.8568750023841858,\n",
       "  0.8556249737739563,\n",
       "  0.8587499856948853,\n",
       "  0.859375,\n",
       "  0.8575000166893005,\n",
       "  0.8568750023841858,\n",
       "  0.859375,\n",
       "  0.8606250286102295,\n",
       "  0.8581249713897705,\n",
       "  0.8600000143051147,\n",
       "  0.8600000143051147,\n",
       "  0.859375,\n",
       "  0.8600000143051147,\n",
       "  0.859375,\n",
       "  0.8612499833106995,\n",
       "  0.8606250286102295,\n",
       "  0.8618749976158142,\n",
       "  0.8618749976158142,\n",
       "  0.859375,\n",
       "  0.8575000166893005,\n",
       "  0.8568750023841858,\n",
       "  0.8575000166893005,\n",
       "  0.8612499833106995,\n",
       "  0.8618749976158142,\n",
       "  0.8600000143051147,\n",
       "  0.8612499833106995,\n",
       "  0.8587499856948853,\n",
       "  0.8600000143051147,\n",
       "  0.8606250286102295,\n",
       "  0.859375,\n",
       "  0.8600000143051147]}"
      ]
     },
     "execution_count": 32,
     "metadata": {},
     "output_type": "execute_result"
    }
   ],
   "source": [
    "history.history"
   ]
  },
  {
   "cell_type": "code",
   "execution_count": 33,
   "metadata": {
    "execution": {
     "iopub.execute_input": "2020-09-16T14:49:18.611294Z",
     "iopub.status.busy": "2020-09-16T14:49:18.610022Z",
     "iopub.status.idle": "2020-09-16T14:49:18.792445Z",
     "shell.execute_reply": "2020-09-16T14:49:18.791625Z"
    },
    "papermill": {
     "duration": 0.35655,
     "end_time": "2020-09-16T14:49:18.792577",
     "exception": false,
     "start_time": "2020-09-16T14:49:18.436027",
     "status": "completed"
    },
    "tags": []
   },
   "outputs": [
    {
     "data": {
      "text/plain": [
       "[<matplotlib.lines.Line2D at 0x7f1dc828cfd0>]"
      ]
     },
     "execution_count": 33,
     "metadata": {},
     "output_type": "execute_result"
    },
    {
     "data": {
      "image/png": "[encoded data removed]",
      "text/plain": [
       "<Figure size 432x288 with 1 Axes>"
      ]
     },
     "metadata": {
      "needs_background": "light"
     },
     "output_type": "display_data"
    }
   ],
   "source": [
    "plt.plot(history.history['accuracy'])\n",
    "plt.plot(history.history['val_accuracy'])"
   ]
  },
  {
   "cell_type": "code",
   "execution_count": null,
   "metadata": {
    "papermill": {
     "duration": 0.162471,
     "end_time": "2020-09-16T14:49:19.132375",
     "exception": false,
     "start_time": "2020-09-16T14:49:18.969904",
     "status": "completed"
    },
    "tags": []
   },
   "outputs": [],
   "source": []
  }
 ],
 "metadata": {
  "kernelspec": {
   "display_name": "Python 3",
   "language": "python",
   "name": "python3"
  },
  "language_info": {
   "codemirror_mode": {
    "name": "ipython",
    "version": 3
   },
   "file_extension": ".py",
   "mimetype": "text/x-python",
   "name": "python",
   "nbconvert_exporter": "python",
   "pygments_lexer": "ipython3",
   "version": "3.7.6"
  },
  "papermill": {
   "duration": 34.669712,
   "end_time": "2020-09-16T14:49:19.417025",
   "environment_variables": {},
   "exception": null,
   "input_path": "__notebook__.ipynb",
   "output_path": "__notebook__.ipynb",
   "parameters": {},
   "start_time": "2020-09-16T14:48:44.747313",
   "version": "2.1.0"
  }
 },
 "nbformat": 4,
 "nbformat_minor": 4
}
